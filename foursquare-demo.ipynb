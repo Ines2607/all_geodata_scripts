{
 "cells": [
  {
   "cell_type": "code",
   "execution_count": 2,
   "metadata": {},
   "outputs": [],
   "source": [
    "import numpy as np\n",
    "import pandas as pd\n",
    "import seaborn as sns\n",
    "import geopandas as gpd\n",
    "import glob"
   ]
  },
  {
   "cell_type": "markdown",
   "metadata": {},
   "source": [
    "## Read files and keep only Israel"
   ]
  },
  {
   "cell_type": "code",
   "execution_count": null,
   "metadata": {},
   "outputs": [],
   "source": [
    "file_paths = glob.glob(\"~/path/places-*.zstd.parquet\")\n",
    "country_code = 'IL'\n",
    "dataframes = []\n",
    "\n",
    "for file in file_paths:\n",
    "\n",
    "    df_part = pd.read_parquet(file)\n",
    "\n",
    "    if len(df_part.query(f\"country == {country_code}\")) > 0:\n",
    "\n",
    "        dfc = df_part.query(f\"country == {country_code}\")\n",
    "\n",
    "        dataframes.append(dfc)\n",
    "\n",
    "df = pd.concat(dataframes)"
   ]
  },
  {
   "cell_type": "code",
   "execution_count": 11,
   "metadata": {},
   "outputs": [
    {
     "data": {
      "text/plain": [
       "(132980, 28)"
      ]
     },
     "execution_count": 11,
     "metadata": {},
     "output_type": "execute_result"
    }
   ],
   "source": [
    "df.shape"
   ]
  },
  {
   "cell_type": "code",
   "execution_count": 12,
   "metadata": {},
   "outputs": [
    {
     "data": {
      "text/plain": [
       "Index(['index', 'fsq_place_id', 'name', 'latitude', 'longitude', 'address',\n",
       "       'locality', 'region', 'postcode', 'admin_region', 'post_town', 'po_box',\n",
       "       'country', 'date_created', 'date_refreshed', 'date_closed', 'tel',\n",
       "       'website', 'email', 'facebook_id', 'instagram', 'twitter',\n",
       "       'fsq_category_ids', 'fsq_category_labels', 'placemaker_url', 'bbox',\n",
       "       'geometry', 'the_geom'],\n",
       "      dtype='object')"
      ]
     },
     "execution_count": 12,
     "metadata": {},
     "output_type": "execute_result"
    }
   ],
   "source": [
    "df.columns"
   ]
  },
  {
   "cell_type": "markdown",
   "metadata": {},
   "source": [
    "#### Share of unique IDs"
   ]
  },
  {
   "cell_type": "code",
   "execution_count": null,
   "metadata": {},
   "outputs": [
    {
     "data": {
      "text/plain": [
       "0.8104151000150398"
      ]
     },
     "execution_count": 19,
     "metadata": {},
     "output_type": "execute_result"
    }
   ],
   "source": [
    "df[\"fsq_place_id\"].nunique() / df.shape[0]"
   ]
  },
  {
   "cell_type": "code",
   "execution_count": null,
   "metadata": {},
   "outputs": [
    {
     "data": {
      "text/plain": [
       "50ee8287e4b04a76a4e975af    9\n",
       "531e6ed2097d4cd7c5df06ad    9\n",
       "517f64b2e4b0ea9c7185f563    9\n",
       "5d552dc32d6ab9000867bc54    9\n",
       "4b58c249f964a5208c6928e3    9\n",
       "Name: fsq_place_id, dtype: int64"
      ]
     },
     "execution_count": 43,
     "metadata": {},
     "output_type": "execute_result"
    }
   ],
   "source": [
    "df[\"fsq_place_id\"].value_counts().head()"
   ]
  },
  {
   "cell_type": "markdown",
   "metadata": {},
   "source": [
    "# Test duplicates for one id"
   ]
  },
  {
   "cell_type": "code",
   "execution_count": null,
   "metadata": {},
   "outputs": [],
   "source": [
    "test_id = \"50ee8287e4b04a76a4e975af\""
   ]
  },
  {
   "cell_type": "code",
   "execution_count": null,
   "metadata": {},
   "outputs": [
    {
     "data": {
      "text/plain": [
       "(9, 28)"
      ]
     },
     "execution_count": 20,
     "metadata": {},
     "output_type": "execute_result"
    }
   ],
   "source": [
    "df[df[\"fsq_place_id\"] == test_id].shape"
   ]
  },
  {
   "cell_type": "code",
   "execution_count": null,
   "metadata": {},
   "outputs": [
    {
     "data": {
      "text/html": [
       "<div style=\"width:100%;\"><div style=\"position:relative;width:100%;height:0;padding-bottom:60%;\"><span style=\"color:#565656\">Make this Notebook Trusted to load map: File -> Trust Notebook</span><iframe srcdoc=\"&lt;!DOCTYPE html&gt;\n",
       "&lt;html&gt;\n",
       "&lt;head&gt;\n",
       "    \n",
       "    &lt;meta http-equiv=&quot;content-type&quot; content=&quot;text/html; charset=UTF-8&quot; /&gt;\n",
       "    \n",
       "        &lt;script&gt;\n",
       "            L_NO_TOUCH = false;\n",
       "            L_DISABLE_3D = false;\n",
       "        &lt;/script&gt;\n",
       "    \n",
       "    &lt;style&gt;html, body {width: 100%;height: 100%;margin: 0;padding: 0;}&lt;/style&gt;\n",
       "    &lt;style&gt;#map {position:absolute;top:0;bottom:0;right:0;left:0;}&lt;/style&gt;\n",
       "    &lt;script src=&quot;https://cdn.jsdelivr.net/npm/leaflet@1.9.3/dist/leaflet.js&quot;&gt;&lt;/script&gt;\n",
       "    &lt;script src=&quot;https://code.jquery.com/jquery-1.12.4.min.js&quot;&gt;&lt;/script&gt;\n",
       "    &lt;script src=&quot;https://cdn.jsdelivr.net/npm/bootstrap@5.2.2/dist/js/bootstrap.bundle.min.js&quot;&gt;&lt;/script&gt;\n",
       "    &lt;script src=&quot;https://cdnjs.cloudflare.com/ajax/libs/Leaflet.awesome-markers/2.0.2/leaflet.awesome-markers.js&quot;&gt;&lt;/script&gt;\n",
       "    &lt;link rel=&quot;stylesheet&quot; href=&quot;https://cdn.jsdelivr.net/npm/leaflet@1.9.3/dist/leaflet.css&quot;/&gt;\n",
       "    &lt;link rel=&quot;stylesheet&quot; href=&quot;https://cdn.jsdelivr.net/npm/bootstrap@5.2.2/dist/css/bootstrap.min.css&quot;/&gt;\n",
       "    &lt;link rel=&quot;stylesheet&quot; href=&quot;https://netdna.bootstrapcdn.com/bootstrap/3.0.0/css/bootstrap.min.css&quot;/&gt;\n",
       "    &lt;link rel=&quot;stylesheet&quot; href=&quot;https://cdn.jsdelivr.net/npm/@fortawesome/fontawesome-free@6.2.0/css/all.min.css&quot;/&gt;\n",
       "    &lt;link rel=&quot;stylesheet&quot; href=&quot;https://cdnjs.cloudflare.com/ajax/libs/Leaflet.awesome-markers/2.0.2/leaflet.awesome-markers.css&quot;/&gt;\n",
       "    &lt;link rel=&quot;stylesheet&quot; href=&quot;https://cdn.jsdelivr.net/gh/python-visualization/folium/folium/templates/leaflet.awesome.rotate.min.css&quot;/&gt;\n",
       "    \n",
       "            &lt;meta name=&quot;viewport&quot; content=&quot;width=device-width,\n",
       "                initial-scale=1.0, maximum-scale=1.0, user-scalable=no&quot; /&gt;\n",
       "            &lt;style&gt;\n",
       "                #map_e2d413992db40dcfa750cf309ae833da {\n",
       "                    position: relative;\n",
       "                    width: 100.0%;\n",
       "                    height: 100.0%;\n",
       "                    left: 0.0%;\n",
       "                    top: 0.0%;\n",
       "                }\n",
       "                .leaflet-container { font-size: 1rem; }\n",
       "            &lt;/style&gt;\n",
       "        \n",
       "    \n",
       "                    &lt;style&gt;\n",
       "                        .foliumtooltip {\n",
       "                            \n",
       "                        }\n",
       "                       .foliumtooltip table{\n",
       "                            margin: auto;\n",
       "                        }\n",
       "                        .foliumtooltip tr{\n",
       "                            text-align: left;\n",
       "                        }\n",
       "                        .foliumtooltip th{\n",
       "                            padding: 2px; padding-right: 8px;\n",
       "                        }\n",
       "                    &lt;/style&gt;\n",
       "            \n",
       "&lt;/head&gt;\n",
       "&lt;body&gt;\n",
       "    \n",
       "    \n",
       "            &lt;div class=&quot;folium-map&quot; id=&quot;map_e2d413992db40dcfa750cf309ae833da&quot; &gt;&lt;/div&gt;\n",
       "        \n",
       "&lt;/body&gt;\n",
       "&lt;script&gt;\n",
       "    \n",
       "    \n",
       "            var map_e2d413992db40dcfa750cf309ae833da = L.map(\n",
       "                &quot;map_e2d413992db40dcfa750cf309ae833da&quot;,\n",
       "                {\n",
       "                    center: [32.28098040050821, 34.861000743813484],\n",
       "                    crs: L.CRS.EPSG3857,\n",
       "                    zoom: 10,\n",
       "                    zoomControl: true,\n",
       "                    preferCanvas: false,\n",
       "                }\n",
       "            );\n",
       "            L.control.scale().addTo(map_e2d413992db40dcfa750cf309ae833da);\n",
       "\n",
       "            \n",
       "\n",
       "        \n",
       "    \n",
       "            var tile_layer_0ad948a98d75c929fa53e29365b210e5 = L.tileLayer(\n",
       "                &quot;https://{s}.tile.openstreetmap.org/{z}/{x}/{y}.png&quot;,\n",
       "                {&quot;attribution&quot;: &quot;Data by \\u0026copy; \\u003ca target=\\&quot;_blank\\&quot; href=\\&quot;http://openstreetmap.org\\&quot;\\u003eOpenStreetMap\\u003c/a\\u003e, under \\u003ca target=\\&quot;_blank\\&quot; href=\\&quot;http://www.openstreetmap.org/copyright\\&quot;\\u003eODbL\\u003c/a\\u003e.&quot;, &quot;detectRetina&quot;: false, &quot;maxNativeZoom&quot;: 18, &quot;maxZoom&quot;: 18, &quot;minZoom&quot;: 0, &quot;noWrap&quot;: false, &quot;opacity&quot;: 1, &quot;subdomains&quot;: &quot;abc&quot;, &quot;tms&quot;: false}\n",
       "            ).addTo(map_e2d413992db40dcfa750cf309ae833da);\n",
       "        \n",
       "    \n",
       "            map_e2d413992db40dcfa750cf309ae833da.fitBounds(\n",
       "                [[32.28098040050821, 34.861000743813484], [32.28098040050821, 34.861000743813484]],\n",
       "                {}\n",
       "            );\n",
       "        \n",
       "    \n",
       "        function geo_json_4d24466cede86b527618503ee008a199_styler(feature) {\n",
       "            switch(feature.id) {\n",
       "                default:\n",
       "                    return {&quot;color&quot;: &quot;red&quot;, &quot;fillColor&quot;: &quot;red&quot;, &quot;fillOpacity&quot;: 0.5, &quot;weight&quot;: 2};\n",
       "            }\n",
       "        }\n",
       "        function geo_json_4d24466cede86b527618503ee008a199_highlighter(feature) {\n",
       "            switch(feature.id) {\n",
       "                default:\n",
       "                    return {&quot;fillOpacity&quot;: 0.75};\n",
       "            }\n",
       "        }\n",
       "        function geo_json_4d24466cede86b527618503ee008a199_pointToLayer(feature, latlng) {\n",
       "            var opts = {&quot;bubblingMouseEvents&quot;: true, &quot;color&quot;: &quot;#3388ff&quot;, &quot;dashArray&quot;: null, &quot;dashOffset&quot;: null, &quot;fill&quot;: true, &quot;fillColor&quot;: &quot;#3388ff&quot;, &quot;fillOpacity&quot;: 0.2, &quot;fillRule&quot;: &quot;evenodd&quot;, &quot;lineCap&quot;: &quot;round&quot;, &quot;lineJoin&quot;: &quot;round&quot;, &quot;opacity&quot;: 1.0, &quot;radius&quot;: 2, &quot;stroke&quot;: true, &quot;weight&quot;: 3};\n",
       "            \n",
       "            let style = geo_json_4d24466cede86b527618503ee008a199_styler(feature)\n",
       "            Object.assign(opts, style)\n",
       "            \n",
       "            return new L.CircleMarker(latlng, opts)\n",
       "        }\n",
       "\n",
       "        function geo_json_4d24466cede86b527618503ee008a199_onEachFeature(feature, layer) {\n",
       "            layer.on({\n",
       "                mouseout: function(e) {\n",
       "                    if(typeof e.target.setStyle === &quot;function&quot;){\n",
       "                        geo_json_4d24466cede86b527618503ee008a199.resetStyle(e.target);\n",
       "                    }\n",
       "                },\n",
       "                mouseover: function(e) {\n",
       "                    if(typeof e.target.setStyle === &quot;function&quot;){\n",
       "                        const highlightStyle = geo_json_4d24466cede86b527618503ee008a199_highlighter(e.target.feature)\n",
       "                        e.target.setStyle(highlightStyle);\n",
       "                    }\n",
       "                },\n",
       "            });\n",
       "        };\n",
       "        var geo_json_4d24466cede86b527618503ee008a199 = L.geoJson(null, {\n",
       "                onEachFeature: geo_json_4d24466cede86b527618503ee008a199_onEachFeature,\n",
       "            \n",
       "                style: geo_json_4d24466cede86b527618503ee008a199_styler,\n",
       "                pointToLayer: geo_json_4d24466cede86b527618503ee008a199_pointToLayer\n",
       "        });\n",
       "\n",
       "        function geo_json_4d24466cede86b527618503ee008a199_add (data) {\n",
       "            geo_json_4d24466cede86b527618503ee008a199\n",
       "                .addData(data)\n",
       "                .addTo(map_e2d413992db40dcfa750cf309ae833da);\n",
       "        }\n",
       "            geo_json_4d24466cede86b527618503ee008a199_add({&quot;bbox&quot;: [34.861000743813484, 32.28098040050821, 34.861000743813484, 32.28098040050821], &quot;features&quot;: [{&quot;bbox&quot;: [34.861000743813484, 32.28098040050821, 34.861000743813484, 32.28098040050821], &quot;geometry&quot;: {&quot;coordinates&quot;: [34.861000743813484, 32.28098040050821], &quot;type&quot;: &quot;Point&quot;}, &quot;id&quot;: &quot;65073&quot;, &quot;properties&quot;: {&quot;__folium_color&quot;: &quot;red&quot;, &quot;address&quot;: &quot;\\u05d2\\u05d9\\u05d1\\u05d5\\u05e8\\u05d9 \\u05d9\\u05e9\\u05e8\\u05d0\\u05dc 28&quot;, &quot;admin_region&quot;: null, &quot;bbox&quot;: {&quot;xmax&quot;: 34.861000743813484, &quot;xmin&quot;: 34.861000743813484, &quot;ymax&quot;: 32.28098040050821, &quot;ymin&quot;: 32.28098040050821}, &quot;country&quot;: &quot;IL&quot;, &quot;date_closed&quot;: null, &quot;date_created&quot;: &quot;2013-01-10&quot;, &quot;date_refreshed&quot;: &quot;2014-07-10&quot;, &quot;email&quot;: &quot;rabinafur@gmail.com&quot;, &quot;facebook_id&quot;: 114043685333879.0, &quot;fsq_category_ids&quot;: &quot;4bf58dd8d48988d121951735&quot;, &quot;fsq_category_labels&quot;: &quot;Retail \\u003e Office Supply Store&quot;, &quot;fsq_place_id&quot;: &quot;50ee8287e4b04a76a4e975af&quot;, &quot;index&quot;: 262851, &quot;instagram&quot;: null, &quot;latitude&quot;: 32.28098040050821, &quot;locality&quot;: &quot;Netanya&quot;, &quot;longitude&quot;: 34.861000743813484, &quot;name&quot;: &quot;\\u05e8\\u05d1\\u05d9\\u05e0\\u05d0 \\u05e8\\u05d9\\u05d4\\u05d5\\u05d8 \\u05d5\\u05e6\\u05d9\\u05d5\\u05d3 \\u05de\\u05e9\\u05e8\\u05d3\\u05d9&quot;, &quot;placemaker_url&quot;: &quot;https://foursquare.com/placemakers/review-place/50ee8287e4b04a76a4e975af&quot;, &quot;po_box&quot;: null, &quot;post_town&quot;: null, &quot;postcode&quot;: &quot;4250424&quot;, &quot;region&quot;: null, &quot;tel&quot;: &quot;09-885-1388&quot;, &quot;twitter&quot;: null, &quot;website&quot;: &quot;http://www.rabina.co.il&quot;}, &quot;type&quot;: &quot;Feature&quot;}, {&quot;bbox&quot;: [34.861000743813484, 32.28098040050821, 34.861000743813484, 32.28098040050821], &quot;geometry&quot;: {&quot;coordinates&quot;: [34.861000743813484, 32.28098040050821], &quot;type&quot;: &quot;Point&quot;}, &quot;id&quot;: &quot;65074&quot;, &quot;properties&quot;: {&quot;__folium_color&quot;: &quot;red&quot;, &quot;address&quot;: &quot;\\u05d2\\u05d9\\u05d1\\u05d5\\u05e8\\u05d9 \\u05d9\\u05e9\\u05e8\\u05d0\\u05dc 28&quot;, &quot;admin_region&quot;: null, &quot;bbox&quot;: {&quot;xmax&quot;: 34.861000743813484, &quot;xmin&quot;: 34.861000743813484, &quot;ymax&quot;: 32.28098040050821, &quot;ymin&quot;: 32.28098040050821}, &quot;country&quot;: &quot;IL&quot;, &quot;date_closed&quot;: null, &quot;date_created&quot;: &quot;2013-01-10&quot;, &quot;date_refreshed&quot;: &quot;2014-07-10&quot;, &quot;email&quot;: &quot;rabinafur@gmail.com&quot;, &quot;facebook_id&quot;: 114043685333879.0, &quot;fsq_category_ids&quot;: &quot;4bf58dd8d48988d121951735&quot;, &quot;fsq_category_labels&quot;: &quot;Retail \\u003e Furniture and Home Store&quot;, &quot;fsq_place_id&quot;: &quot;50ee8287e4b04a76a4e975af&quot;, &quot;index&quot;: 262851, &quot;instagram&quot;: null, &quot;latitude&quot;: 32.28098040050821, &quot;locality&quot;: &quot;Netanya&quot;, &quot;longitude&quot;: 34.861000743813484, &quot;name&quot;: &quot;\\u05e8\\u05d1\\u05d9\\u05e0\\u05d0 \\u05e8\\u05d9\\u05d4\\u05d5\\u05d8 \\u05d5\\u05e6\\u05d9\\u05d5\\u05d3 \\u05de\\u05e9\\u05e8\\u05d3\\u05d9&quot;, &quot;placemaker_url&quot;: &quot;https://foursquare.com/placemakers/review-place/50ee8287e4b04a76a4e975af&quot;, &quot;po_box&quot;: null, &quot;post_town&quot;: null, &quot;postcode&quot;: &quot;4250424&quot;, &quot;region&quot;: null, &quot;tel&quot;: &quot;09-885-1388&quot;, &quot;twitter&quot;: null, &quot;website&quot;: &quot;http://www.rabina.co.il&quot;}, &quot;type&quot;: &quot;Feature&quot;}, {&quot;bbox&quot;: [34.861000743813484, 32.28098040050821, 34.861000743813484, 32.28098040050821], &quot;geometry&quot;: {&quot;coordinates&quot;: [34.861000743813484, 32.28098040050821], &quot;type&quot;: &quot;Point&quot;}, &quot;id&quot;: &quot;65075&quot;, &quot;properties&quot;: {&quot;__folium_color&quot;: &quot;red&quot;, &quot;address&quot;: &quot;\\u05d2\\u05d9\\u05d1\\u05d5\\u05e8\\u05d9 \\u05d9\\u05e9\\u05e8\\u05d0\\u05dc 28&quot;, &quot;admin_region&quot;: null, &quot;bbox&quot;: {&quot;xmax&quot;: 34.861000743813484, &quot;xmin&quot;: 34.861000743813484, &quot;ymax&quot;: 32.28098040050821, &quot;ymin&quot;: 32.28098040050821}, &quot;country&quot;: &quot;IL&quot;, &quot;date_closed&quot;: null, &quot;date_created&quot;: &quot;2013-01-10&quot;, &quot;date_refreshed&quot;: &quot;2014-07-10&quot;, &quot;email&quot;: &quot;rabinafur@gmail.com&quot;, &quot;facebook_id&quot;: 114043685333879.0, &quot;fsq_category_ids&quot;: &quot;4bf58dd8d48988d121951735&quot;, &quot;fsq_category_labels&quot;: &quot;Retail \\u003e Stationery Store&quot;, &quot;fsq_place_id&quot;: &quot;50ee8287e4b04a76a4e975af&quot;, &quot;index&quot;: 262851, &quot;instagram&quot;: null, &quot;latitude&quot;: 32.28098040050821, &quot;locality&quot;: &quot;Netanya&quot;, &quot;longitude&quot;: 34.861000743813484, &quot;name&quot;: &quot;\\u05e8\\u05d1\\u05d9\\u05e0\\u05d0 \\u05e8\\u05d9\\u05d4\\u05d5\\u05d8 \\u05d5\\u05e6\\u05d9\\u05d5\\u05d3 \\u05de\\u05e9\\u05e8\\u05d3\\u05d9&quot;, &quot;placemaker_url&quot;: &quot;https://foursquare.com/placemakers/review-place/50ee8287e4b04a76a4e975af&quot;, &quot;po_box&quot;: null, &quot;post_town&quot;: null, &quot;postcode&quot;: &quot;4250424&quot;, &quot;region&quot;: null, &quot;tel&quot;: &quot;09-885-1388&quot;, &quot;twitter&quot;: null, &quot;website&quot;: &quot;http://www.rabina.co.il&quot;}, &quot;type&quot;: &quot;Feature&quot;}, {&quot;bbox&quot;: [34.861000743813484, 32.28098040050821, 34.861000743813484, 32.28098040050821], &quot;geometry&quot;: {&quot;coordinates&quot;: [34.861000743813484, 32.28098040050821], &quot;type&quot;: &quot;Point&quot;}, &quot;id&quot;: &quot;65076&quot;, &quot;properties&quot;: {&quot;__folium_color&quot;: &quot;red&quot;, &quot;address&quot;: &quot;\\u05d2\\u05d9\\u05d1\\u05d5\\u05e8\\u05d9 \\u05d9\\u05e9\\u05e8\\u05d0\\u05dc 28&quot;, &quot;admin_region&quot;: null, &quot;bbox&quot;: {&quot;xmax&quot;: 34.861000743813484, &quot;xmin&quot;: 34.861000743813484, &quot;ymax&quot;: 32.28098040050821, &quot;ymin&quot;: 32.28098040050821}, &quot;country&quot;: &quot;IL&quot;, &quot;date_closed&quot;: null, &quot;date_created&quot;: &quot;2013-01-10&quot;, &quot;date_refreshed&quot;: &quot;2014-07-10&quot;, &quot;email&quot;: &quot;rabinafur@gmail.com&quot;, &quot;facebook_id&quot;: 114043685333879.0, &quot;fsq_category_ids&quot;: &quot;4bf58dd8d48988d1f8941735&quot;, &quot;fsq_category_labels&quot;: &quot;Retail \\u003e Office Supply Store&quot;, &quot;fsq_place_id&quot;: &quot;50ee8287e4b04a76a4e975af&quot;, &quot;index&quot;: 262851, &quot;instagram&quot;: null, &quot;latitude&quot;: 32.28098040050821, &quot;locality&quot;: &quot;Netanya&quot;, &quot;longitude&quot;: 34.861000743813484, &quot;name&quot;: &quot;\\u05e8\\u05d1\\u05d9\\u05e0\\u05d0 \\u05e8\\u05d9\\u05d4\\u05d5\\u05d8 \\u05d5\\u05e6\\u05d9\\u05d5\\u05d3 \\u05de\\u05e9\\u05e8\\u05d3\\u05d9&quot;, &quot;placemaker_url&quot;: &quot;https://foursquare.com/placemakers/review-place/50ee8287e4b04a76a4e975af&quot;, &quot;po_box&quot;: null, &quot;post_town&quot;: null, &quot;postcode&quot;: &quot;4250424&quot;, &quot;region&quot;: null, &quot;tel&quot;: &quot;09-885-1388&quot;, &quot;twitter&quot;: null, &quot;website&quot;: &quot;http://www.rabina.co.il&quot;}, &quot;type&quot;: &quot;Feature&quot;}, {&quot;bbox&quot;: [34.861000743813484, 32.28098040050821, 34.861000743813484, 32.28098040050821], &quot;geometry&quot;: {&quot;coordinates&quot;: [34.861000743813484, 32.28098040050821], &quot;type&quot;: &quot;Point&quot;}, &quot;id&quot;: &quot;65077&quot;, &quot;properties&quot;: {&quot;__folium_color&quot;: &quot;red&quot;, &quot;address&quot;: &quot;\\u05d2\\u05d9\\u05d1\\u05d5\\u05e8\\u05d9 \\u05d9\\u05e9\\u05e8\\u05d0\\u05dc 28&quot;, &quot;admin_region&quot;: null, &quot;bbox&quot;: {&quot;xmax&quot;: 34.861000743813484, &quot;xmin&quot;: 34.861000743813484, &quot;ymax&quot;: 32.28098040050821, &quot;ymin&quot;: 32.28098040050821}, &quot;country&quot;: &quot;IL&quot;, &quot;date_closed&quot;: null, &quot;date_created&quot;: &quot;2013-01-10&quot;, &quot;date_refreshed&quot;: &quot;2014-07-10&quot;, &quot;email&quot;: &quot;rabinafur@gmail.com&quot;, &quot;facebook_id&quot;: 114043685333879.0, &quot;fsq_category_ids&quot;: &quot;4bf58dd8d48988d1f8941735&quot;, &quot;fsq_category_labels&quot;: &quot;Retail \\u003e Furniture and Home Store&quot;, &quot;fsq_place_id&quot;: &quot;50ee8287e4b04a76a4e975af&quot;, &quot;index&quot;: 262851, &quot;instagram&quot;: null, &quot;latitude&quot;: 32.28098040050821, &quot;locality&quot;: &quot;Netanya&quot;, &quot;longitude&quot;: 34.861000743813484, &quot;name&quot;: &quot;\\u05e8\\u05d1\\u05d9\\u05e0\\u05d0 \\u05e8\\u05d9\\u05d4\\u05d5\\u05d8 \\u05d5\\u05e6\\u05d9\\u05d5\\u05d3 \\u05de\\u05e9\\u05e8\\u05d3\\u05d9&quot;, &quot;placemaker_url&quot;: &quot;https://foursquare.com/placemakers/review-place/50ee8287e4b04a76a4e975af&quot;, &quot;po_box&quot;: null, &quot;post_town&quot;: null, &quot;postcode&quot;: &quot;4250424&quot;, &quot;region&quot;: null, &quot;tel&quot;: &quot;09-885-1388&quot;, &quot;twitter&quot;: null, &quot;website&quot;: &quot;http://www.rabina.co.il&quot;}, &quot;type&quot;: &quot;Feature&quot;}, {&quot;bbox&quot;: [34.861000743813484, 32.28098040050821, 34.861000743813484, 32.28098040050821], &quot;geometry&quot;: {&quot;coordinates&quot;: [34.861000743813484, 32.28098040050821], &quot;type&quot;: &quot;Point&quot;}, &quot;id&quot;: &quot;65078&quot;, &quot;properties&quot;: {&quot;__folium_color&quot;: &quot;red&quot;, &quot;address&quot;: &quot;\\u05d2\\u05d9\\u05d1\\u05d5\\u05e8\\u05d9 \\u05d9\\u05e9\\u05e8\\u05d0\\u05dc 28&quot;, &quot;admin_region&quot;: null, &quot;bbox&quot;: {&quot;xmax&quot;: 34.861000743813484, &quot;xmin&quot;: 34.861000743813484, &quot;ymax&quot;: 32.28098040050821, &quot;ymin&quot;: 32.28098040050821}, &quot;country&quot;: &quot;IL&quot;, &quot;date_closed&quot;: null, &quot;date_created&quot;: &quot;2013-01-10&quot;, &quot;date_refreshed&quot;: &quot;2014-07-10&quot;, &quot;email&quot;: &quot;rabinafur@gmail.com&quot;, &quot;facebook_id&quot;: 114043685333879.0, &quot;fsq_category_ids&quot;: &quot;4bf58dd8d48988d1f8941735&quot;, &quot;fsq_category_labels&quot;: &quot;Retail \\u003e Stationery Store&quot;, &quot;fsq_place_id&quot;: &quot;50ee8287e4b04a76a4e975af&quot;, &quot;index&quot;: 262851, &quot;instagram&quot;: null, &quot;latitude&quot;: 32.28098040050821, &quot;locality&quot;: &quot;Netanya&quot;, &quot;longitude&quot;: 34.861000743813484, &quot;name&quot;: &quot;\\u05e8\\u05d1\\u05d9\\u05e0\\u05d0 \\u05e8\\u05d9\\u05d4\\u05d5\\u05d8 \\u05d5\\u05e6\\u05d9\\u05d5\\u05d3 \\u05de\\u05e9\\u05e8\\u05d3\\u05d9&quot;, &quot;placemaker_url&quot;: &quot;https://foursquare.com/placemakers/review-place/50ee8287e4b04a76a4e975af&quot;, &quot;po_box&quot;: null, &quot;post_town&quot;: null, &quot;postcode&quot;: &quot;4250424&quot;, &quot;region&quot;: null, &quot;tel&quot;: &quot;09-885-1388&quot;, &quot;twitter&quot;: null, &quot;website&quot;: &quot;http://www.rabina.co.il&quot;}, &quot;type&quot;: &quot;Feature&quot;}, {&quot;bbox&quot;: [34.861000743813484, 32.28098040050821, 34.861000743813484, 32.28098040050821], &quot;geometry&quot;: {&quot;coordinates&quot;: [34.861000743813484, 32.28098040050821], &quot;type&quot;: &quot;Point&quot;}, &quot;id&quot;: &quot;65079&quot;, &quot;properties&quot;: {&quot;__folium_color&quot;: &quot;red&quot;, &quot;address&quot;: &quot;\\u05d2\\u05d9\\u05d1\\u05d5\\u05e8\\u05d9 \\u05d9\\u05e9\\u05e8\\u05d0\\u05dc 28&quot;, &quot;admin_region&quot;: null, &quot;bbox&quot;: {&quot;xmax&quot;: 34.861000743813484, &quot;xmin&quot;: 34.861000743813484, &quot;ymax&quot;: 32.28098040050821, &quot;ymin&quot;: 32.28098040050821}, &quot;country&quot;: &quot;IL&quot;, &quot;date_closed&quot;: null, &quot;date_created&quot;: &quot;2013-01-10&quot;, &quot;date_refreshed&quot;: &quot;2014-07-10&quot;, &quot;email&quot;: &quot;rabinafur@gmail.com&quot;, &quot;facebook_id&quot;: 114043685333879.0, &quot;fsq_category_ids&quot;: &quot;52f2ab2ebcbc57f1066b8b21&quot;, &quot;fsq_category_labels&quot;: &quot;Retail \\u003e Office Supply Store&quot;, &quot;fsq_place_id&quot;: &quot;50ee8287e4b04a76a4e975af&quot;, &quot;index&quot;: 262851, &quot;instagram&quot;: null, &quot;latitude&quot;: 32.28098040050821, &quot;locality&quot;: &quot;Netanya&quot;, &quot;longitude&quot;: 34.861000743813484, &quot;name&quot;: &quot;\\u05e8\\u05d1\\u05d9\\u05e0\\u05d0 \\u05e8\\u05d9\\u05d4\\u05d5\\u05d8 \\u05d5\\u05e6\\u05d9\\u05d5\\u05d3 \\u05de\\u05e9\\u05e8\\u05d3\\u05d9&quot;, &quot;placemaker_url&quot;: &quot;https://foursquare.com/placemakers/review-place/50ee8287e4b04a76a4e975af&quot;, &quot;po_box&quot;: null, &quot;post_town&quot;: null, &quot;postcode&quot;: &quot;4250424&quot;, &quot;region&quot;: null, &quot;tel&quot;: &quot;09-885-1388&quot;, &quot;twitter&quot;: null, &quot;website&quot;: &quot;http://www.rabina.co.il&quot;}, &quot;type&quot;: &quot;Feature&quot;}, {&quot;bbox&quot;: [34.861000743813484, 32.28098040050821, 34.861000743813484, 32.28098040050821], &quot;geometry&quot;: {&quot;coordinates&quot;: [34.861000743813484, 32.28098040050821], &quot;type&quot;: &quot;Point&quot;}, &quot;id&quot;: &quot;65080&quot;, &quot;properties&quot;: {&quot;__folium_color&quot;: &quot;red&quot;, &quot;address&quot;: &quot;\\u05d2\\u05d9\\u05d1\\u05d5\\u05e8\\u05d9 \\u05d9\\u05e9\\u05e8\\u05d0\\u05dc 28&quot;, &quot;admin_region&quot;: null, &quot;bbox&quot;: {&quot;xmax&quot;: 34.861000743813484, &quot;xmin&quot;: 34.861000743813484, &quot;ymax&quot;: 32.28098040050821, &quot;ymin&quot;: 32.28098040050821}, &quot;country&quot;: &quot;IL&quot;, &quot;date_closed&quot;: null, &quot;date_created&quot;: &quot;2013-01-10&quot;, &quot;date_refreshed&quot;: &quot;2014-07-10&quot;, &quot;email&quot;: &quot;rabinafur@gmail.com&quot;, &quot;facebook_id&quot;: 114043685333879.0, &quot;fsq_category_ids&quot;: &quot;52f2ab2ebcbc57f1066b8b21&quot;, &quot;fsq_category_labels&quot;: &quot;Retail \\u003e Furniture and Home Store&quot;, &quot;fsq_place_id&quot;: &quot;50ee8287e4b04a76a4e975af&quot;, &quot;index&quot;: 262851, &quot;instagram&quot;: null, &quot;latitude&quot;: 32.28098040050821, &quot;locality&quot;: &quot;Netanya&quot;, &quot;longitude&quot;: 34.861000743813484, &quot;name&quot;: &quot;\\u05e8\\u05d1\\u05d9\\u05e0\\u05d0 \\u05e8\\u05d9\\u05d4\\u05d5\\u05d8 \\u05d5\\u05e6\\u05d9\\u05d5\\u05d3 \\u05de\\u05e9\\u05e8\\u05d3\\u05d9&quot;, &quot;placemaker_url&quot;: &quot;https://foursquare.com/placemakers/review-place/50ee8287e4b04a76a4e975af&quot;, &quot;po_box&quot;: null, &quot;post_town&quot;: null, &quot;postcode&quot;: &quot;4250424&quot;, &quot;region&quot;: null, &quot;tel&quot;: &quot;09-885-1388&quot;, &quot;twitter&quot;: null, &quot;website&quot;: &quot;http://www.rabina.co.il&quot;}, &quot;type&quot;: &quot;Feature&quot;}, {&quot;bbox&quot;: [34.861000743813484, 32.28098040050821, 34.861000743813484, 32.28098040050821], &quot;geometry&quot;: {&quot;coordinates&quot;: [34.861000743813484, 32.28098040050821], &quot;type&quot;: &quot;Point&quot;}, &quot;id&quot;: &quot;65081&quot;, &quot;properties&quot;: {&quot;__folium_color&quot;: &quot;red&quot;, &quot;address&quot;: &quot;\\u05d2\\u05d9\\u05d1\\u05d5\\u05e8\\u05d9 \\u05d9\\u05e9\\u05e8\\u05d0\\u05dc 28&quot;, &quot;admin_region&quot;: null, &quot;bbox&quot;: {&quot;xmax&quot;: 34.861000743813484, &quot;xmin&quot;: 34.861000743813484, &quot;ymax&quot;: 32.28098040050821, &quot;ymin&quot;: 32.28098040050821}, &quot;country&quot;: &quot;IL&quot;, &quot;date_closed&quot;: null, &quot;date_created&quot;: &quot;2013-01-10&quot;, &quot;date_refreshed&quot;: &quot;2014-07-10&quot;, &quot;email&quot;: &quot;rabinafur@gmail.com&quot;, &quot;facebook_id&quot;: 114043685333879.0, &quot;fsq_category_ids&quot;: &quot;52f2ab2ebcbc57f1066b8b21&quot;, &quot;fsq_category_labels&quot;: &quot;Retail \\u003e Stationery Store&quot;, &quot;fsq_place_id&quot;: &quot;50ee8287e4b04a76a4e975af&quot;, &quot;index&quot;: 262851, &quot;instagram&quot;: null, &quot;latitude&quot;: 32.28098040050821, &quot;locality&quot;: &quot;Netanya&quot;, &quot;longitude&quot;: 34.861000743813484, &quot;name&quot;: &quot;\\u05e8\\u05d1\\u05d9\\u05e0\\u05d0 \\u05e8\\u05d9\\u05d4\\u05d5\\u05d8 \\u05d5\\u05e6\\u05d9\\u05d5\\u05d3 \\u05de\\u05e9\\u05e8\\u05d3\\u05d9&quot;, &quot;placemaker_url&quot;: &quot;https://foursquare.com/placemakers/review-place/50ee8287e4b04a76a4e975af&quot;, &quot;po_box&quot;: null, &quot;post_town&quot;: null, &quot;postcode&quot;: &quot;4250424&quot;, &quot;region&quot;: null, &quot;tel&quot;: &quot;09-885-1388&quot;, &quot;twitter&quot;: null, &quot;website&quot;: &quot;http://www.rabina.co.il&quot;}, &quot;type&quot;: &quot;Feature&quot;}], &quot;type&quot;: &quot;FeatureCollection&quot;});\n",
       "\n",
       "        \n",
       "    \n",
       "    geo_json_4d24466cede86b527618503ee008a199.bindTooltip(\n",
       "    function(layer){\n",
       "    let div = L.DomUtil.create(&#x27;div&#x27;);\n",
       "    \n",
       "    let handleObject = feature=&gt;typeof(feature)==&#x27;object&#x27; ? JSON.stringify(feature) : feature;\n",
       "    let fields = [&quot;index&quot;, &quot;fsq_place_id&quot;, &quot;name&quot;, &quot;latitude&quot;, &quot;longitude&quot;, &quot;address&quot;, &quot;locality&quot;, &quot;region&quot;, &quot;postcode&quot;, &quot;admin_region&quot;, &quot;post_town&quot;, &quot;po_box&quot;, &quot;country&quot;, &quot;date_created&quot;, &quot;date_refreshed&quot;, &quot;date_closed&quot;, &quot;tel&quot;, &quot;website&quot;, &quot;email&quot;, &quot;facebook_id&quot;, &quot;instagram&quot;, &quot;twitter&quot;, &quot;fsq_category_ids&quot;, &quot;fsq_category_labels&quot;, &quot;placemaker_url&quot;, &quot;bbox&quot;];\n",
       "    let aliases = [&quot;index&quot;, &quot;fsq_place_id&quot;, &quot;name&quot;, &quot;latitude&quot;, &quot;longitude&quot;, &quot;address&quot;, &quot;locality&quot;, &quot;region&quot;, &quot;postcode&quot;, &quot;admin_region&quot;, &quot;post_town&quot;, &quot;po_box&quot;, &quot;country&quot;, &quot;date_created&quot;, &quot;date_refreshed&quot;, &quot;date_closed&quot;, &quot;tel&quot;, &quot;website&quot;, &quot;email&quot;, &quot;facebook_id&quot;, &quot;instagram&quot;, &quot;twitter&quot;, &quot;fsq_category_ids&quot;, &quot;fsq_category_labels&quot;, &quot;placemaker_url&quot;, &quot;bbox&quot;];\n",
       "    let table = &#x27;&lt;table&gt;&#x27; +\n",
       "        String(\n",
       "        fields.map(\n",
       "        (v,i)=&gt;\n",
       "        `&lt;tr&gt;\n",
       "            &lt;th&gt;${aliases[i]}&lt;/th&gt;\n",
       "            \n",
       "            &lt;td&gt;${handleObject(layer.feature.properties[v])}&lt;/td&gt;\n",
       "        &lt;/tr&gt;`).join(&#x27;&#x27;))\n",
       "    +&#x27;&lt;/table&gt;&#x27;;\n",
       "    div.innerHTML=table;\n",
       "    \n",
       "    return div\n",
       "    }\n",
       "    ,{&quot;className&quot;: &quot;foliumtooltip&quot;, &quot;sticky&quot;: true});\n",
       "                     \n",
       "&lt;/script&gt;\n",
       "&lt;/html&gt;\" style=\"position:absolute;width:100%;height:100%;left:0;top:0;border:none !important;\" allowfullscreen webkitallowfullscreen mozallowfullscreen></iframe></div></div>"
      ],
      "text/plain": [
       "<folium.folium.Map at 0x2c90ad900>"
      ]
     },
     "execution_count": 23,
     "metadata": {},
     "output_type": "execute_result"
    }
   ],
   "source": [
    "df[df[\"fsq_place_id\"] == test_id].explore(color=\"red\")"
   ]
  },
  {
   "cell_type": "code",
   "execution_count": null,
   "metadata": {},
   "outputs": [
    {
     "data": {
      "text/plain": [
       "Landmarks and Outdoors > Historic and Protected Site    3\n",
       "Community and Government > Spiritual Center             3\n",
       "Arts and Entertainment > Museum > History Museum        3\n",
       "Name: fsq_category_labels, dtype: int64"
      ]
     },
     "execution_count": 44,
     "metadata": {},
     "output_type": "execute_result"
    }
   ],
   "source": [
    "df[df[\"fsq_place_id\"] == test_id][\"fsq_category_labels\"].value_counts()"
   ]
  },
  {
   "cell_type": "code",
   "execution_count": null,
   "metadata": {},
   "outputs": [
    {
     "data": {
      "text/plain": [
       "65073    https://foursquare.com/placemakers/review-plac...\n",
       "Name: placemaker_url, dtype: object"
      ]
     },
     "execution_count": 27,
     "metadata": {},
     "output_type": "execute_result"
    }
   ],
   "source": [
    "df[df[\"fsq_place_id\"] == test_id][\"placemaker_url\"].drop_duplicates()"
   ]
  },
  {
   "cell_type": "markdown",
   "metadata": {},
   "source": [
    "#### Number of unique values for each columns"
   ]
  },
  {
   "cell_type": "code",
   "execution_count": null,
   "metadata": {},
   "outputs": [
    {
     "data": {
      "text/html": [
       "<div>\n",
       "<style scoped>\n",
       "    .dataframe tbody tr th:only-of-type {\n",
       "        vertical-align: middle;\n",
       "    }\n",
       "\n",
       "    .dataframe tbody tr th {\n",
       "        vertical-align: top;\n",
       "    }\n",
       "\n",
       "    .dataframe thead th {\n",
       "        text-align: right;\n",
       "    }\n",
       "</style>\n",
       "<table border=\"1\" class=\"dataframe\">\n",
       "  <thead>\n",
       "    <tr style=\"text-align: right;\">\n",
       "      <th></th>\n",
       "      <th>index</th>\n",
       "      <th>fsq_place_id</th>\n",
       "      <th>name</th>\n",
       "      <th>latitude</th>\n",
       "      <th>longitude</th>\n",
       "      <th>address</th>\n",
       "      <th>locality</th>\n",
       "      <th>region</th>\n",
       "      <th>postcode</th>\n",
       "      <th>admin_region</th>\n",
       "      <th>...</th>\n",
       "      <th>tel</th>\n",
       "      <th>website</th>\n",
       "      <th>email</th>\n",
       "      <th>facebook_id</th>\n",
       "      <th>instagram</th>\n",
       "      <th>twitter</th>\n",
       "      <th>fsq_category_ids</th>\n",
       "      <th>fsq_category_labels</th>\n",
       "      <th>placemaker_url</th>\n",
       "      <th>empty_fields_share</th>\n",
       "    </tr>\n",
       "  </thead>\n",
       "  <tbody>\n",
       "    <tr>\n",
       "      <th>0</th>\n",
       "      <td>1</td>\n",
       "      <td>1</td>\n",
       "      <td>1</td>\n",
       "      <td>1</td>\n",
       "      <td>1</td>\n",
       "      <td>1</td>\n",
       "      <td>1</td>\n",
       "      <td>0</td>\n",
       "      <td>1</td>\n",
       "      <td>0</td>\n",
       "      <td>...</td>\n",
       "      <td>1</td>\n",
       "      <td>1</td>\n",
       "      <td>1</td>\n",
       "      <td>1</td>\n",
       "      <td>0</td>\n",
       "      <td>1</td>\n",
       "      <td>3</td>\n",
       "      <td>3</td>\n",
       "      <td>1</td>\n",
       "      <td>1</td>\n",
       "    </tr>\n",
       "  </tbody>\n",
       "</table>\n",
       "<p>1 rows × 26 columns</p>\n",
       "</div>"
      ],
      "text/plain": [
       "   index  fsq_place_id  name  latitude  longitude  address  locality  region  \\\n",
       "0      1             1     1         1          1        1         1       0   \n",
       "\n",
       "   postcode  admin_region  ...  tel  website  email  facebook_id  instagram  \\\n",
       "0         1             0  ...    1        1      1            1          0   \n",
       "\n",
       "   twitter  fsq_category_ids  fsq_category_labels  placemaker_url  \\\n",
       "0        1                 3                    3               1   \n",
       "\n",
       "   empty_fields_share  \n",
       "0                   1  \n",
       "\n",
       "[1 rows x 26 columns]"
      ]
     },
     "execution_count": 45,
     "metadata": {},
     "output_type": "execute_result"
    }
   ],
   "source": [
    "df[df[\"fsq_place_id\"] == test_id].drop(\n",
    "    [\"bbox\", \"geometry\", \"the_geom\"], axis=1\n",
    ").nunique().to_frame().T"
   ]
  },
  {
   "cell_type": "markdown",
   "metadata": {},
   "source": [
    "#### Check if the same id was created or updated at the same time"
   ]
  },
  {
   "cell_type": "code",
   "execution_count": null,
   "metadata": {},
   "outputs": [
    {
     "data": {
      "text/html": [
       "<div>\n",
       "<style scoped>\n",
       "    .dataframe tbody tr th:only-of-type {\n",
       "        vertical-align: middle;\n",
       "    }\n",
       "\n",
       "    .dataframe tbody tr th {\n",
       "        vertical-align: top;\n",
       "    }\n",
       "\n",
       "    .dataframe thead th {\n",
       "        text-align: right;\n",
       "    }\n",
       "</style>\n",
       "<table border=\"1\" class=\"dataframe\">\n",
       "  <thead>\n",
       "    <tr style=\"text-align: right;\">\n",
       "      <th></th>\n",
       "      <th>date_created</th>\n",
       "      <th>date_refreshed</th>\n",
       "    </tr>\n",
       "  </thead>\n",
       "  <tbody>\n",
       "    <tr>\n",
       "      <th>65073</th>\n",
       "      <td>2013-01-10</td>\n",
       "      <td>2014-07-10</td>\n",
       "    </tr>\n",
       "  </tbody>\n",
       "</table>\n",
       "</div>"
      ],
      "text/plain": [
       "      date_created date_refreshed\n",
       "65073   2013-01-10     2014-07-10"
      ]
     },
     "execution_count": 48,
     "metadata": {},
     "output_type": "execute_result"
    }
   ],
   "source": [
    "df[df[\"fsq_place_id\"] == test_id][[\"date_created\", \"date_refreshed\"]].drop_duplicates()"
   ]
  },
  {
   "cell_type": "markdown",
   "metadata": {},
   "source": [
    "#### Check if the same id have different ratio of filled values"
   ]
  },
  {
   "cell_type": "code",
   "execution_count": 40,
   "metadata": {},
   "outputs": [],
   "source": [
    "df[\"empty_fields_share\"] = df.isnull().mean(axis=1)"
   ]
  },
  {
   "cell_type": "code",
   "execution_count": null,
   "metadata": {},
   "outputs": [
    {
     "data": {
      "text/plain": [
       "array([0.25])"
      ]
     },
     "execution_count": 49,
     "metadata": {},
     "output_type": "execute_result"
    }
   ],
   "source": [
    "df[df[\"fsq_place_id\"] == test_id][\"empty_fields_share\"].unique()"
   ]
  },
  {
   "cell_type": "markdown",
   "metadata": {},
   "source": [
    "#### Check if the same id can refer to two different locations"
   ]
  },
  {
   "cell_type": "code",
   "execution_count": null,
   "metadata": {},
   "outputs": [
    {
     "data": {
      "text/html": [
       "<div>\n",
       "<style scoped>\n",
       "    .dataframe tbody tr th:only-of-type {\n",
       "        vertical-align: middle;\n",
       "    }\n",
       "\n",
       "    .dataframe tbody tr th {\n",
       "        vertical-align: top;\n",
       "    }\n",
       "\n",
       "    .dataframe thead th {\n",
       "        text-align: right;\n",
       "    }\n",
       "</style>\n",
       "<table border=\"1\" class=\"dataframe\">\n",
       "  <thead>\n",
       "    <tr style=\"text-align: right;\">\n",
       "      <th></th>\n",
       "      <th>latitude</th>\n",
       "      <th>longitude</th>\n",
       "    </tr>\n",
       "  </thead>\n",
       "  <tbody>\n",
       "    <tr>\n",
       "      <th>65073</th>\n",
       "      <td>32.28098</td>\n",
       "      <td>34.861001</td>\n",
       "    </tr>\n",
       "  </tbody>\n",
       "</table>\n",
       "</div>"
      ],
      "text/plain": [
       "       latitude  longitude\n",
       "65073  32.28098  34.861001"
      ]
     },
     "execution_count": 52,
     "metadata": {},
     "output_type": "execute_result"
    }
   ],
   "source": [
    "df[df[\"fsq_place_id\"] == test_id][[\"latitude\", \"longitude\"]].drop_duplicates()"
   ]
  },
  {
   "cell_type": "markdown",
   "metadata": {},
   "source": [
    "## Check if all this works for each ID in the dataset"
   ]
  },
  {
   "cell_type": "code",
   "execution_count": null,
   "metadata": {},
   "outputs": [
    {
     "data": {
      "text/plain": [
       "count    107766.0\n",
       "mean          1.0\n",
       "std           0.0\n",
       "min           1.0\n",
       "25%           1.0\n",
       "50%           1.0\n",
       "75%           1.0\n",
       "max           1.0\n",
       "dtype: float64"
      ]
     },
     "execution_count": 55,
     "metadata": {},
     "output_type": "execute_result"
    }
   ],
   "source": [
    "df.groupby([\"fsq_place_id\", \"date_created\", \"date_refreshed\"]).size().groupby(\n",
    "    \"fsq_place_id\"\n",
    ").size().describe()"
   ]
  },
  {
   "cell_type": "markdown",
   "metadata": {},
   "source": [
    "#### Check if the same id can refer to two different locations"
   ]
  },
  {
   "cell_type": "code",
   "execution_count": null,
   "metadata": {},
   "outputs": [
    {
     "data": {
      "text/plain": [
       "count    107729.0\n",
       "mean          1.0\n",
       "std           0.0\n",
       "min           1.0\n",
       "25%           1.0\n",
       "50%           1.0\n",
       "75%           1.0\n",
       "max           1.0\n",
       "dtype: float64"
      ]
     },
     "execution_count": 38,
     "metadata": {},
     "output_type": "execute_result"
    }
   ],
   "source": [
    "df.groupby([\"fsq_place_id\", \"latitude\", \"longitude\"]).size().groupby(\n",
    "    \"fsq_place_id\"\n",
    ").size().describe()"
   ]
  },
  {
   "cell_type": "markdown",
   "metadata": {},
   "source": [
    "#### Check if the same id have different ratio of filled values"
   ]
  },
  {
   "cell_type": "code",
   "execution_count": null,
   "metadata": {},
   "outputs": [
    {
     "data": {
      "text/plain": [
       "count    107769.0\n",
       "mean          1.0\n",
       "std           0.0\n",
       "min           1.0\n",
       "25%           1.0\n",
       "50%           1.0\n",
       "75%           1.0\n",
       "max           1.0\n",
       "dtype: float64"
      ]
     },
     "execution_count": 56,
     "metadata": {},
     "output_type": "execute_result"
    }
   ],
   "source": [
    "df.groupby([\"fsq_place_id\", \"empty_fields_share\"]).size().groupby(\n",
    "    \"fsq_place_id\"\n",
    ").size().describe()"
   ]
  },
  {
   "cell_type": "markdown",
   "metadata": {},
   "source": [
    "### Remove duplicates"
   ]
  },
  {
   "cell_type": "code",
   "execution_count": null,
   "metadata": {},
   "outputs": [],
   "source": [
    "df = df.drop_duplicates([\"fsq_place_id\"])"
   ]
  },
  {
   "cell_type": "markdown",
   "metadata": {},
   "source": [
    "### Records with old refresh date"
   ]
  },
  {
   "cell_type": "code",
   "execution_count": null,
   "metadata": {},
   "outputs": [],
   "source": [
    "from datetime import datetime\n",
    "\n",
    "\n",
    "df[\"days_from_refresh\"] = (\n",
    "    datetime.today() - pd.to_datetime(df[\"date_refreshed\"])\n",
    ").dt.days\n",
    "df[\"month_from_refresh\"] = (\n",
    "    datetime.today() - pd.to_datetime(df[\"date_refreshed\"])\n",
    ").dt.days // 30"
   ]
  },
  {
   "cell_type": "code",
   "execution_count": null,
   "metadata": {},
   "outputs": [
    {
     "data": {
      "text/plain": [
       "0.32023123532741327"
      ]
     },
     "execution_count": 67,
     "metadata": {},
     "output_type": "execute_result"
    }
   ],
   "source": [
    "(df[\"month_from_refresh\"] > 12 * 10).mean()"
   ]
  },
  {
   "cell_type": "code",
   "execution_count": null,
   "metadata": {},
   "outputs": [
    {
     "data": {
      "image/png": "[encoded data removed]",
      "text/plain": [
       "<Figure size 800x500 with 1 Axes>"
      ]
     },
     "metadata": {},
     "output_type": "display_data"
    }
   ],
   "source": [
    "# Plotting the histogram with English labels\n",
    "from matplotlib import pyplot as plt\n",
    "\n",
    "\n",
    "plt.figure(figsize=(8, 5))\n",
    "plt.hist(df[\"month_from_refresh\"], bins=10, edgecolor=\"black\", alpha=0.7)\n",
    "plt.xlabel(\"Months Since Refresh\", fontsize=12)\n",
    "plt.ylabel(\"Frequency\", fontsize=12)\n",
    "plt.title(\"Distribution of Months Since Refresh\", fontsize=14)\n",
    "plt.grid(axis=\"y\", linestyle=\"--\", alpha=0.7)\n",
    "\n",
    "# Show the plot\n",
    "plt.show()"
   ]
  },
  {
   "cell_type": "markdown",
   "metadata": {},
   "source": [
    "## Check and remove ids with empty key features"
   ]
  },
  {
   "cell_type": "code",
   "execution_count": null,
   "metadata": {},
   "outputs": [
    {
     "data": {
      "text/plain": [
       "fsq_place_id        0.000000\n",
       "latitude            0.000371\n",
       "longitude           0.000371\n",
       "geometry            0.000371\n",
       "fsq_category_ids    0.079392\n",
       "date_created        0.000000\n",
       "dtype: float64"
      ]
     },
     "execution_count": 70,
     "metadata": {},
     "output_type": "execute_result"
    }
   ],
   "source": [
    "columns_important = [\n",
    "    \"fsq_place_id\",\n",
    "    \"latitude\",\n",
    "    \"longitude\",\n",
    "    \"geometry\",\n",
    "    \"fsq_category_ids\",\n",
    "    \"date_created\",\n",
    "]\n",
    "df[columns_important].isnull().mean()"
   ]
  },
  {
   "cell_type": "code",
   "execution_count": null,
   "metadata": {},
   "outputs": [
    {
     "data": {
      "text/plain": [
       "0.07947554491551374"
      ]
     },
     "execution_count": 75,
     "metadata": {},
     "output_type": "execute_result"
    }
   ],
   "source": [
    "df[df[columns_important].isnull().sum(axis=1) > 0][columns_important].shape[\n",
    "    0\n",
    "] / df.shape[0]"
   ]
  },
  {
   "cell_type": "code",
   "execution_count": null,
   "metadata": {},
   "outputs": [],
   "source": [
    "df = df[df[columns_important].isnull().sum(axis=1) == 0]"
   ]
  },
  {
   "cell_type": "markdown",
   "metadata": {},
   "source": [
    "## Distribution of the empty fields share"
   ]
  },
  {
   "cell_type": "code",
   "execution_count": null,
   "metadata": {},
   "outputs": [
    {
     "data": {
      "image/png": "[encoded data removed]",
      "text/plain": [
       "<Figure size 800x500 with 1 Axes>"
      ]
     },
     "metadata": {},
     "output_type": "display_data"
    }
   ],
   "source": [
    "# Plotting the histogram with English labels\n",
    "from matplotlib import pyplot as plt\n",
    "\n",
    "\n",
    "plt.figure(figsize=(8, 5))\n",
    "plt.hist(df[\"empty_fields_share\"], bins=10, edgecolor=\"black\", alpha=0.7)\n",
    "plt.xlabel(\"Share\", fontsize=12)\n",
    "plt.ylabel(\"Frequency\", fontsize=12)\n",
    "plt.title(\"Distribution of Empty Values Share\", fontsize=14)\n",
    "plt.grid(axis=\"y\", linestyle=\"--\", alpha=0.7)\n",
    "\n",
    "# Show the plot\n",
    "plt.show()"
   ]
  },
  {
   "cell_type": "markdown",
   "metadata": {},
   "source": [
    "## Calculate confidence interval"
   ]
  },
  {
   "cell_type": "markdown",
   "metadata": {},
   "source": [
    "Instead of removing records with the high share of emtpy values or potentially outdate records, we add confidence interval"
   ]
  },
  {
   "cell_type": "code",
   "execution_count": null,
   "metadata": {},
   "outputs": [],
   "source": [
    "from sklearn.preprocessing import MinMaxScaler\n",
    "\n",
    "scaler = MinMaxScaler()\n",
    "\n",
    "# Apply RobustScaler (reshape needed for single column)\n",
    "df[\"days_from_refresh_scaled\"] = scaler.fit_transform(df[[\"days_from_refresh\"]])\n",
    "df[\"empty_fields_share_scaled\"] = scaler.fit_transform(df[[\"empty_fields_share\"]])"
   ]
  },
  {
   "cell_type": "code",
   "execution_count": null,
   "metadata": {},
   "outputs": [
    {
     "data": {
      "text/plain": [
       "count    107769.000000\n",
       "mean          0.794916\n",
       "std           0.090887\n",
       "min           0.000000\n",
       "25%           0.733799\n",
       "50%           0.784465\n",
       "75%           0.877058\n",
       "max           1.000000\n",
       "Name: empty_fields_share_scaled, dtype: float64"
      ]
     },
     "execution_count": 89,
     "metadata": {},
     "output_type": "execute_result"
    }
   ],
   "source": [
    "np.sqrt(df[\"empty_fields_share_scaled\"]).describe()"
   ]
  },
  {
   "cell_type": "code",
   "execution_count": null,
   "metadata": {},
   "outputs": [],
   "source": [
    "df[\"confidence\"] = 0.5 * np.sqrt((1 - df[\"empty_fields_share_scaled\"])) + 0.5 * np.sqrt(\n",
    "    (1 - df[\"days_from_refresh_scaled\"])\n",
    ")"
   ]
  },
  {
   "cell_type": "code",
   "execution_count": null,
   "metadata": {},
   "outputs": [
    {
     "data": {
      "text/plain": [
       "count    107766.000000\n",
       "mean          0.646567\n",
       "std           0.133679\n",
       "min           0.138675\n",
       "25%           0.548706\n",
       "50%           0.656013\n",
       "75%           0.751126\n",
       "max           0.998307\n",
       "Name: confidence, dtype: float64"
      ]
     },
     "execution_count": 121,
     "metadata": {},
     "output_type": "execute_result"
    }
   ],
   "source": [
    "df[\"confidence\"].describe()"
   ]
  },
  {
   "cell_type": "code",
   "execution_count": null,
   "metadata": {},
   "outputs": [
    {
     "data": {
      "image/png": "[encoded data removed]",
      "text/plain": [
       "<Figure size 1000x600 with 1 Axes>"
      ]
     },
     "metadata": {},
     "output_type": "display_data"
    }
   ],
   "source": [
    "# Plotting a refined histogram for 'confidence'\n",
    "plt.figure(figsize=(10, 6))\n",
    "plt.hist(df[\"confidence\"], bins=100, edgecolor=\"black\", alpha=0.75)\n",
    "plt.xlabel(\"Confidence\", fontsize=12)\n",
    "plt.ylabel(\"Frequency\", fontsize=12)\n",
    "plt.title(\"Distribution of Confidence Scores\", fontsize=14)\n",
    "plt.grid(axis=\"y\", linestyle=\"--\", alpha=0.7)\n",
    "\n",
    "# Show the plot\n",
    "plt.show()"
   ]
  },
  {
   "cell_type": "markdown",
   "metadata": {},
   "source": [
    "## Add categories dataset"
   ]
  },
  {
   "cell_type": "code",
   "execution_count": null,
   "metadata": {},
   "outputs": [],
   "source": [
    "import pandas as pd\n",
    "\n",
    "frsq_categories = pd.read_parquet(\n",
    "    \"categories.zstd.parquet\"\n",
    ")\n",
    "ta_frsq_gdf = df.merge(\n",
    "    frsq_categories, left_on=\"fsq_category_ids\", right_on=\"category_id\", how=\"left\"\n",
    ")"
   ]
  },
  {
   "cell_type": "code",
   "execution_count": 16,
   "metadata": {},
   "outputs": [
    {
     "data": {
      "text/plain": [
       "Index(['index', 'fsq_place_id', 'name', 'latitude', 'longitude', 'address',\n",
       "       'locality', 'region', 'postcode', 'admin_region', 'post_town', 'po_box',\n",
       "       'country', 'date_created', 'date_refreshed', 'date_closed', 'tel',\n",
       "       'website', 'email', 'facebook_id', 'instagram', 'twitter',\n",
       "       'fsq_category_ids', 'fsq_category_labels', 'placemaker_url', 'bbox',\n",
       "       'geometry', 'the_geom', 'category_id', 'category_level',\n",
       "       'category_name', 'category_label', 'level1_category_id',\n",
       "       'level1_category_name', 'level2_category_id', 'level2_category_name',\n",
       "       'level3_category_id', 'level3_category_name', 'level4_category_id',\n",
       "       'level4_category_name', 'level5_category_id', 'level5_category_name',\n",
       "       'level6_category_id', 'level6_category_name'],\n",
       "      dtype='object')"
      ]
     },
     "execution_count": 16,
     "metadata": {},
     "output_type": "execute_result"
    }
   ],
   "source": [
    "ta_frsq_gdf.columns"
   ]
  },
  {
   "cell_type": "code",
   "execution_count": null,
   "metadata": {},
   "outputs": [],
   "source": [
    "ta_frsq_gdf.to_file(\"../frsq_places_cleaned.geojson\")"
   ]
  }
 ],
 "metadata": {
  "kernelspec": {
   "display_name": "spatial_kernel",
   "language": "python",
   "name": "spatial_analytics_course"
  },
  "language_info": {
   "codemirror_mode": {
    "name": "ipython",
    "version": 3
   },
   "file_extension": ".py",
   "mimetype": "text/x-python",
   "name": "python",
   "nbconvert_exporter": "python",
   "pygments_lexer": "ipython3",
   "version": "3.12.7"
  }
 },
 "nbformat": 4,
 "nbformat_minor": 2
}
