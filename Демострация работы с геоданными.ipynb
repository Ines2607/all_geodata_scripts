{
 "cells": [
  {
   "cell_type": "code",
   "execution_count": 385,
   "id": "262c2ffa",
   "metadata": {
    "ExecuteTime": {
     "end_time": "2021-09-20T14:11:01.872003Z",
     "start_time": "2021-09-20T14:11:01.869696Z"
    }
   },
   "outputs": [],
   "source": [
    "# Скрипт для демонстрации загрузки геоданных из OSM и работы с ними"
   ]
  },
  {
   "cell_type": "code",
   "execution_count": 298,
   "id": "57ee09b4",
   "metadata": {
    "ExecuteTime": {
     "end_time": "2021-09-20T10:58:17.293963Z",
     "start_time": "2021-09-20T10:58:17.291532Z"
    }
   },
   "outputs": [],
   "source": [
    "from shapely.geometry import Polygon,LineString\n",
    "\n",
    "from shapely.ops import linemerge, unary_union, polygonize\n",
    "\n",
    "import datetime\n",
    "import numpy as np\n",
    "import pysal\n",
    "import geopandas as gpd\n",
    "from matplotlib import pyplot as plt\n",
    "from shapely.geometry import shape\n",
    "from shapely.geometry import Point\n",
    "import requests\n",
    "import random\n",
    "import overpy\n",
    "import contextily as ctx\n",
    "import h3\n",
    "\n",
    "import pandas as pd"
   ]
  },
  {
   "cell_type": "markdown",
   "id": "f93ae433",
   "metadata": {},
   "source": [
    "<b> Задача </b> : посчитать число магазинов в округах Москвы и визуализировать плотность на карте"
   ]
  },
  {
   "cell_type": "markdown",
   "id": "7fd31750",
   "metadata": {},
   "source": [
    "#### Загрузка границ округов"
   ]
  },
  {
   "cell_type": "code",
   "execution_count": 185,
   "id": "5c20bcae",
   "metadata": {
    "ExecuteTime": {
     "end_time": "2021-09-19T21:05:20.740210Z",
     "start_time": "2021-09-19T21:05:20.737980Z"
    }
   },
   "outputs": [],
   "source": [
    "overpass_query = \\\n",
    "\"\"\"[out:json]\n",
    ";\n",
    "area[\"name:ru\"=\"Москва\"];\n",
    "(\n",
    "  relation\n",
    "    [\"boundary\"=\"administrative\"]\n",
    "    [\"admin_level\"=\"5\"]\n",
    "    (area);\n",
    ");\n",
    "(\n",
    "  ._;\n",
    "  >;\n",
    ");\n",
    "out geom;\n",
    " \"\"\""
   ]
  },
  {
   "cell_type": "markdown",
   "id": "119fc39b",
   "metadata": {},
   "source": [
    "#### Использование библиотеки overpy"
   ]
  },
  {
   "cell_type": "code",
   "execution_count": 186,
   "id": "d097dcf6",
   "metadata": {
    "ExecuteTime": {
     "end_time": "2021-09-19T21:05:25.359604Z",
     "start_time": "2021-09-19T21:05:25.357046Z"
    }
   },
   "outputs": [],
   "source": [
    "api = overpy.Overpass()\n",
    "\n",
    "moscow_borders = api.query(overpass_query)\n"
   ]
  },
  {
   "cell_type": "code",
   "execution_count": 301,
   "id": "1eb50665",
   "metadata": {
    "ExecuteTime": {
     "end_time": "2021-09-20T10:59:01.554430Z",
     "start_time": "2021-09-20T10:59:01.444463Z"
    }
   },
   "outputs": [],
   "source": [
    "lss = []\n",
    "for ii_w,way in enumerate(moscow_borders.ways):\n",
    "    \"\"\" цикл по ребрам для записи координат вершин\"\"\"\n",
    "    ls_coords = []\n",
    "\n",
    "    for node in way.nodes:\n",
    "        ls_coords.append((node.lon,node.lat)) # \n",
    "\n",
    "    lss.append(LineString(ls_coords)) # сохраняем координаты в линию  -linestring\n",
    "\n",
    "\n",
    "merged = linemerge([*lss]) # соединяем все линии\n",
    "borders = unary_union(merged) # linestrings в MultiLineString\n",
    "polygons = list(polygonize(borders))"
   ]
  },
  {
   "cell_type": "code",
   "execution_count": 352,
   "id": "838f3f24",
   "metadata": {
    "ExecuteTime": {
     "end_time": "2021-09-20T13:38:47.560735Z",
     "start_time": "2021-09-20T13:38:47.557186Z"
    },
    "scrolled": true
   },
   "outputs": [],
   "source": [
    "gdf_zones_overpass= pd.Series(polygons, index=range(len(polygons))).to_frame()\n",
    "gdf_zones_overpass.columns=['geometry']"
   ]
  },
  {
   "cell_type": "code",
   "execution_count": 354,
   "id": "2317c339",
   "metadata": {
    "ExecuteTime": {
     "end_time": "2021-09-20T13:38:59.694929Z",
     "start_time": "2021-09-20T13:38:59.666495Z"
    }
   },
   "outputs": [],
   "source": [
    "gdf_zones_overpass =gpd.GeoDataFrame(gdf_zones_overpass, crs='epsg:4326', geometry='geometry')"
   ]
  },
  {
   "cell_type": "code",
   "execution_count": 355,
   "id": "bfbd8135",
   "metadata": {
    "ExecuteTime": {
     "end_time": "2021-09-20T13:39:00.194231Z",
     "start_time": "2021-09-20T13:39:00.053470Z"
    }
   },
   "outputs": [
    {
     "data": {
      "text/plain": [
       "<AxesSubplot:>"
      ]
     },
     "execution_count": 355,
     "metadata": {},
     "output_type": "execute_result"
    },
    {
     "data": {
      "image/png": "[encoded data removed]",
      "text/plain": [
       "<Figure size 432x288 with 1 Axes>"
      ]
     },
     "metadata": {
      "needs_background": "light"
     },
     "output_type": "display_data"
    }
   ],
   "source": [
    "gdf_zones_overpass.plot()"
   ]
  },
  {
   "cell_type": "markdown",
   "id": "86f9bd01",
   "metadata": {},
   "source": [
    "#### Использование библиотеки requests"
   ]
  },
  {
   "cell_type": "code",
   "execution_count": 189,
   "id": "a07b1029",
   "metadata": {
    "ExecuteTime": {
     "end_time": "2021-09-19T21:08:05.242632Z",
     "start_time": "2021-09-19T21:07:59.532361Z"
    },
    "scrolled": true
   },
   "outputs": [
    {
     "data": {
      "text/plain": [
       "{'version': 0.6,\n",
       " 'generator': 'Overpass API 0.7.56.9 76e5016d',\n",
       " 'osm3s': {'timestamp_osm_base': '2021-09-19T21:07:13Z',\n",
       "  'timestamp_areas_base': '2021-09-19T20:28:18Z',\n",
       "  'copyright': 'The data included in this document is from www.openstreetmap.org. The data is made available under ODbL.'},\n",
       " 'elements': [{'type': 'node',\n",
       "   'id': 43053520,\n",
       "   'lat': 55.8271415,\n",
       "   'lon': 37.4906454},\n",
       "  {'type': 'node', 'id': 43053521, 'lat': 55.8266274, 'lon': 37.4886892},\n",
       "  {'type': 'node', 'id': 43053522, 'lat': 55.8264847, 'lon': 37.4871593},\n",
       "  {'type': 'node', 'id': 43053524, 'lat': 55.8264788, 'lon': 37.486376},\n",
       "  {'type': 'node', 'id': 43053526, 'lat': 55.826517, 'lon': 37.4856033},\n",
       "  {'type': 'node', 'id': 43053532, 'lat': 55.8270137, 'lon': 37.4813937},\n",
       "  {'type': 'node', 'id': 43053534, 'lat': 55.8270233, 'lon': 37.4803853},\n",
       "  {'type': 'node', 'id': 43053540, 'lat': 55.8265958, 'lon': 37.4784884},\n",
       "  {'type': 'node', 'id': 43053542, 'lat': 55.8266713, 'lon': 37.4781004},\n",
       "  {'type': 'node', 'id': 43053548, 'lat': 55.8298286, 'lon': 37.4744188},\n",
       "  {'type': 'node', 'id': 54581095, 'lat': 55.8272021, 'lon': 37.4908054},\n",
       "  {'type': 'node', 'id': 59606302, 'lat': 55.8198771, 'lon': 37.6680808},\n",
       "  {'type': 'node', 'id': 59606305, 'lat': 55.8105554, 'lon': 37.6600552},\n",
       "  {'type': 'node', 'id': 59606306, 'lat': 55.8080219, 'lon': 37.6578185},\n",
       "  {'type': 'node', 'id': 60476327, 'lat': 55.6604497, 'lon': 37.6099599},\n",
       "  {'type': 'node', 'id': 60476330, 'lat': 55.6579294, 'lon': 37.6068603},\n",
       "  {'type': 'node', 'id': 60476332, 'lat': 55.6570438, 'lon': 37.6058225},\n",
       "  {'type': 'node', 'id': 60476333, 'lat': 55.656817, 'lon': 37.6056145},\n",
       "  {'type': 'node', 'id': 60476334, 'lat': 55.6566176, 'lon': 37.6054466},\n",
       "  {'type': 'node', 'id': 60528911, 'lat': 55.6631281, 'lon': 37.6131638},\n",
       "  {'type': 'node', 'id': 60528915, 'lat': 55.6615981, 'lon': 37.6113748},\n",
       "  {'type': 'node', 'id': 60672088, 'lat': 55.7308446, 'lon': 37.6613351},\n",
       "  {'type': 'node', 'id': 60731870, 'lat': 55.8768794, 'lon': 37.731479},\n",
       "  {'type': 'node', 'id': 60731871, 'lat': 55.8749452, 'lon': 37.7318197},\n",
       "  {'type': 'node', 'id': 60731872, 'lat': 55.8742591, 'lon': 37.7285421},\n",
       "  {'type': 'node', 'id': 60731873, 'lat': 55.873471, 'lon': 37.72299},\n",
       "  {'type': 'node', 'id': 60731874, 'lat': 55.8722456, 'lon': 37.7190531},\n",
       "  {'type': 'node', 'id': 60731876, 'lat': 55.8662524, 'lon': 37.7090351},\n",
       "  {'type': 'node', 'id': 60731881, 'lat': 55.8606073, 'lon': 37.7180173},\n",
       "  {'type': 'node', 'id': 60731882, 'lat': 55.8533645, 'lon': 37.7214563},\n",
       "  {'type': 'node', 'id': 60731883, 'lat': 55.8505716, 'lon': 37.7201692},\n",
       "  {'type': 'node', 'id': 60731884, 'lat': 55.8469149, 'lon': 37.7140751},\n",
       "  {'type': 'node', 'id': 60731886, 'lat': 55.8478345, 'lon': 37.7068677},\n",
       "  {'type': 'node', 'id': 60731887, 'lat': 55.8487733, 'lon': 37.7035867},\n",
       "  {'type': 'node', 'id': 60731888, 'lat': 55.8481609, 'lon': 37.6968229},\n",
       "  {'type': 'node', 'id': 60731891, 'lat': 55.855167, 'lon': 37.6927737},\n",
       "  {'type': 'node', 'id': 60731892, 'lat': 55.8552849, 'lon': 37.6886034},\n",
       "  {'type': 'node', 'id': 60731894, 'lat': 55.8529088, 'lon': 37.6922843},\n",
       "  {'type': 'node', 'id': 60731895, 'lat': 55.8512231, 'lon': 37.6899704},\n",
       "  {'type': 'node', 'id': 60731896, 'lat': 55.8503067, 'lon': 37.6922264},\n",
       "  {'type': 'node', 'id': 60731898, 'lat': 55.8424748, 'lon': 37.6802576},\n",
       "  {'type': 'node', 'id': 60732665, 'lat': 55.8273626, 'lon': 37.6715201},\n",
       "  {'type': 'node',\n",
       "   'id': 60765959,\n",
       "   'lat': 55.7202755,\n",
       "   'lon': 37.6052622,\n",
       "   'tags': {'highway': 'traffic_signals'}},\n",
       "  {'type': 'node', 'id': 60767427, 'lat': 55.7210339, 'lon': 37.6014639},\n",
       "  {'type': 'node', 'id': 60792097, 'lat': 55.6445012, 'lon': 37.6056083},\n",
       "  {'type': 'node', 'id': 60792115, 'lat': 55.6547951, 'lon': 37.6054158},\n",
       "  {'type': 'node', 'id': 60792116, 'lat': 55.6537329, 'lon': 37.6054398},\n",
       "  {'type': 'node', 'id': 60792117, 'lat': 55.6510624, 'lon': 37.6054803},\n",
       "  {'type': 'node', 'id': 60792118, 'lat': 55.6473845, 'lon': 37.6055654},\n",
       "  {'type': 'node', 'id': 60794463, 'lat': 55.7684836, 'lon': 37.6903786},\n",
       "  {'type': 'node', 'id': 60794464, 'lat': 55.7671317, 'lon': 37.6884389},\n",
       "  {'type': 'node', 'id': 60794465, 'lat': 55.7657026, 'lon': 37.6872872},\n",
       "  {'type': 'node', 'id': 60794466, 'lat': 55.7643119, 'lon': 37.6861199},\n",
       "  {'type': 'node', 'id': 60794467, 'lat': 55.7639835, 'lon': 37.6858452},\n",
       "  {'type': 'node', 'id': 60794468, 'lat': 55.7635206, 'lon': 37.6855791},\n",
       "  {'type': 'node', 'id': 60794469, 'lat': 55.7623329, 'lon': 37.6858125},\n",
       "  {'type': 'node', 'id': 60794470, 'lat': 55.7615256, 'lon': 37.6853903},\n",
       "  {'type': 'node', 'id': 60794471, 'lat': 55.7602741, 'lon': 37.6841593},\n",
       "  {'type': 'node', 'id': 60794472, 'lat': 55.7595356, 'lon': 37.682588},\n",
       "  {'type': 'node', 'id': 60794473, 'lat': 55.7591418, 'lon': 37.680948},\n",
       "  {'type': 'node', 'id': 60794474, 'lat': 55.7590578, 'lon': 37.679468},\n",
       "  {'type': 'node', 'id': 60794475, 'lat': 55.7591713, 'lon': 37.6764589},\n",
       "  {'type': 'node', 'id': 60794476, 'lat': 55.7593699, 'lon': 37.6739117},\n",
       "  {'type': 'node', 'id': 60794477, 'lat': 55.7591778, 'lon': 37.6722196},\n",
       "  {'type': 'node', 'id': 60794478, 'lat': 55.758803, 'lon': 37.6712776},\n",
       "  {'type': 'node', 'id': 60794479, 'lat': 55.7576028, 'lon': 37.6703968},\n",
       "  {'type': 'node', 'id': 60794481, 'lat': 55.7544162, 'lon': 37.6727058},\n",
       "  {'type': 'node', 'id': 60794482, 'lat': 55.7536944, 'lon': 37.6730467},\n",
       "  {'type': 'node', 'id': 60794483, 'lat': 55.7531707, 'lon': 37.6730203},\n",
       "  {'type': 'node', 'id': 60794484, 'lat': 55.7523878, 'lon': 37.6725497},\n",
       "  {'type': 'node', 'id': 60794485, 'lat': 55.7511538, 'lon': 37.6710752},\n",
       "  {'type': 'node', 'id': 61695927, 'lat': 55.7163791, 'lon': 37.5919057},\n",
       "  {'type': 'node', 'id': 61695928, 'lat': 55.7132951, 'lon': 37.5878737},\n",
       "  {'type': 'node', 'id': 61695930, 'lat': 55.7112041, 'lon': 37.585171},\n",
       "  {'type': 'node',\n",
       "   'id': 64762378,\n",
       "   'lat': 55.7851689,\n",
       "   'lon': 37.6017199,\n",
       "   'tags': {'highway': 'traffic_signals'}},\n",
       "  {'type': 'node',\n",
       "   'id': 64762382,\n",
       "   'lat': 55.7893978,\n",
       "   'lon': 37.6001621,\n",
       "   'tags': {'highway': 'traffic_signals'}},\n",
       "  {'type': 'node', 'id': 64763261, 'lat': 55.7924048, 'lon': 37.5993139},\n",
       "  {'type': 'node',\n",
       "   'id': 64764196,\n",
       "   'lat': 55.7853079,\n",
       "   'lon': 37.6037257,\n",
       "   'tags': {'highway': 'traffic_signals'}},\n",
       "  {'type': 'node', 'id': 71536884, 'lat': 55.638467, 'lon': 37.5822546},\n",
       "  {'type': 'node', 'id': 71536891, 'lat': 55.6297962, 'lon': 37.5853956},\n",
       "  {'type': 'node', 'id': 71536895, 'lat': 55.6251651, 'lon': 37.5827831},\n",
       "  {'type': 'node', 'id': 71536896, 'lat': 55.6219386, 'lon': 37.5796675},\n",
       "  {'type': 'node', 'id': 71536898, 'lat': 55.6219629, 'lon': 37.5769209},\n",
       "  {'type': 'node', 'id': 71536899, 'lat': 55.6187563, 'lon': 37.5784625},\n",
       "  {'type': 'node', 'id': 71536902, 'lat': 55.6155066, 'lon': 37.5759344},\n",
       "  {'type': 'node', 'id': 71536904, 'lat': 55.6143282, 'lon': 37.5775274},\n",
       "  {'type': 'node', 'id': 71536906, 'lat': 55.6132284, 'lon': 37.5746262},\n",
       "  {'type': 'node', 'id': 71536908, 'lat': 55.6117933, 'lon': 37.5756781},\n",
       "  {'type': 'node', 'id': 71536909, 'lat': 55.6088169, 'lon': 37.5746859},\n",
       "  {'type': 'node', 'id': 71536910, 'lat': 55.6084693, 'lon': 37.5699163},\n",
       "  {'type': 'node', 'id': 71536911, 'lat': 55.6059887, 'lon': 37.5718677},\n",
       "  {'type': 'node', 'id': 71536912, 'lat': 55.6062573, 'lon': 37.5757622},\n",
       "  {'type': 'node', 'id': 71536913, 'lat': 55.6043664, 'lon': 37.5778221},\n",
       "  {'type': 'node', 'id': 71536914, 'lat': 55.6034936, 'lon': 37.5817703},\n",
       "  {'type': 'node', 'id': 71536915, 'lat': 55.5978687, 'lon': 37.5766634},\n",
       "  {'type': 'node', 'id': 71536916, 'lat': 55.5977608, 'lon': 37.580571},\n",
       "  {'type': 'node', 'id': 71536917, 'lat': 55.593164, 'lon': 37.5778687},\n",
       "  {'type': 'node', 'id': 71536920, 'lat': 55.5839241, 'lon': 37.5755047},\n",
       "  {'type': 'node', 'id': 78295345, 'lat': 55.7210527, 'lon': 37.6141691},\n",
       "  {'type': 'node', 'id': 78295347, 'lat': 55.7205473, 'lon': 37.6149946},\n",
       "  {'type': 'node', 'id': 78295349, 'lat': 55.7200789, 'lon': 37.6155388},\n",
       "  {'type': 'node', 'id': 81362687, 'lat': 55.6071542, 'lon': 37.5701403},\n",
       "  {'type': 'node', 'id': 81362688, 'lat': 55.6067179, 'lon': 37.571299},\n",
       "  {'type': 'node', 'id': 81362689, 'lat': 55.60595, 'lon': 37.573616},\n",
       "  {'type': 'node', 'id': 81362690, 'lat': 55.6066513, 'lon': 37.5739863},\n",
       "  {'type': 'node', 'id': 81362691, 'lat': 55.6043428, 'lon': 37.5815648},\n",
       "  {'type': 'node', 'id': 81362693, 'lat': 55.5992866, 'lon': 37.5767147},\n",
       "  {'type': 'node', 'id': 81362694, 'lat': 55.5958133, 'lon': 37.5802368},\n",
       "  {'type': 'node', 'id': 81362695, 'lat': 55.5959134, 'lon': 37.578974},\n",
       "  {'type': 'node', 'id': 81362696, 'lat': 55.5924127, 'lon': 37.5775263},\n",
       "  {'type': 'node', 'id': 81362697, 'lat': 55.5880716, 'lon': 37.5769209},\n",
       "  {'type': 'node', 'id': 81362698, 'lat': 55.5863496, 'lon': 37.5774788},\n",
       "  {'type': 'node', 'id': 81363042, 'lat': 55.6286746, 'lon': 37.5841307},\n",
       "  {'type': 'node', 'id': 81363043, 'lat': 55.6200474, 'lon': 37.574745},\n",
       "  {'type': 'node', 'id': 81363046, 'lat': 55.6148622, 'lon': 37.5776934},\n",
       "  {'type': 'node', 'id': 81363047, 'lat': 55.6083089, 'lon': 37.5732883},\n",
       "  {'type': 'node', 'id': 81363354, 'lat': 55.63896, 'lon': 37.5814907},\n",
       "  {'type': 'node', 'id': 85798421, 'lat': 55.7780272, 'lon': 37.3522319},\n",
       "  {'type': 'node',\n",
       "   'id': 91326525,\n",
       "   'lat': 55.7693582,\n",
       "   'lon': 37.692454,\n",
       "   'tags': {'highway': 'traffic_signals'}},\n",
       "  {'type': 'node',\n",
       "   'id': 93386375,\n",
       "   'lat': 55.7885136,\n",
       "   'lon': 37.6166343,\n",
       "   'tags': {'highway': 'traffic_signals'}},\n",
       "  {'type': 'node',\n",
       "   'id': 93397121,\n",
       "   'lat': 55.7838834,\n",
       "   'lon': 37.6154776,\n",
       "   'tags': {'crossing': 'uncontrolled', 'highway': 'crossing'}},\n",
       "  {'type': 'node', 'id': 93397123, 'lat': 55.7864317, 'lon': 37.6168202},\n",
       "  {'type': 'node',\n",
       "   'id': 93397124,\n",
       "   'lat': 55.7929034,\n",
       "   'lon': 37.616311,\n",
       "   'tags': {'highway': 'traffic_signals'}},\n",
       "  {'type': 'node', 'id': 95949489, 'lat': 55.7283046, 'lon': 37.6507804},\n",
       "  {'type': 'node', 'id': 95949500, 'lat': 55.7224038, 'lon': 37.6437423},\n",
       "  {'type': 'node', 'id': 95949513, 'lat': 55.7234307, 'lon': 37.6372099},\n",
       "  {'type': 'node', 'id': 95949518, 'lat': 55.7229009, 'lon': 37.6400073},\n",
       "  {'type': 'node', 'id': 95949519, 'lat': 55.7222109, 'lon': 37.6417645},\n",
       "  {'type': 'node', 'id': 103801242, 'lat': 55.7092892, 'lon': 37.8374092},\n",
       "  {'type': 'node', 'id': 107811966, 'lat': 55.7846903, 'lon': 37.6060018},\n",
       "  {'type': 'node', 'id': 107814425, 'lat': 55.7853371, 'lon': 37.6043485},\n",
       "  {'type': 'node', 'id': 107816275, 'lat': 55.7843893, 'lon': 37.606794},\n",
       "  {'type': 'node', 'id': 107816277, 'lat': 55.7825481, 'lon': 37.6124492},\n",
       "  {'type': 'node', 'id': 107817832, 'lat': 55.7829856, 'lon': 37.61281},\n",
       "  {'type': 'node', 'id': 107817834, 'lat': 55.7833023, 'lon': 37.6129369},\n",
       "  {'type': 'node',\n",
       "   'id': 107817838,\n",
       "   'lat': 55.7835,\n",
       "   'lon': 37.6146295,\n",
       "   'tags': {'crossing': 'uncontrolled', 'highway': 'crossing'}},\n",
       "  {'type': 'node', 'id': 107817840, 'lat': 55.7833767, 'lon': 37.615005},\n",
       "  {'type': 'node', 'id': 107822662, 'lat': 55.7830249, 'lon': 37.6109298},\n",
       "  {'type': 'node', 'id': 143427775, 'lat': 55.8940409, 'lon': 37.5622276},\n",
       "  {'type': 'node', 'id': 143427911, 'lat': 55.8323965, 'lon': 37.5738693},\n",
       "  {'type': 'node', 'id': 143427916, 'lat': 55.8305841, 'lon': 37.5735756},\n",
       "  {'type': 'node', 'id': 143427923, 'lat': 55.8227969, 'lon': 37.5739482},\n",
       "  {'type': 'node', 'id': 143427928, 'lat': 55.821533, 'lon': 37.5743079},\n",
       "  {'type': 'node', 'id': 143427942, 'lat': 55.8126214, 'lon': 37.5788313},\n",
       "  {'type': 'node', 'id': 146580718, 'lat': 55.7911566, 'lon': 37.5883209},\n",
       "  {'type': 'node', 'id': 146580727, 'lat': 55.7820591, 'lon': 37.5858464},\n",
       "  {'type': 'node', 'id': 146580728, 'lat': 55.7810152, 'lon': 37.5854437},\n",
       "  {'type': 'node', 'id': 146580730, 'lat': 55.7798664, 'lon': 37.5847927},\n",
       "  {'type': 'node', 'id': 146580734, 'lat': 55.7790639, 'lon': 37.5837773},\n",
       "  {'type': 'node', 'id': 146580738, 'lat': 55.7778304, 'lon': 37.5818157},\n",
       "  {'type': 'node', 'id': 146580741, 'lat': 55.776927, 'lon': 37.5799897},\n",
       "  {'type': 'node', 'id': 146604986, 'lat': 55.7907397, 'lon': 37.5881791},\n",
       "  {'type': 'node',\n",
       "   'id': 148263964,\n",
       "   'lat': 55.5716318,\n",
       "   'lon': 37.6643166,\n",
       "   'tags': {'note': 'Точка отсутствует в описании границ соответствующих муниципальных образований Московской области и добавлена исключительно для разграничения муниципальных образований города Москвы'}},\n",
       "  {'type': 'node',\n",
       "   'id': 148905456,\n",
       "   'lat': 55.6738675,\n",
       "   'lon': 37.5236693,\n",
       "   'tags': {'highway': 'traffic_signals'}},\n",
       "  {'type': 'node', 'id': 162171259, 'lat': 55.7878159, 'lon': 37.600682},\n",
       "  {'type': 'node', 'id': 197204794, 'lat': 55.7924349, 'lon': 37.5927829},\n",
       "  {'type': 'node', 'id': 197204795, 'lat': 55.7924067, 'lon': 37.5893281},\n",
       "  {'type': 'node', 'id': 197226448, 'lat': 55.7923317, 'lon': 37.5944086},\n",
       "  {'type': 'node', 'id': 198627063, 'lat': 55.7908111, 'lon': 37.5997617},\n",
       "  {'type': 'node', 'id': 210373846, 'lat': 55.6905249, 'lon': 37.6037381},\n",
       "  {'type': 'node', 'id': 210373850, 'lat': 55.6917549, 'lon': 37.6012404},\n",
       "  {'type': 'node', 'id': 210373852, 'lat': 55.6922024, 'lon': 37.600685},\n",
       "  {'type': 'node', 'id': 210373853, 'lat': 55.6927588, 'lon': 37.5999503},\n",
       "  {'type': 'node', 'id': 210373854, 'lat': 55.6934459, 'lon': 37.5991282},\n",
       "  {'type': 'node', 'id': 210373855, 'lat': 55.6940702, 'lon': 37.598404},\n",
       "  {'type': 'node', 'id': 210373856, 'lat': 55.6948291, 'lon': 37.5974813},\n",
       "  {'type': 'node', 'id': 210373857, 'lat': 55.6952161, 'lon': 37.597028},\n",
       "  {'type': 'node', 'id': 210373858, 'lat': 55.695789, 'lon': 37.5964835},\n",
       "  {'type': 'node', 'id': 210373859, 'lat': 55.6961337, 'lon': 37.5961214},\n",
       "  {'type': 'node', 'id': 210373860, 'lat': 55.6965358, 'lon': 37.5957781},\n",
       "  {'type': 'node', 'id': 210373861, 'lat': 55.6976483, 'lon': 37.5948393},\n",
       "  {'type': 'node', 'id': 210373862, 'lat': 55.6986202, 'lon': 37.5940052},\n",
       "  {'type': 'node', 'id': 210373863, 'lat': 55.7002693, 'lon': 37.5925729},\n",
       "  {'type': 'node', 'id': 210373865, 'lat': 55.703506, 'lon': 37.589841},\n",
       "  {'type': 'node', 'id': 210373867, 'lat': 55.705105, 'lon': 37.5884653},\n",
       "  {'type': 'node', 'id': 210373868, 'lat': 55.7057732, 'lon': 37.5878804},\n",
       "  {'type': 'node', 'id': 210373869, 'lat': 55.70595, 'lon': 37.587705},\n",
       "  {'type': 'node', 'id': 213056374, 'lat': 55.6931261, 'lon': 37.5995198},\n",
       "  {'type': 'node', 'id': 220715926, 'lat': 55.7272243, 'lon': 37.669667},\n",
       "  {'type': 'node', 'id': 220715929, 'lat': 55.7288811, 'lon': 37.6686788},\n",
       "  {'type': 'node', 'id': 220715933, 'lat': 55.7303547, 'lon': 37.6677708},\n",
       "  {'type': 'node', 'id': 245874677, 'lat': 55.9554425, 'lon': 37.3762313},\n",
       "  {'type': 'node', 'id': 245874680, 'lat': 55.9537292, 'lon': 37.3751342},\n",
       "  {'type': 'node', 'id': 245874684, 'lat': 55.9507932, 'lon': 37.3815823},\n",
       "  {'type': 'node', 'id': 245874691, 'lat': 55.9532037, 'lon': 37.3847345},\n",
       "  {'type': 'node', 'id': 245874692, 'lat': 55.9528854, 'lon': 37.3860649},\n",
       "  {'type': 'node', 'id': 245874694, 'lat': 55.9533299, 'lon': 37.3876206},\n",
       "  {'type': 'node', 'id': 245874696, 'lat': 55.9528133, 'lon': 37.3895625},\n",
       "  {'type': 'node', 'id': 245874697, 'lat': 55.9523207, 'lon': 37.3893801},\n",
       "  {'type': 'node', 'id': 245874699, 'lat': 55.9519903, 'lon': 37.3902599},\n",
       "  {'type': 'node', 'id': 245874701, 'lat': 55.9522727, 'lon': 37.3927919},\n",
       "  {'type': 'node', 'id': 245874703, 'lat': 55.9515939, 'lon': 37.3931352},\n",
       "  {'type': 'node', 'id': 245887603, 'lat': 55.9489279, 'lon': 37.3924291},\n",
       "  {'type': 'node', 'id': 245887608, 'lat': 55.9490811, 'lon': 37.3957658},\n",
       "  {'type': 'node', 'id': 245887621, 'lat': 55.9507692, 'lon': 37.4038634},\n",
       "  {'type': 'node', 'id': 245887651, 'lat': 55.9525022, 'lon': 37.4081951},\n",
       "  {'type': 'node', 'id': 245887654, 'lat': 55.9529653, 'lon': 37.4085646},\n",
       "  {'type': 'node', 'id': 245887660, 'lat': 55.953088, 'lon': 37.4074336},\n",
       "  {'type': 'node', 'id': 245887661, 'lat': 55.9539112, 'lon': 37.4081473},\n",
       "  {'type': 'node', 'id': 245887662, 'lat': 55.9541601, 'lon': 37.4102256},\n",
       "  {'type': 'node', 'id': 245887665, 'lat': 55.9534038, 'lon': 37.4107748},\n",
       "  {'type': 'node', 'id': 245887666, 'lat': 55.9534947, 'lon': 37.4121667},\n",
       "  {'type': 'node', 'id': 245887667, 'lat': 55.9538417, 'lon': 37.4120253},\n",
       "  {'type': 'node', 'id': 245887675, 'lat': 55.9543883, 'lon': 37.4135032},\n",
       "  {'type': 'node', 'id': 245887677, 'lat': 55.9545385, 'lon': 37.4149842},\n",
       "  {'type': 'node', 'id': 245887683, 'lat': 55.9534168, 'lon': 37.4167889},\n",
       "  {'type': 'node', 'id': 245922199, 'lat': 55.7130959, 'lon': 37.5883361},\n",
       "  {'type': 'node', 'id': 245922200, 'lat': 55.711091, 'lon': 37.585594},\n",
       "  {'type': 'node', 'id': 245922229, 'lat': 55.7110138, 'lon': 37.5839253},\n",
       "  {'type': 'node', 'id': 245922230, 'lat': 55.7110349, 'lon': 37.582267},\n",
       "  {'type': 'node', 'id': 246025952, 'lat': 55.9379629, 'lon': 37.5211561},\n",
       "  {'type': 'node', 'id': 248048278, 'lat': 55.7214222, 'lon': 37.6101288},\n",
       "  {'type': 'node', 'id': 249677194, 'lat': 55.773566, 'lon': 37.710089},\n",
       "  {'type': 'node', 'id': 249683657, 'lat': 55.7750994, 'lon': 37.713174},\n",
       "  {'type': 'node',\n",
       "   'id': 249683668,\n",
       "   'lat': 55.7744125,\n",
       "   'lon': 37.7118155,\n",
       "   'tags': {'highway': 'traffic_signals'}},\n",
       "  {'type': 'node', 'id': 249684220, 'lat': 55.7671332, 'lon': 37.6979331},\n",
       "  {'type': 'node',\n",
       "   'id': 249684221,\n",
       "   'lat': 55.7676323,\n",
       "   'lon': 37.6987364,\n",
       "   'tags': {'traffic_calming': 'bump'}},\n",
       "  {'type': 'node', 'id': 249684222, 'lat': 55.7680416, 'lon': 37.6993742},\n",
       "  {'type': 'node', 'id': 249684223, 'lat': 55.7686994, 'lon': 37.7003574},\n",
       "  {'type': 'node', 'id': 249684224, 'lat': 55.7695893, 'lon': 37.7017986},\n",
       "  {'type': 'node',\n",
       "   'id': 249684225,\n",
       "   'lat': 55.770029,\n",
       "   'lon': 37.7025185,\n",
       "   'tags': {'highway': 'traffic_signals'}},\n",
       "  {'type': 'node',\n",
       "   'id': 249684226,\n",
       "   'lat': 55.7701328,\n",
       "   'lon': 37.7027714,\n",
       "   'tags': {'crossing': 'traffic_signals', 'highway': 'crossing'}},\n",
       "  {'type': 'node', 'id': 249684227, 'lat': 55.7702444, 'lon': 37.7030932},\n",
       "  {'type': 'node', 'id': 249684228, 'lat': 55.7704617, 'lon': 37.7038014},\n",
       "  {'type': 'node', 'id': 249684229, 'lat': 55.7706065, 'lon': 37.7043485},\n",
       "  {'type': 'node', 'id': 249684230, 'lat': 55.7707272, 'lon': 37.7046489},\n",
       "  {'type': 'node', 'id': 249684231, 'lat': 55.7708329, 'lon': 37.7048206},\n",
       "  {'type': 'node', 'id': 249684232, 'lat': 55.7710984, 'lon': 37.7051478},\n",
       "  {'type': 'node', 'id': 249684233, 'lat': 55.7712674, 'lon': 37.705416},\n",
       "  {'type': 'node', 'id': 249684234, 'lat': 55.7714122, 'lon': 37.7056843},\n",
       "  {'type': 'node',\n",
       "   'id': 250065588,\n",
       "   'lat': 55.7065411,\n",
       "   'lon': 37.5877268,\n",
       "   'tags': {'highway': 'traffic_signals'}},\n",
       "  {'type': 'node', 'id': 250299418, 'lat': 55.8305355, 'lon': 37.3800876},\n",
       "  {'type': 'node', 'id': 250665279, 'lat': 55.7722196, 'lon': 37.7073729},\n",
       "  {'type': 'node', 'id': 250666296, 'lat': 55.7684693, 'lon': 37.694085},\n",
       "  {'type': 'node', 'id': 250666400, 'lat': 55.7668751, 'lon': 37.6969201},\n",
       "  {'type': 'node',\n",
       "   'id': 252845323,\n",
       "   'lat': 55.7258255,\n",
       "   'lon': 37.6705808,\n",
       "   'tags': {'highway': 'traffic_signals'}},\n",
       "  {'type': 'node', 'id': 252847198, 'lat': 55.7293029, 'lon': 37.6937001},\n",
       "  {'type': 'node', 'id': 252847199, 'lat': 55.7293718, 'lon': 37.6926416},\n",
       "  {'type': 'node', 'id': 252847200, 'lat': 55.7301789, 'lon': 37.6909432},\n",
       "  {'type': 'node', 'id': 252847201, 'lat': 55.7324468, 'lon': 37.686898},\n",
       "  {'type': 'node', 'id': 252850458, 'lat': 55.7275161, 'lon': 37.678073},\n",
       "  {'type': 'node', 'id': 252931894, 'lat': 55.7282037, 'lon': 37.67886},\n",
       "  {'type': 'node', 'id': 253026045, 'lat': 55.7316354, 'lon': 37.6658108},\n",
       "  {'type': 'node',\n",
       "   'id': 253035407,\n",
       "   'lat': 55.7277753,\n",
       "   'lon': 37.6805555,\n",
       "   'tags': {'highway': 'traffic_signals'}},\n",
       "  {'type': 'node', 'id': 253035468, 'lat': 55.7281511, 'lon': 37.6805072},\n",
       "  {'type': 'node', 'id': 253065841, 'lat': 55.7267136, 'lon': 37.6619943},\n",
       "  {'type': 'node', 'id': 253065842, 'lat': 55.7267454, 'lon': 37.6629455},\n",
       "  {'type': 'node', 'id': 253065873, 'lat': 55.7266764, 'lon': 37.6598892},\n",
       "  {'type': 'node', 'id': 253237840, 'lat': 55.9401805, 'lon': 37.5200183},\n",
       "  {'type': 'node', 'id': 253315173, 'lat': 55.7784147, 'lon': 37.5067466},\n",
       "  {'type': 'node', 'id': 253315174, 'lat': 55.78031, 'lon': 37.5062347},\n",
       "  {'type': 'node', 'id': 253315175, 'lat': 55.7826563, 'lon': 37.5057047},\n",
       "  {'type': 'node', 'id': 253315177, 'lat': 55.7863484, 'lon': 37.5049009},\n",
       "  {'type': 'node', 'id': 253315178, 'lat': 55.7887244, 'lon': 37.5043504},\n",
       "  {'type': 'node',\n",
       "   'id': 253315179,\n",
       "   'lat': 55.7904351,\n",
       "   'lon': 37.5039758,\n",
       "   'tags': {'railway': 'switch'}},\n",
       "  {'type': 'node', 'id': 253315185, 'lat': 55.794866, 'lon': 37.5025463},\n",
       "  {'type': 'node', 'id': 253315186, 'lat': 55.797038, 'lon': 37.5007752},\n",
       "  {'type': 'node', 'id': 253315187, 'lat': 55.7980377, 'lon': 37.4999143},\n",
       "  {'type': 'node', 'id': 253315228, 'lat': 55.7753858, 'lon': 37.5087504},\n",
       "  {'type': 'node', 'id': 253405923, 'lat': 55.7248014, 'lon': 37.9076297},\n",
       "  {'type': 'node', 'id': 253405926, 'lat': 55.7247948, 'lon': 37.9068331},\n",
       "  {'type': 'node', 'id': 253405928, 'lat': 55.7252679, 'lon': 37.9039577},\n",
       "  {'type': 'node',\n",
       "   'id': 253634598,\n",
       "   'lat': 55.7213366,\n",
       "   'lon': 37.6276275,\n",
       "   'tags': {'highway': 'traffic_signals'}},\n",
       "  {'type': 'node', 'id': 253634938, 'lat': 55.7225646, 'lon': 37.6330619},\n",
       "  {'type': 'node', 'id': 253635848, 'lat': 55.7220161, 'lon': 37.635839},\n",
       "  {'type': 'node', 'id': 253753264, 'lat': 55.7330418, 'lon': 37.6854092},\n",
       "  {'type': 'node', 'id': 254394981, 'lat': 55.7314673, 'lon': 37.6644263},\n",
       "  {'type': 'node', 'id': 255303112, 'lat': 55.460663, 'lon': 37.4792143},\n",
       "  {'type': 'node', 'id': 255303113, 'lat': 55.4604246, 'lon': 37.4792658},\n",
       "  {'type': 'node', 'id': 255303114, 'lat': 55.4598455, 'lon': 37.4798838},\n",
       "  {'type': 'node', 'id': 255303115, 'lat': 55.4593734, 'lon': 37.480991},\n",
       "  {'type': 'node', 'id': 255303116, 'lat': 55.4589646, 'lon': 37.4823042},\n",
       "  {'type': 'node', 'id': 255303117, 'lat': 55.458585, 'lon': 37.4832398},\n",
       "  {'type': 'node', 'id': 255303118, 'lat': 55.4583028, 'lon': 37.4842097},\n",
       "  {'type': 'node', 'id': 255303119, 'lat': 55.4582687, 'lon': 37.4848277},\n",
       "  {'type': 'node', 'id': 255303120, 'lat': 55.4585899, 'lon': 37.4855057},\n",
       "  {'type': 'node', 'id': 255303121, 'lat': 55.4589306, 'lon': 37.4862353},\n",
       "  {'type': 'node', 'id': 255303122, 'lat': 55.45968, 'lon': 37.4873425},\n",
       "  {'type': 'node', 'id': 255303123, 'lat': 55.4603175, 'lon': 37.4886042},\n",
       "  {'type': 'node', 'id': 255303124, 'lat': 55.4608334, 'lon': 37.4895226},\n",
       "  {'type': 'node', 'id': 255303125, 'lat': 55.4608869, 'lon': 37.4899346},\n",
       "  {'type': 'node', 'id': 255303126, 'lat': 55.4608626, 'lon': 37.4903294},\n",
       "  {'type': 'node', 'id': 255303127, 'lat': 55.4606922, 'lon': 37.4911791},\n",
       "  {'type': 'node', 'id': 255303128, 'lat': 55.4604294, 'lon': 37.4926297},\n",
       "  {'type': 'node', 'id': 255303129, 'lat': 55.460264, 'lon': 37.4934279},\n",
       "  {'type': 'node', 'id': 255303130, 'lat': 55.4597627, 'lon': 37.4953505},\n",
       "  {'type': 'node', 'id': 255303131, 'lat': 55.4593248, 'lon': 37.4964148},\n",
       "  {'type': 'node', 'id': 255303132, 'lat': 55.4591398, 'lon': 37.4967152},\n",
       "  {'type': 'node', 'id': 255303133, 'lat': 55.4589646, 'lon': 37.4968611},\n",
       "  {'type': 'node', 'id': 255303134, 'lat': 55.45877, 'lon': 37.4968869},\n",
       "  {'type': 'node', 'id': 255303135, 'lat': 55.4585023, 'lon': 37.4967667},\n",
       "  {'type': 'node', 'id': 255303136, 'lat': 55.4580984, 'lon': 37.4962517},\n",
       "  {'type': 'node', 'id': 255303137, 'lat': 55.4574803, 'lon': 37.4949128},\n",
       "  {'type': 'node', 'id': 255303138, 'lat': 55.457125, 'lon': 37.4940716},\n",
       "  {'type': 'node', 'id': 255303139, 'lat': 55.4567698, 'lon': 37.4929301},\n",
       "  {'type': 'node', 'id': 255303140, 'lat': 55.4565945, 'lon': 37.4925267},\n",
       "  {'type': 'node', 'id': 255303141, 'lat': 55.4563561, 'lon': 37.4922348},\n",
       "  {'type': 'node', 'id': 255303142, 'lat': 55.4561663, 'lon': 37.492149},\n",
       "  {'type': 'node', 'id': 255303143, 'lat': 55.4556893, 'lon': 37.4923293},\n",
       "  {'type': 'node', 'id': 255303144, 'lat': 55.4551539, 'lon': 37.4929301},\n",
       "  {'type': 'node', 'id': 255303145, 'lat': 55.4543801, 'lon': 37.4940802},\n",
       "  {'type': 'node', 'id': 255303146, 'lat': 55.4534602, 'lon': 37.4951617},\n",
       "  {'type': 'node', 'id': 255303147, 'lat': 55.4523601, 'lon': 37.4961659},\n",
       "  {'type': 'node', 'id': 255303148, 'lat': 55.4517322, 'lon': 37.4969727},\n",
       "  {'type': 'node', 'id': 255303149, 'lat': 55.4510654, 'lon': 37.4980971},\n",
       "  {'type': 'node', 'id': 255303150, 'lat': 55.4508902, 'lon': 37.4985177},\n",
       "  {'type': 'node', 'id': 255303151, 'lat': 55.4506468, 'lon': 37.498655},\n",
       "  {'type': 'node', 'id': 255303152, 'lat': 55.4503985, 'lon': 37.498655},\n",
       "  {'type': 'node', 'id': 255303153, 'lat': 55.4500383, 'lon': 37.4985348},\n",
       "  {'type': 'node', 'id': 255303154, 'lat': 55.4498095, 'lon': 37.4981572},\n",
       "  {'type': 'node', 'id': 255303155, 'lat': 55.4493666, 'lon': 37.4967152},\n",
       "  {'type': 'node', 'id': 255303156, 'lat': 55.4490745, 'lon': 37.4954621},\n",
       "  {'type': 'node', 'id': 255303157, 'lat': 55.4486802, 'lon': 37.492664},\n",
       "  {'type': 'node', 'id': 255303158, 'lat': 55.4482811, 'lon': 37.4900805},\n",
       "  {'type': 'node', 'id': 255303159, 'lat': 55.4480669, 'lon': 37.4875828},\n",
       "  {'type': 'node', 'id': 255303160, 'lat': 55.4478283, 'lon': 37.4864241},\n",
       "  {'type': 'node', 'id': 255303161, 'lat': 55.4475655, 'lon': 37.4860379},\n",
       "  {'type': 'node', 'id': 255303162, 'lat': 55.4472491, 'lon': 37.4858147},\n",
       "  {'type': 'node', 'id': 255303163, 'lat': 55.4468986, 'lon': 37.4857718},\n",
       "  {'type': 'node', 'id': 255303164, 'lat': 55.4465919, 'lon': 37.4859091},\n",
       "  {'type': 'node', 'id': 255303165, 'lat': 55.4457838, 'lon': 37.4863984},\n",
       "  {'type': 'node', 'id': 255303166, 'lat': 55.4450535, 'lon': 37.4872738},\n",
       "  {'type': 'node', 'id': 255303167, 'lat': 55.444445, 'lon': 37.4883295},\n",
       "  {'type': 'node', 'id': 255303168, 'lat': 55.4432912, 'lon': 37.4903895},\n",
       "  {'type': 'node', 'id': 255303169, 'lat': 55.442741, 'lon': 37.4912564},\n",
       "  {'type': 'node', 'id': 255303170, 'lat': 55.442556, 'lon': 37.4916512},\n",
       "  {'type': 'node', 'id': 255303171, 'lat': 55.4423905, 'lon': 37.4933764},\n",
       "  {'type': 'node', 'id': 255303172, 'lat': 55.4422931, 'lon': 37.4951188},\n",
       "  {'type': 'node', 'id': 255303173, 'lat': 55.4421324, 'lon': 37.4966895},\n",
       "  {'type': 'node', 'id': 255303174, 'lat': 55.4419864, 'lon': 37.4976593},\n",
       "  {'type': 'node', 'id': 255303175, 'lat': 55.4417478, 'lon': 37.4984232},\n",
       "  {'type': 'node', 'id': 255303176, 'lat': 55.4413729, 'lon': 37.4994875},\n",
       "  {'type': 'node', 'id': 255303177, 'lat': 55.4409834, 'lon': 37.5000025},\n",
       "  {'type': 'node', 'id': 255303178, 'lat': 55.4401952, 'lon': 37.5009102},\n",
       "  {'type': 'node', 'id': 255303179, 'lat': 55.43945, 'lon': 37.5011646},\n",
       "  {'type': 'node', 'id': 255857742, 'lat': 55.7712561, 'lon': 37.5127383},\n",
       "  {'type': 'node', 'id': 255905916, 'lat': 55.7653925, 'lon': 37.5342927},\n",
       "  {'type': 'node', 'id': 255908209, 'lat': 55.7651042, 'lon': 37.5341492},\n",
       "  {'type': 'node', 'id': 255908212, 'lat': 55.764444, 'lon': 37.5331742},\n",
       "  {'type': 'node', 'id': 255908213, 'lat': 55.763371, 'lon': 37.5321189},\n",
       "  {'type': 'node', 'id': 255908214, 'lat': 55.7632232, 'lon': 37.531822},\n",
       "  {'type': 'node', 'id': 255908218, 'lat': 55.7598459, 'lon': 37.5242852},\n",
       "  {'type': 'node', 'id': 255908312, 'lat': 55.766198, 'lon': 37.5347273},\n",
       "  {'type': 'node', 'id': 255967712, 'lat': 55.6257517, 'lon': 37.7897556},\n",
       "  {'type': 'node', 'id': 255967713, 'lat': 55.6302582, 'lon': 37.7867086},\n",
       "  {'type': 'node', 'id': 255967714, 'lat': 55.6332623, 'lon': 37.7850349},\n",
       "  {'type': 'node', 'id': 255967715, 'lat': 55.638325, 'lon': 37.7842624},\n",
       "  {'type': 'node', 'id': 255967716, 'lat': 55.6425879, 'lon': 37.7838332},\n",
       "  {'type': 'node', 'id': 255967717, 'lat': 55.6451066, 'lon': 37.7855069},\n",
       "  {'type': 'node', 'id': 255967718, 'lat': 55.6473346, 'lon': 37.7853353},\n",
       "  {'type': 'node', 'id': 255967719, 'lat': 55.6485454, 'lon': 37.783447},\n",
       "  {'type': 'node', 'id': 255967720, 'lat': 55.6487391, 'lon': 37.7797992},\n",
       "  {'type': 'node', 'id': 255967722, 'lat': 55.6454457, 'lon': 37.766195},\n",
       "  {'type': 'node', 'id': 255967723, 'lat': 55.640626, 'lon': 37.7495868},\n",
       "  {'type': 'node', 'id': 255967724, 'lat': 55.6398994, 'lon': 37.7453811},\n",
       "  {'type': 'node', 'id': 255967725, 'lat': 55.6408925, 'lon': 37.7295024},\n",
       "  {'type': 'node', 'id': 255967726, 'lat': 55.6394575, 'lon': 37.7132784},\n",
       "  {'type': 'node', 'id': 255967727, 'lat': 55.6421218, 'lon': 37.6994168},\n",
       "  {'type': 'node', 'id': 255967728, 'lat': 55.6432843, 'lon': 37.6944815},\n",
       "  {'type': 'node', 'id': 255967729, 'lat': 55.6452218, 'lon': 37.6889454},\n",
       "  {'type': 'node', 'id': 255967731, 'lat': 55.649944, 'lon': 37.6780449},\n",
       "  {'type': 'node', 'id': 255967732, 'lat': 55.65176, 'lon': 37.6745688},\n",
       "  {'type': 'node', 'id': 255967733, 'lat': 55.6532128, 'lon': 37.6725947},\n",
       "  {'type': 'node', 'id': 255967734, 'lat': 55.6543508, 'lon': 37.6716505},\n",
       "  {'type': 'node', 'id': 255967735, 'lat': 55.6557793, 'lon': 37.6715218},\n",
       "  {'type': 'node', 'id': 255967736, 'lat': 55.6619828, 'lon': 37.6723821},\n",
       "  {'type': 'node', 'id': 255967737, 'lat': 55.6651055, 'lon': 37.6732404},\n",
       "  {'type': 'node', 'id': 255967738, 'lat': 55.6676469, 'lon': 37.6750428},\n",
       "  {'type': 'node', 'id': 255967739, 'lat': 55.6690508, 'lon': 37.6781327},\n",
       "  {'type': 'node', 'id': 255967741, 'lat': 55.6706239, 'lon': 37.6824243},\n",
       "  {'type': 'node', 'id': 255967742, 'lat': 55.6711564, 'lon': 37.6874025},\n",
       "  {'type': 'node', 'id': 255967756, 'lat': 55.6813198, 'lon': 37.71195},\n",
       "  {'type': 'node', 'id': 255967758, 'lat': 55.6846586, 'lon': 37.7123792},\n",
       "  {'type': 'node', 'id': 255967759, 'lat': 55.6884568, 'lon': 37.7121217},\n",
       "  {'type': 'node', 'id': 255967760, 'lat': 55.6932705, 'lon': 37.7075727},\n",
       "  {'type': 'node', 'id': 255967761, 'lat': 55.6953506, 'lon': 37.6947839},\n",
       "  {'type': 'node', 'id': 255967800, 'lat': 55.7276237, 'lon': 37.6557668},\n",
       "  {'type': 'node', 'id': 255967960, 'lat': 55.7271913, 'lon': 37.5452203},\n",
       "  {'type': 'node', 'id': 255967961, 'lat': 55.7284242, 'lon': 37.5488288},\n",
       "  {'type': 'node', 'id': 255967962, 'lat': 55.7299466, 'lon': 37.5530345},\n",
       "  {'type': 'node', 'id': 255967967, 'lat': 55.7436943, 'lon': 37.5730331},\n",
       "  {'type': 'node', 'id': 255967968, 'lat': 55.7447089, 'lon': 37.5738914},\n",
       "  {'type': 'node', 'id': 255967969, 'lat': 55.7463273, 'lon': 37.5744493},\n",
       "  {'type': 'node', 'id': 255967970, 'lat': 55.7488635, 'lon': 37.5744922},\n",
       "  {'type': 'node', 'id': 255967971, 'lat': 55.7503369, 'lon': 37.5740201},\n",
       "  {'type': 'node', 'id': 255967972, 'lat': 55.751472, 'lon': 37.5730331},\n",
       "  {'type': 'node', 'id': 255967973, 'lat': 55.7527279, 'lon': 37.5708015},\n",
       "  {'type': 'node', 'id': 255967974, 'lat': 55.7533558, 'lon': 37.5678832},\n",
       "  {'type': 'node', 'id': 255967975, 'lat': 55.7535974, 'lon': 37.5640208},\n",
       "  {'type': 'node', 'id': 255967976, 'lat': 55.7530784, 'lon': 37.5601783},\n",
       "  {'type': 'node', 'id': 255967977, 'lat': 55.7523904, 'lon': 37.5575617},\n",
       "  {'type': 'node', 'id': 255967978, 'lat': 55.7514364, 'lon': 37.5545352},\n",
       "  {'type': 'node', 'id': 255967979, 'lat': 55.7489843, 'lon': 37.5490434},\n",
       "  {'type': 'node', 'id': 255967980, 'lat': 55.7465205, 'lon': 37.5435502},\n",
       "  {'type': 'node', 'id': 255967981, 'lat': 55.7454577, 'lon': 37.5403745},\n",
       "  {'type': 'node', 'id': 255967982, 'lat': 55.7446364, 'lon': 37.5367267},\n",
       "  {'type': 'node', 'id': 255967983, 'lat': 55.7443963, 'lon': 37.5324042},\n",
       "  {'type': 'node', 'id': 255967984, 'lat': 55.7446122, 'lon': 37.527972},\n",
       "  {'type': 'node', 'id': 255967985, 'lat': 55.7453369, 'lon': 37.5255687},\n",
       "  {'type': 'node', 'id': 255967986, 'lat': 55.7463273, 'lon': 37.5236375},\n",
       "  {'type': 'node', 'id': 255967987, 'lat': 55.7475834, 'lon': 37.5220496},\n",
       "  {'type': 'node', 'id': 255967988, 'lat': 55.7498517, 'lon': 37.5203603},\n",
       "  {'type': 'node', 'id': 255967989, 'lat': 55.7532109, 'lon': 37.5181443},\n",
       "  {'type': 'node', 'id': 255967990, 'lat': 55.7546358, 'lon': 37.5176723},\n",
       "  {'type': 'node', 'id': 255967991, 'lat': 55.7568334, 'lon': 37.516299},\n",
       "  {'type': 'node', 'id': 255967992, 'lat': 55.7580891, 'lon': 37.5145394},\n",
       "  {'type': 'node', 'id': 255967993, 'lat': 55.7596587, 'lon': 37.5116641},\n",
       "  {'type': 'node', 'id': 255967994, 'lat': 55.7617836, 'lon': 37.5058276},\n",
       "  {'type': 'node', 'id': 255967995, 'lat': 55.7625321, 'lon': 37.5042827},\n",
       "  {'type': 'node', 'id': 255967996, 'lat': 55.7634013, 'lon': 37.5029523},\n",
       "  {'type': 'node', 'id': 255967997, 'lat': 55.7643671, 'lon': 37.501064},\n",
       "  {'type': 'node', 'id': 255967998, 'lat': 55.7655019, 'lon': 37.4981458},\n",
       "  {'type': 'node', 'id': 255967999, 'lat': 55.7661054, 'lon': 37.4960858},\n",
       "  {'type': 'node', 'id': 255968501, 'lat': 55.7673608, 'lon': 37.4920518},\n",
       "  {'type': 'node', 'id': 255968502, 'lat': 55.7679596, 'lon': 37.4897158},\n",
       "  {'type': 'node', 'id': 255968503, 'lat': 55.7681941, 'lon': 37.4871806},\n",
       "  {'type': 'node', 'id': 255968504, 'lat': 55.76817, 'lon': 37.4845108},\n",
       "  {'type': 'node', 'id': 255968505, 'lat': 55.7679769, 'lon': 37.4819189},\n",
       "  {'type': 'node', 'id': 255968506, 'lat': 55.7677128, 'lon': 37.4800361},\n",
       "  {'type': 'node', 'id': 255968507, 'lat': 55.7666923, 'lon': 37.4780555},\n",
       "  {'type': 'node', 'id': 255968508, 'lat': 55.7655256, 'lon': 37.477087},\n",
       "  {'type': 'node', 'id': 255968509, 'lat': 55.7645104, 'lon': 37.476388},\n",
       "  {'type': 'node', 'id': 255968510, 'lat': 55.7629909, 'lon': 37.4761731},\n",
       "  {'type': 'node', 'id': 255968511, 'lat': 55.7617112, 'lon': 37.4761731},\n",
       "  {'type': 'node', 'id': 255968512, 'lat': 55.7569059, 'lon': 37.4767739},\n",
       "  {'type': 'node', 'id': 255968513, 'lat': 55.7559641, 'lon': 37.476731},\n",
       "  {'type': 'node', 'id': 255968514, 'lat': 55.7545875, 'lon': 37.4765165},\n",
       "  {'type': 'node', 'id': 255968515, 'lat': 55.7522932, 'lon': 37.4761731},\n",
       "  {'type': 'node', 'id': 255968516, 'lat': 55.7512305, 'lon': 37.4757869},\n",
       "  {'type': 'node', 'id': 255968517, 'lat': 55.749878, 'lon': 37.4751432},\n",
       "  {'type': 'node', 'id': 255968518, 'lat': 55.7485012, 'lon': 37.4741561},\n",
       "  {'type': 'node', 'id': 255968519, 'lat': 55.7472693, 'lon': 37.4727828},\n",
       "  {'type': 'node', 'id': 255968520, 'lat': 55.7461099, 'lon': 37.4710233},\n",
       "  {'type': 'node', 'id': 255968521, 'lat': 55.7440325, 'lon': 37.4673755},\n",
       "  {'type': 'node', 'id': 255968522, 'lat': 55.7428971, 'lon': 37.4648006},\n",
       "  {'type': 'node', 'id': 255968523, 'lat': 55.7418583, 'lon': 37.4617965},\n",
       "  {'type': 'node', 'id': 255968524, 'lat': 55.7412061, 'lon': 37.4591357},\n",
       "  {'type': 'node', 'id': 255968525, 'lat': 55.7406021, 'lon': 37.4553163},\n",
       "  {'type': 'node', 'id': 255968526, 'lat': 55.7406021, 'lon': 37.4525268},\n",
       "  {'type': 'node', 'id': 255968527, 'lat': 55.7411336, 'lon': 37.4492652},\n",
       "  {'type': 'node', 'id': 255968528, 'lat': 55.7418583, 'lon': 37.4465186},\n",
       "  {'type': 'node', 'id': 255968529, 'lat': 55.7426072, 'lon': 37.4444587},\n",
       "  {'type': 'node', 'id': 255968530, 'lat': 55.7435735, 'lon': 37.4424846},\n",
       "  {'type': 'node', 'id': 255968531, 'lat': 55.7452161, 'lon': 37.439738},\n",
       "  {'type': 'node', 'id': 255968532, 'lat': 55.7464239, 'lon': 37.4373777},\n",
       "  {'type': 'node', 'id': 255968533, 'lat': 55.7471003, 'lon': 37.436691},\n",
       "  {'type': 'node', 'id': 255968534, 'lat': 55.7478732, 'lon': 37.4363477},\n",
       "  {'type': 'node', 'id': 255968535, 'lat': 55.7487186, 'lon': 37.4366052},\n",
       "  {'type': 'node', 'id': 255968537, 'lat': 55.7505309, 'lon': 37.4392216},\n",
       "  {'type': 'node', 'id': 255968538, 'lat': 55.7513038, 'lon': 37.4421828},\n",
       "  {'type': 'node', 'id': 255968540, 'lat': 55.7528978, 'lon': 37.4488347},\n",
       "  {'type': 'node', 'id': 255968541, 'lat': 55.753888, 'lon': 37.4530833},\n",
       "  {'type': 'node', 'id': 255968542, 'lat': 55.7547815, 'lon': 37.4554436},\n",
       "  {'type': 'node', 'id': 255968543, 'lat': 55.75582, 'lon': 37.4576323},\n",
       "  {'type': 'node', 'id': 255968544, 'lat': 55.7571482, 'lon': 37.4596064},\n",
       "  {'type': 'node', 'id': 255968545, 'lat': 55.7588385, 'lon': 37.461838},\n",
       "  {'type': 'node', 'id': 255968546, 'lat': 55.7601907, 'lon': 37.4634259},\n",
       "  {'type': 'node', 'id': 255968547, 'lat': 55.7623834, 'lon': 37.4645205},\n",
       "  {'type': 'node', 'id': 255968548, 'lat': 55.7632953, 'lon': 37.4646628},\n",
       "  {'type': 'node', 'id': 255968549, 'lat': 55.7652279, 'lon': 37.4642718},\n",
       "  {'type': 'node', 'id': 255968550, 'lat': 55.7669505, 'lon': 37.4629397},\n",
       "  {'type': 'node', 'id': 255968551, 'lat': 55.7690757, 'lon': 37.4603789},\n",
       "  {'type': 'node', 'id': 255968552, 'lat': 55.7741771, 'lon': 37.4552656},\n",
       "  {'type': 'node', 'id': 255968553, 'lat': 55.7756937, 'lon': 37.45303},\n",
       "  {'type': 'node', 'id': 255968554, 'lat': 55.7768688, 'lon': 37.4506431},\n",
       "  {'type': 'node', 'id': 255968555, 'lat': 55.7772534, 'lon': 37.4473534},\n",
       "  {'type': 'node', 'id': 255968556, 'lat': 55.7768773, 'lon': 37.4454867},\n",
       "  {'type': 'node', 'id': 255968557, 'lat': 55.7763323, 'lon': 37.4436401},\n",
       "  {'type': 'node', 'id': 255968558, 'lat': 55.7752176, 'lon': 37.4393579},\n",
       "  {'type': 'node', 'id': 255968559, 'lat': 55.7741996, 'lon': 37.4341209},\n",
       "  {'type': 'node', 'id': 255968560, 'lat': 55.774173, 'lon': 37.4307464},\n",
       "  {'type': 'node', 'id': 255968561, 'lat': 55.7745234, 'lon': 37.4256268},\n",
       "  {'type': 'node', 'id': 255968562, 'lat': 55.7749416, 'lon': 37.4210255},\n",
       "  {'type': 'node', 'id': 255968563, 'lat': 55.7753278, 'lon': 37.4169486},\n",
       "  {'type': 'node', 'id': 255968564, 'lat': 55.7755209, 'lon': 37.412185},\n",
       "  {'type': 'node', 'id': 255968565, 'lat': 55.7757622, 'lon': 37.4085801},\n",
       "  {'type': 'node', 'id': 256417132, 'lat': 55.7668408, 'lon': 37.6975025},\n",
       "  {'type': 'node', 'id': 256417243, 'lat': 55.7668304, 'lon': 37.6970297},\n",
       "  {'type': 'node', 'id': 259508836, 'lat': 55.7705913, 'lon': 37.3084937},\n",
       "  {'type': 'node', 'id': 259508838, 'lat': 55.7694495, 'lon': 37.3114421},\n",
       "  {'type': 'node', 'id': 259508839, 'lat': 55.7691493, 'lon': 37.3160351},\n",
       "  {'type': 'node', 'id': 259508854, 'lat': 55.8020658, 'lon': 37.3361042},\n",
       "  {'type': 'node', 'id': 259508855, 'lat': 55.8051114, 'lon': 37.3427758},\n",
       "  {'type': 'node', 'id': 259508859, 'lat': 55.8092419, 'lon': 37.3717466},\n",
       "  {'type': 'node', 'id': 259508860, 'lat': 55.8112762, 'lon': 37.3730748},\n",
       "  {'type': 'node', 'id': 259511724, 'lat': 55.7711009, 'lon': 37.309291},\n",
       "  {'type': 'node', 'id': 260261145, 'lat': 55.7545417, 'lon': 36.9803373},\n",
       "  {'type': 'node', 'id': 260465609, 'lat': 55.5083034, 'lon': 37.5344489},\n",
       "  {'type': 'node', 'id': 266426401, 'lat': 55.8238104, 'lon': 37.4919622},\n",
       "  {'type': 'node', 'id': 266426402, 'lat': 55.8230964, 'lon': 37.4907202},\n",
       "  {'type': 'node', 'id': 266426403, 'lat': 55.8224393, 'lon': 37.4898587},\n",
       "  {'type': 'node', 'id': 266426404, 'lat': 55.821682, 'lon': 37.4889712},\n",
       "  {'type': 'node', 'id': 266426405, 'lat': 55.8206297, 'lon': 37.488042},\n",
       "  {'type': 'node', 'id': 266426406, 'lat': 55.8198686, 'lon': 37.4875304},\n",
       "  {'type': 'node', 'id': 266426407, 'lat': 55.8188513, 'lon': 37.4870696},\n",
       "  {'type': 'node', 'id': 266426408, 'lat': 55.8179345, 'lon': 37.4868036},\n",
       "  {'type': 'node', 'id': 266621701, 'lat': 55.8661363, 'lon': 37.4547219},\n",
       "  {'type': 'node', 'id': 266715123, 'lat': 55.8427259, 'lon': 37.4703495},\n",
       "  {'type': 'node', 'id': 266835812, 'lat': 55.8084754, 'lon': 37.4908555},\n",
       "  {'type': 'node', 'id': 266888489, 'lat': 55.8700626, 'lon': 37.4528921},\n",
       "  {'type': 'node', 'id': 266888490, 'lat': 55.8713574, 'lon': 37.4489387},\n",
       "  {'type': 'node', 'id': 266888491, 'lat': 55.8719788, 'lon': 37.4476224},\n",
       "  {'type': 'node', 'id': 266888494, 'lat': 55.873419, 'lon': 37.4449403},\n",
       "  {'type': 'node', 'id': 266888498, 'lat': 55.874411, 'lon': 37.4426198},\n",
       "  {'type': 'node', 'id': 266888501, 'lat': 55.8758523, 'lon': 37.4401332},\n",
       "  {'type': 'node', 'id': 266888506, 'lat': 55.8765343, 'lon': 37.4387242},\n",
       "  {'type': 'node', 'id': 266888511, 'lat': 55.8772161, 'lon': 37.4379783},\n",
       "  {'type': 'node', 'id': 266888515, 'lat': 55.878146, 'lon': 37.4378402},\n",
       "  {'type': 'node', 'id': 266888520, 'lat': 55.8785645, 'lon': 37.437785},\n",
       "  {'type': 'node',\n",
       "   'id': 266888521,\n",
       "   'lat': 55.8795786,\n",
       "   'lon': 37.4364835,\n",
       "   'tags': {'note': 'Точка отсутствует в описании границ соответствующих муниципальных образований Московской области и добавлена исключительно для разграничения муниципальных образований города Москвы'}},\n",
       "  {'type': 'node', 'id': 266888577, 'lat': 55.8471182, 'lon': 37.4644625},\n",
       "  {'type': 'node', 'id': 266888578, 'lat': 55.870116, 'lon': 37.4539735},\n",
       "  {'type': 'node', 'id': 267196077, 'lat': 55.7754361, 'lon': 37.3108516},\n",
       "  {'type': 'node',\n",
       "   'id': 267734157,\n",
       "   'lat': 55.7194792,\n",
       "   'lon': 37.609403,\n",
       "   'tags': {'highway': 'traffic_signals', 'traffic_signals': 'signal'}},\n",
       "  {'type': 'node', 'id': 268431437, 'lat': 55.8126881, 'lon': 37.3774474},\n",
       "  {'type': 'node', 'id': 268431438, 'lat': 55.8112671, 'lon': 37.380221},\n",
       "  {'type': 'node', 'id': 268431439, 'lat': 55.8106706, 'lon': 37.3796639},\n",
       "  {'type': 'node', 'id': 268431453, 'lat': 55.803788, 'lon': 37.3742891},\n",
       "  {'type': 'node', 'id': 268431481, 'lat': 55.8124248, 'lon': 37.3748847},\n",
       "  {'type': 'node', 'id': 268431607, 'lat': 55.8093909, 'lon': 37.3807218},\n",
       "  {'type': 'node', 'id': 268585359, 'lat': 55.9532716, 'lon': 37.4185103},\n",
       "  {'type': 'node', 'id': 268585360, 'lat': 55.9532296, 'lon': 37.4188536},\n",
       "  {'type': 'node', 'id': 268585362, 'lat': 55.9532776, 'lon': 37.4192398},\n",
       "  {'type': 'node', 'id': 268585364, 'lat': 55.9532128, 'lon': 37.4195999},\n",
       "  {'type': 'node', 'id': 268585365, 'lat': 55.952516, 'lon': 37.4204582},\n",
       "  {'type': 'node', 'id': 268585366, 'lat': 55.9524156, 'lon': 37.4204227},\n",
       "  {'type': 'node', 'id': 268585367, 'lat': 55.951986, 'lon': 37.4198359},\n",
       "  {'type': 'node', 'id': 268585369, 'lat': 55.9515805, 'lon': 37.4198547},\n",
       "  {'type': 'node', 'id': 268585370, 'lat': 55.9515677, 'lon': 37.42032},\n",
       "  {'type': 'node', 'id': 268585371, 'lat': 55.951615, 'lon': 37.4210469},\n",
       "  {'type': 'node', 'id': 268585372, 'lat': 55.9515165, 'lon': 37.4215998},\n",
       "  {'type': 'node', 'id': 268585374, 'lat': 55.9513146, 'lon': 37.4224581},\n",
       "  {'type': 'node', 'id': 268947761, 'lat': 55.7697565, 'lon': 37.3445145},\n",
       "  {'type': 'node', 'id': 268948056, 'lat': 55.7713623, 'lon': 37.3702608},\n",
       "  {'type': 'node', 'id': 268948628, 'lat': 55.771203, 'lon': 37.3948685},\n",
       "  {'type': 'node',\n",
       "   'id': 272607683,\n",
       "   'lat': 55.7202789,\n",
       "   'lon': 37.6177488,\n",
       "   'tags': {'highway': 'traffic_signals'}},\n",
       "  {'type': 'node',\n",
       "   'id': 272607684,\n",
       "   'lat': 55.720903,\n",
       "   'lon': 37.6223978,\n",
       "   'tags': {'highway': 'traffic_signals'}},\n",
       "  {'type': 'node', 'id': 273115587, 'lat': 55.7212787, 'lon': 37.6004261},\n",
       "  {'type': 'node', 'id': 276278192, 'lat': 55.7677739, 'lon': 37.6890397},\n",
       "  {'type': 'node', 'id': 277444374, 'lat': 55.7590896, 'lon': 37.5156656},\n",
       "  {'type': 'node', 'id': 277444395, 'lat': 55.7611227, 'lon': 37.5209729},\n",
       "  {'type': 'node', 'id': 277500297, 'lat': 55.4383835, 'lon': 37.5022461},\n",
       "  {'type': 'node', 'id': 277500298, 'lat': 55.437886, 'lon': 37.5030414},\n",
       "  {'type': 'node', 'id': 277500299, 'lat': 55.4374742, 'lon': 37.5054234},\n",
       "  {'type': 'node', 'id': 277500300, 'lat': 55.4366877, 'lon': 37.5073874},\n",
       "  {'type': 'node', 'id': 277500301, 'lat': 55.4361862, 'lon': 37.5100567},\n",
       "  {'type': 'node', 'id': 277500302, 'lat': 55.4359233, 'lon': 37.5134813},\n",
       "  {'type': 'node', 'id': 277500303, 'lat': 55.435972, 'lon': 37.5184853},\n",
       "  {'type': 'node', 'id': 277500304, 'lat': 55.4358356, 'lon': 37.5253346},\n",
       "  {'type': 'node', 'id': 277500305, 'lat': 55.4358453, 'lon': 37.5293944},\n",
       "  {'type': 'node', 'id': 277500306, 'lat': 55.4361375, 'lon': 37.5335829},\n",
       "  {'type': 'node', 'id': 277500307, 'lat': 55.4362787, 'lon': 37.5352652},\n",
       "  {'type': 'node', 'id': 277500308, 'lat': 55.4374857, 'lon': 37.5383916},\n",
       "  {'type': 'node', 'id': 277782138, 'lat': 55.8439748, 'lon': 37.3484108},\n",
       "  {'type': 'node', 'id': 280519073, 'lat': 55.6003618, 'lon': 37.1206134},\n",
       "  {'type': 'node', 'id': 280519074, 'lat': 55.5993671, 'lon': 37.1232855},\n",
       "  {'type': 'node', 'id': 280519192, 'lat': 55.5926553, 'lon': 37.0948856},\n",
       "  {'type': 'node', 'id': 280519195, 'lat': 55.6001139, 'lon': 37.0957269},\n",
       "  {'type': 'node', 'id': 281435551, 'lat': 55.7303236, 'lon': 37.694439},\n",
       "  {'type': 'node', 'id': 292113956, 'lat': 55.8418159, 'lon': 37.6783464},\n",
       "  {'type': 'node', 'id': 292113961, 'lat': 55.8388216, 'lon': 37.6763165},\n",
       "  {'type': 'node', 'id': 292114063, 'lat': 55.8410173, 'lon': 37.6784553},\n",
       "  {'type': 'node', 'id': 292114064, 'lat': 55.8403445, 'lon': 37.6782686},\n",
       "  {'type': 'node', 'id': 292114065, 'lat': 55.8399352, 'lon': 37.6780198},\n",
       "  {'type': 'node', 'id': 292114066, 'lat': 55.8393897, 'lon': 37.6773835},\n",
       "  {'type': 'node',\n",
       "   'id': 292114067,\n",
       "   'lat': 55.8385513,\n",
       "   'lon': 37.6754445,\n",
       "   'tags': {'note': 'рельсы и насыпь срезаны тут 11.2020'}},\n",
       "  {'type': 'node', 'id': 292114068, 'lat': 55.8383347, 'lon': 37.6735043},\n",
       "  {'type': 'node', 'id': 292114069, 'lat': 55.8384431, 'lon': 37.6721513},\n",
       "  {'type': 'node', 'id': 302630318, 'lat': 55.7262252, 'lon': 37.6725669},\n",
       "  {'type': 'node', 'id': 303022013, 'lat': 55.6408512, 'lon': 37.7290341},\n",
       "  {'type': 'node', 'id': 303022014, 'lat': 55.645621, 'lon': 37.7669191},\n",
       "  {'type': 'node', 'id': 303177823, 'lat': 55.8121915, 'lon': 37.5790441},\n",
       "  {'type': 'node', 'id': 303177825, 'lat': 55.8120186, 'lon': 37.5791446},\n",
       "  {'type': 'node', 'id': 303177826, 'lat': 55.8118077, 'lon': 37.5793077},\n",
       "  {'type': 'node', 'id': 303177827, 'lat': 55.8114784, 'lon': 37.5796069},\n",
       "  {'type': 'node', 'id': 303306009, 'lat': 55.7356204, 'lon': 37.6984795},\n",
       "  {'type': 'node', 'id': 303495709, 'lat': 55.7319971, 'lon': 37.6957359},\n",
       "  {'type': 'node', 'id': 303495716, 'lat': 55.7324705, 'lon': 37.6961026},\n",
       "  {'type': 'node', 'id': 303495717, 'lat': 55.7292916, 'lon': 37.6930372},\n",
       "  {'type': 'node', 'id': 303495720, 'lat': 55.729277, 'lon': 37.6933102},\n",
       "  {'type': 'node', 'id': 303495726, 'lat': 55.7311849, 'lon': 37.6951271},\n",
       "  {'type': 'node', 'id': 303495727, 'lat': 55.72929, 'lon': 37.6936027},\n",
       "  {'type': 'node', 'id': 303495728, 'lat': 55.7337455, 'lon': 37.6970775},\n",
       "  {'type': 'node', 'id': 304511953, 'lat': 55.7270557, 'lon': 37.5449026},\n",
       "  {'type': 'node', 'id': 304513402, 'lat': 55.6980682, 'lon': 37.4010827},\n",
       "  {'type': 'node', 'id': 304513403, 'lat': 55.6978905, 'lon': 37.4006911},\n",
       "  {'type': 'node', 'id': 304513406, 'lat': 55.6975208, 'lon': 37.3992042},\n",
       "  {'type': 'node', 'id': 304513407, 'lat': 55.6974912, 'lon': 37.3989421},\n",
       "  {'type': 'node', 'id': 304513408, 'lat': 55.6973719, 'lon': 37.3983354},\n",
       "  {'type': 'node', 'id': 304513409, 'lat': 55.6970641, 'lon': 37.3978504},\n",
       "  {'type': 'node', 'id': 304513410, 'lat': 55.6966707, 'lon': 37.3975527},\n",
       "  {'type': 'node', 'id': 304513411, 'lat': 55.6965242, 'lon': 37.3969108},\n",
       "  {'type': 'node', 'id': 304513413, 'lat': 55.6965981, 'lon': 37.3954737},\n",
       "  {'type': 'node', 'id': 304513414, 'lat': 55.696496, 'lon': 37.3949887},\n",
       "  {'type': 'node', 'id': 304513415, 'lat': 55.696288, 'lon': 37.3942364},\n",
       "  {'type': 'node', 'id': 304513417, 'lat': 55.6957874, 'lon': 37.3940907},\n",
       "  {'type': 'node', 'id': 304513418, 'lat': 55.6954966, 'lon': 37.3941551},\n",
       "  {'type': 'node', 'id': 304513419, 'lat': 55.6949852, 'lon': 37.3939656},\n",
       "  {'type': 'node', 'id': 304775832, 'lat': 55.7283571, 'lon': 37.6804742},\n",
       "  {'type': 'node', 'id': 304883546, 'lat': 55.7924391, 'lon': 37.5917313},\n",
       "  {'type': 'node', 'id': 305104449, 'lat': 55.7518008, 'lon': 37.6718522},\n",
       "  {'type': 'node', 'id': 305755778, 'lat': 55.7634809, 'lon': 37.5322807},\n",
       "  {'type': 'node', 'id': 308358943, 'lat': 55.6564188, 'lon': 37.605395},\n",
       "  {'type': 'node', 'id': 308358953, 'lat': 55.6589479, 'lon': 37.6081151},\n",
       "  {'type': 'node', 'id': 308727676, 'lat': 55.8852992, 'lon': 37.473697},\n",
       "  {'type': 'node', 'id': 308982940, 'lat': 55.7281718, 'lon': 37.6520679},\n",
       "  {'type': 'node',\n",
       "   'id': 309748365,\n",
       "   'lat': 55.8786424,\n",
       "   'lon': 37.7342601,\n",
       "   'tags': {'note': 'Точка отсутствует в описании границ соответствующих муниципальных образований Московской области и добавлена исключительно для разграничения муниципальных образований города Москвы'}},\n",
       "  {'type': 'node', 'id': 310172035, 'lat': 55.7283704, 'lon': 37.6505231},\n",
       "  {'type': 'node', 'id': 311975595, 'lat': 55.9092832, 'lon': 37.5559156},\n",
       "  {'type': 'node', 'id': 311975656, 'lat': 55.9075674, 'lon': 37.5363206},\n",
       "  {'type': 'node', 'id': 311975657, 'lat': 55.9068279, 'lon': 37.5318958},\n",
       "  {'type': 'node', 'id': 311975658, 'lat': 55.906015, 'lon': 37.5279378},\n",
       "  {'type': 'node', 'id': 311975659, 'lat': 55.9019945, 'lon': 37.5176473},\n",
       "  {'type': 'node',\n",
       "   'id': 311975665,\n",
       "   'lat': 55.8834596,\n",
       "   'lon': 37.4647226,\n",
       "   'tags': {'note': 'Точка отсутствует в описании границ соответствующих муниципальных образований Московской области и добавлена исключительно для разграничения муниципальных образований города Москвы'}},\n",
       "  {'type': 'node', 'id': 311975675, 'lat': 55.7848449, 'lon': 37.3694129},\n",
       "  {'type': 'node', 'id': 311975683, 'lat': 55.586663, 'lon': 37.5472658},\n",
       "  {'type': 'node', 'id': 311975688, 'lat': 55.5224844, 'lon': 37.5201236},\n",
       "  {'type': 'node', 'id': 311976259, 'lat': 55.7863746, 'lon': 37.3700916},\n",
       "  {'type': 'node', 'id': 311976260, 'lat': 55.7874153, 'lon': 37.3704897},\n",
       "  {'type': 'node',\n",
       "   'id': 311976702,\n",
       "   'lat': 55.6586616,\n",
       "   'lon': 37.4353249,\n",
       "   'tags': {'note': 'Точка отсутствует в описании границ соответствующих муниципальных образований Московской области и добавлена исключительно для разграничения муниципальных образований города Москвы'}},\n",
       "  {'type': 'node', 'id': 311985908, 'lat': 55.6322554, 'lon': 37.3871166},\n",
       "  {'type': 'node', 'id': 313979193, 'lat': 55.6732397, 'lon': 37.6907475},\n",
       "  {'type': 'node', 'id': 313979194, 'lat': 55.6758865, 'lon': 37.7003414},\n",
       "  {'type': 'node', 'id': 313979195, 'lat': 55.6773626, 'lon': 37.7047617},\n",
       "  {'type': 'node', 'id': 314660326, 'lat': 55.6533881, 'lon': 37.6054489},\n",
       "  {'type': 'node', 'id': 314660327, 'lat': 55.6453814, 'lon': 37.6055888},\n",
       "  {'type': 'node', 'id': 314662928, 'lat': 55.6633318, 'lon': 37.6133979},\n",
       "  {'type': 'node', 'id': 314662929, 'lat': 55.6634142, 'lon': 37.613497},\n",
       "  {'type': 'node', 'id': 314676351, 'lat': 55.6530715, 'lon': 37.6054514},\n",
       "  {'type': 'node', 'id': 314679435, 'lat': 55.6588985, 'lon': 37.6080582},\n",
       "  {'type': 'node', 'id': 314679437, 'lat': 55.656531, 'lon': 37.6054138},\n",
       "  {'type': 'node', 'id': 314679445, 'lat': 55.6448199, 'lon': 37.6055981},\n",
       "  {'type': 'node', 'id': 315056698, 'lat': 55.7307343, 'lon': 37.6608171},\n",
       "  {'type': 'node', 'id': 324210999, 'lat': 55.6661287, 'lon': 37.6116352},\n",
       "  {'type': 'node', 'id': 324211000, 'lat': 55.6656747, 'lon': 37.6110173},\n",
       "  {'type': 'node', 'id': 324211001, 'lat': 55.6649643, 'lon': 37.610644},\n",
       "  {'type': 'node', 'id': 324211002, 'lat': 55.6651214, 'lon': 37.6088028},\n",
       "  {'type': 'node', 'id': 324211003, 'lat': 55.6644866, 'lon': 37.6080472},\n",
       "  {'type': 'node', 'id': 324211004, 'lat': 55.6642966, 'lon': 37.60785},\n",
       "  {'type': 'node', 'id': 324211045, 'lat': 55.6728336, 'lon': 37.6067055},\n",
       "  {'type': 'node', 'id': 324211048, 'lat': 55.6720603, 'lon': 37.6058245},\n",
       "  {'type': 'node', 'id': 324211049, 'lat': 55.6716954, 'lon': 37.6062279},\n",
       "  {'type': 'node', 'id': 324211050, 'lat': 55.6703905, 'lon': 37.6060277},\n",
       "  {'type': 'node', 'id': 324714309, 'lat': 55.8171743, 'lon': 37.4867197},\n",
       "  {'type': 'node', 'id': 325071831, 'lat': 55.8121415, 'lon': 37.3735856},\n",
       "  {'type': 'node', 'id': 329991724, 'lat': 55.7916718, 'lon': 37.5884923},\n",
       "  {'type': 'node', 'id': 330999346, 'lat': 55.6719906, 'lon': 37.4044946},\n",
       "  {'type': 'node', 'id': 331407123, 'lat': 55.8392932, 'lon': 37.3405135},\n",
       "  {'type': 'node', 'id': 331468511, 'lat': 55.7273483, 'lon': 37.677708},\n",
       "  {'type': 'node', 'id': 331926020, 'lat': 55.7835235, 'lon': 37.3691993},\n",
       "  {'type': 'node', 'id': 331926025, 'lat': 55.7802212, 'lon': 37.3689945},\n",
       "  {'type': 'node', 'id': 331943499, 'lat': 55.9029729, 'lon': 37.5199439},\n",
       "  {'type': 'node', 'id': 331943500, 'lat': 55.9042337, 'lon': 37.5228474},\n",
       "  {'type': 'node', 'id': 331943501, 'lat': 55.9054877, 'lon': 37.5260016},\n",
       "  {'type': 'node', 'id': 331943502, 'lat': 55.9063288, 'lon': 37.5294685},\n",
       "  {'type': 'node', 'id': 332339021, 'lat': 55.6738731, 'lon': 37.6069148},\n",
       "  {'type': 'node', 'id': 332339022, 'lat': 55.6741797, 'lon': 37.6072286},\n",
       "  {'type': 'node', 'id': 332339023, 'lat': 55.6744852, 'lon': 37.6073744},\n",
       "  {'type': 'node', 'id': 332339024, 'lat': 55.6746682, 'lon': 37.6073783},\n",
       "  {'type': 'node', 'id': 332339025, 'lat': 55.6747118, 'lon': 37.6077372},\n",
       "  {'type': 'node', 'id': 332339026, 'lat': 55.6749551, 'lon': 37.6081016},\n",
       "  {'type': 'node', 'id': 332339027, 'lat': 55.675234, 'lon': 37.6083794},\n",
       "  {'type': 'node', 'id': 332339033, 'lat': 55.6753362, 'lon': 37.6085902},\n",
       "  {'type': 'node', 'id': 332339034, 'lat': 55.6756786, 'lon': 37.6084809},\n",
       "  {'type': 'node', 'id': 332339035, 'lat': 55.6760004, 'lon': 37.6087796},\n",
       "  {'type': 'node', 'id': 332339036, 'lat': 55.6764084, 'lon': 37.6091226},\n",
       "  {'type': 'node', 'id': 332339037, 'lat': 55.6764783, 'lon': 37.6092478},\n",
       "  {'type': 'node', 'id': 332339039, 'lat': 55.6766155, 'lon': 37.6094397},\n",
       "  {'type': 'node', 'id': 332339062, 'lat': 55.6767357, 'lon': 37.6099335},\n",
       "  {'type': 'node', 'id': 332339063, 'lat': 55.6768254, 'lon': 37.6100305},\n",
       "  {'type': 'node', 'id': 332339064, 'lat': 55.6769658, 'lon': 37.6101849},\n",
       "  {'type': 'node', 'id': 332339065, 'lat': 55.6770723, 'lon': 37.6104768},\n",
       "  {'type': 'node', 'id': 332339066, 'lat': 55.67714, 'lon': 37.6108973},\n",
       "  {'type': 'node', 'id': 332339067, 'lat': 55.6772175, 'lon': 37.6112922},\n",
       "  {'type': 'node', 'id': 332339068, 'lat': 55.6773191, 'lon': 37.6114229},\n",
       "  {'type': 'node', 'id': 332339069, 'lat': 55.6775203, 'lon': 37.6115213},\n",
       "  {'type': 'node', 'id': 332339070, 'lat': 55.6779144, 'lon': 37.6115445},\n",
       "  {'type': 'node', 'id': 332339071, 'lat': 55.6780989, 'lon': 37.6115062},\n",
       "  {'type': 'node', 'id': 332339072, 'lat': 55.6783295, 'lon': 37.6114759},\n",
       "  {'type': 'node', 'id': 332339073, 'lat': 55.6786056, 'lon': 37.6117107},\n",
       "  {'type': 'node', 'id': 332339074, 'lat': 55.6788105, 'lon': 37.6120131},\n",
       "  {'type': 'node', 'id': 332339075, 'lat': 55.6789646, 'lon': 37.6123594},\n",
       "  {'type': 'node', 'id': 332339076, 'lat': 55.6792742, 'lon': 37.6126655},\n",
       "  {'type': 'node', 'id': 332339077, 'lat': 55.6796517, 'lon': 37.6132234},\n",
       "  {'type': 'node', 'id': 332478274, 'lat': 55.6019109, 'lon': 37.2458},\n",
       "  {'type': 'node', 'id': 332712798, 'lat': 55.7710135, 'lon': 37.3708646},\n",
       "  {'type': 'node', 'id': 332713607, 'lat': 55.7279895, 'lon': 37.6786151},\n",
       "  {'type': 'node',\n",
       "   'id': 333752571,\n",
       "   'lat': 55.6750685,\n",
       "   'lon': 37.6972825,\n",
       "   'tags': {'waterway': 'lock_gate'}},\n",
       "  {'type': 'node', 'id': 333765106, 'lat': 55.7471761, 'lon': 37.8425433},\n",
       "  {'type': 'node', 'id': 333775329, 'lat': 55.7642046, 'lon': 37.3657364},\n",
       "  {'type': 'node', 'id': 333775393, 'lat': 55.7730383, 'lon': 37.3688853},\n",
       "  {'type': 'node', 'id': 333775399, 'lat': 55.7724986, 'lon': 37.3687433},\n",
       "  {'type': 'node', 'id': 334739682, 'lat': 55.7869869, 'lon': 37.3670921},\n",
       "  {'type': 'node', 'id': 334739720, 'lat': 55.7850581, 'lon': 37.3616346},\n",
       "  {'type': 'node', 'id': 334739742, 'lat': 55.7830987, 'lon': 37.3605084},\n",
       "  {'type': 'node', 'id': 334739748, 'lat': 55.7824514, 'lon': 37.359469},\n",
       "  {'type': 'node', 'id': 334739755, 'lat': 55.782408, 'lon': 37.3593961},\n",
       "  {'type': 'node', 'id': 334739760, 'lat': 55.7816006, 'lon': 37.3579933},\n",
       "  {'type': 'node', 'id': 334739767, 'lat': 55.7815499, 'lon': 37.3578795},\n",
       "  {'type': 'node', 'id': 334739773, 'lat': 55.7814848, 'lon': 37.3577644},\n",
       "  {'type': 'node', 'id': 334739780, 'lat': 55.78403, 'lon': 37.359615},\n",
       "  {'type': 'node', 'id': 334739785, 'lat': 55.7813366, 'lon': 37.3575296},\n",
       "  {'type': 'node', 'id': 334739798, 'lat': 55.7801439, 'lon': 37.3555297},\n",
       "  {'type': 'node', 'id': 334739910, 'lat': 55.7741673, 'lon': 37.3524784},\n",
       "  {'type': 'node', 'id': 334739916, 'lat': 55.7737624, 'lon': 37.3524395},\n",
       "  {'type': 'node', 'id': 334739992, 'lat': 55.7724094, 'lon': 37.3502015},\n",
       "  {'type': 'node', 'id': 334739997, 'lat': 55.7707327, 'lon': 37.3486378},\n",
       "  {'type': 'node', 'id': 334745595, 'lat': 55.7700806, 'lon': 37.3481056},\n",
       "  {'type': 'node', 'id': 334745619, 'lat': 55.7693467, 'lon': 37.3445012},\n",
       "  {'type': 'node', 'id': 334745637, 'lat': 55.7685981, 'lon': 37.3444969},\n",
       "  {'type': 'node', 'id': 334745649, 'lat': 55.7692766, 'lon': 37.3383438},\n",
       "  {'type': 'node', 'id': 334745660, 'lat': 55.7712914, 'lon': 37.3382839},\n",
       "  {'type': 'node', 'id': 334745671, 'lat': 55.7711801, 'lon': 37.3366542},\n",
       "  {'type': 'node', 'id': 334745712, 'lat': 55.7670194, 'lon': 37.3240721},\n",
       "  {'type': 'node', 'id': 334745724, 'lat': 55.7669578, 'lon': 37.322954},\n",
       "  {'type': 'node', 'id': 334745736, 'lat': 55.7668207, 'lon': 37.3207023},\n",
       "  {'type': 'node', 'id': 334745748, 'lat': 55.7695065, 'lon': 37.3189369},\n",
       "  {'type': 'node', 'id': 334760224, 'lat': 55.8120661, 'lon': 37.3764977},\n",
       "  {'type': 'node', 'id': 334760234, 'lat': 55.8114913, 'lon': 37.379704},\n",
       "  {'type': 'node', 'id': 334760250, 'lat': 55.8106454, 'lon': 37.3810808},\n",
       "  {'type': 'node', 'id': 334760255, 'lat': 55.8096574, 'lon': 37.3807281},\n",
       "  {'type': 'node', 'id': 334760262, 'lat': 55.8095241, 'lon': 37.3823725},\n",
       "  {'type': 'node',\n",
       "   'id': 334760277,\n",
       "   'lat': 55.8093072,\n",
       "   'lon': 37.3850513,\n",
       "   'tags': {'note': 'Точка отсутствует в описании границ соответствующих муниципальных образований Московской области и добавлена исключительно для разграничения муниципальных образований города Москвы'}},\n",
       "  {'type': 'node', 'id': 334760296, 'lat': 55.8082315, 'lon': 37.3861344},\n",
       "  {'type': 'node', 'id': 334760306, 'lat': 55.8090616, 'lon': 37.3849555},\n",
       "  {'type': 'node', 'id': 334760470, 'lat': 55.8125917, 'lon': 37.3738627},\n",
       "  {'type': 'node', 'id': 335097912, 'lat': 55.616644, 'lon': 37.2559485},\n",
       "  {'type': 'node', 'id': 335148802, 'lat': 55.7131248, 'lon': 37.3814921},\n",
       "  {'type': 'node', 'id': 335148824, 'lat': 55.7126527, 'lon': 37.3820115},\n",
       "  {'type': 'node', 'id': 335148829, 'lat': 55.7126822, 'lon': 37.3823003},\n",
       "  {'type': 'node', 'id': 336031616, 'lat': 55.7218748, 'lon': 37.6302229},\n",
       "  {'type': 'node', 'id': 338860530, 'lat': 55.7872617, 'lon': 37.6167552},\n",
       "  {'type': 'node', 'id': 338860531, 'lat': 55.7878527, 'lon': 37.6167003},\n",
       "  {'type': 'node', 'id': 339937094, 'lat': 55.7280119, 'lon': 37.6449111},\n",
       "  {'type': 'node', 'id': 340336958, 'lat': 55.774976, 'lon': 37.7129132},\n",
       "  {'type': 'node', 'id': 342065765, 'lat': 55.7277796, 'lon': 37.6783789},\n",
       "  {'type': 'node', 'id': 366658258, 'lat': 55.7177465, 'lon': 37.5908118},\n",
       "  {'type': 'node', 'id': 366709956, 'lat': 55.6799858, 'lon': 37.6137783},\n",
       "  {'type': 'node', 'id': 366709959, 'lat': 55.6803811, 'lon': 37.6141474},\n",
       "  {'type': 'node', 'id': 366709964, 'lat': 55.6809259, 'lon': 37.614921},\n",
       "  {'type': 'node', 'id': 366709968, 'lat': 55.6815983, 'lon': 37.6147009},\n",
       "  {'type': 'node', 'id': 366709972, 'lat': 55.6817773, 'lon': 37.6147316},\n",
       "  {'type': 'node', 'id': 366709976, 'lat': 55.6818926, 'lon': 37.6147742},\n",
       "  {'type': 'node', 'id': 366709981, 'lat': 55.6819975, 'lon': 37.6147607},\n",
       "  {'type': 'node', 'id': 366709986, 'lat': 55.6821498, 'lon': 37.6146516},\n",
       "  {'type': 'node', 'id': 366709990, 'lat': 55.6824292, 'lon': 37.614555},\n",
       "  {'type': 'node', 'id': 366709996, 'lat': 55.6827704, 'lon': 37.614499},\n",
       "  {'type': 'node', 'id': 366710006, 'lat': 55.6829497, 'lon': 37.6142884},\n",
       "  {'type': 'node', 'id': 366710022, 'lat': 55.6830969, 'lon': 37.6141106},\n",
       "  {'type': 'node', 'id': 368400878, 'lat': 55.6791007, 'lon': 37.7079299},\n",
       "  {'type': 'node', 'id': 384510536, 'lat': 55.7221801, 'lon': 37.6315353},\n",
       "  {'type': 'node', 'id': 387801972, 'lat': 55.7761477, 'lon': 37.5780999},\n",
       "  {'type': 'node', 'id': 389538755, 'lat': 55.7923006, 'lon': 37.6163542},\n",
       "  {'type': 'node', 'id': 390354261, 'lat': 55.7781116, 'lon': 37.5822436},\n",
       "  {'type': 'node', 'id': 395374400, 'lat': 55.6205704, 'lon': 37.2120723},\n",
       "  {'type': 'node', 'id': 395374401, 'lat': 55.6227591, 'lon': 37.2145561},\n",
       "  {'type': 'node', 'id': 395374402, 'lat': 55.6208673, 'lon': 37.2162354},\n",
       "  {'type': 'node', 'id': 395374403, 'lat': 55.6166404, 'lon': 37.2237006},\n",
       "  {'type': 'node', 'id': 395374419, 'lat': 55.6201053, 'lon': 37.2112733},\n",
       "  {'type': 'node', 'id': 412423607, 'lat': 55.8169374, 'lon': 37.8989612},\n",
       "  {'type': 'node', 'id': 412423608, 'lat': 55.817922, 'lon': 37.8978239},\n",
       "  {'type': 'node', 'id': 412423609, 'lat': 55.8194231, 'lon': 37.8890935},\n",
       "  {'type': 'node', 'id': 412423610, 'lat': 55.8202009, 'lon': 37.8884002},\n",
       "  {'type': 'node', 'id': 412448436, 'lat': 55.8156274, 'lon': 37.8993365},\n",
       "  {'type': 'node', 'id': 412448437, 'lat': 55.8162911, 'lon': 37.8993112},\n",
       "  {'type': 'node', 'id': 412448438, 'lat': 55.8174804, 'lon': 37.8985819},\n",
       "  {'type': 'node', 'id': 412493923, 'lat': 55.8150981, 'lon': 37.8993002},\n",
       "  {'type': 'node', 'id': 412493924, 'lat': 55.814845, 'lon': 37.8990876},\n",
       "  {'type': 'node', 'id': 412493926, 'lat': 55.8143866, 'lon': 37.898549},\n",
       "  {'type': 'node', 'id': 412493936, 'lat': 55.8139492, 'lon': 37.8955993},\n",
       "  {'type': 'node', 'id': 412493937, 'lat': 55.8139399, 'lon': 37.894541},\n",
       "  {'type': 'node', 'id': 422135164, 'lat': 55.8924795, 'lon': 37.4962542},\n",
       "  {'type': 'node', 'id': 423048302, 'lat': 55.6029854, 'lon': 37.1853592},\n",
       "  {'type': 'node', 'id': 423079201, 'lat': 55.6096849, 'lon': 37.1795884},\n",
       "  {'type': 'node', 'id': 427948888, 'lat': 55.9049172, 'lon': 37.5244518},\n",
       "  {'type': 'node', 'id': 428762176, 'lat': 55.8073742, 'lon': 37.581197},\n",
       "  {'type': 'node', 'id': 428762177, 'lat': 55.8064255, 'lon': 37.5817843},\n",
       "  {'type': 'node', 'id': 428762178, 'lat': 55.8055211, 'lon': 37.5823396},\n",
       "  {'type': 'node', 'id': 428762179, 'lat': 55.8037217, 'lon': 37.5828408},\n",
       "  {'type': 'node', 'id': 428762180, 'lat': 55.802378, 'lon': 37.5831873},\n",
       "  {'type': 'node', 'id': 428762181, 'lat': 55.8010218, 'lon': 37.5835067},\n",
       "  {'type': 'node', 'id': 428762182, 'lat': 55.7999321, 'lon': 37.5837205},\n",
       "  {'type': 'node', 'id': 428762183, 'lat': 55.7984943, 'lon': 37.5839686},\n",
       "  {'type': 'node', 'id': 428762184, 'lat': 55.7972084, 'lon': 37.5841136},\n",
       "  {'type': 'node', 'id': 428762185, 'lat': 55.7962623, 'lon': 37.5842021},\n",
       "  {'type': 'node', 'id': 428762186, 'lat': 55.7955018, 'lon': 37.5842913},\n",
       "  {'type': 'node', 'id': 428762187, 'lat': 55.7949956, 'lon': 37.5844248},\n",
       "  {'type': 'node', 'id': 428762188, 'lat': 55.7946373, 'lon': 37.5846713},\n",
       "  {'type': 'node', 'id': 428762189, 'lat': 55.7943695, 'lon': 37.5850046},\n",
       "  {'type': 'node', 'id': 428762190, 'lat': 55.7939603, 'lon': 37.5857332},\n",
       "  {'type': 'node', 'id': 428762191, 'lat': 55.7934376, 'lon': 37.5865301},\n",
       "  {'type': 'node', 'id': 429232549, 'lat': 55.6609004, 'lon': 37.6105353},\n",
       "  {'type': 'node', 'id': 429367546, 'lat': 55.7910836, 'lon': 37.5038208},\n",
       "  {'type': 'node', 'id': 429375743, 'lat': 55.8272718, 'lon': 37.4910751},\n",
       "  {'type': 'node', 'id': 429375744, 'lat': 55.8315541, 'lon': 37.478983},\n",
       "  {'type': 'node', 'id': 429375745, 'lat': 55.8403538, 'lon': 37.4725865},\n",
       "  {'type': 'node',\n",
       "   'id': 430041492,\n",
       "   'lat': 55.7924329,\n",
       "   'lon': 37.5899695,\n",
       "   'tags': {'highway': 'traffic_signals'}},\n",
       "  {'type': 'node', 'id': 431191543, 'lat': 56.002657, 'lon': 37.7909997},\n",
       "  {'type': 'node', 'id': 431191545, 'lat': 56.0047609, 'lon': 37.7968376},\n",
       "  {'type': 'node', 'id': 431191546, 'lat': 56.0054096, 'lon': 37.7973464},\n",
       "  {'type': 'node', 'id': 431191547, 'lat': 56.0061526, 'lon': 37.7994322},\n",
       "  {'type': 'node', 'id': 431191548, 'lat': 56.0093202, 'lon': 37.7989178},\n",
       "  {'type': 'node', 'id': 434434842, 'lat': 55.8268374, 'lon': 37.4835307},\n",
       "  {'type': 'node', 'id': 434434843, 'lat': 55.8267077, 'lon': 37.4842849},\n",
       "  {'type': 'node', 'id': 434483002, 'lat': 55.8269306, 'lon': 37.4828442},\n",
       "  {'type': 'node', 'id': 437970749, 'lat': 55.7861203, 'lon': 37.6672894},\n",
       "  {'type': 'node', 'id': 437970754, 'lat': 55.7870345, 'lon': 37.66254},\n",
       "  {'type': 'node', 'id': 442548168, 'lat': 56.0097028, 'lon': 37.7985143},\n",
       "  {'type': 'node', 'id': 442548708, 'lat': 55.8564419, 'lon': 37.7774058},\n",
       "  {'type': 'node', 'id': 442725710, 'lat': 55.8972972, 'lon': 37.5072164},\n",
       "  {'type': 'node', 'id': 442977712, 'lat': 55.7824453, 'lon': 37.6858873},\n",
       "  {'type': 'node', 'id': 442977714, 'lat': 55.7825747, 'lon': 37.685813},\n",
       "  {'type': 'node', 'id': 442977716, 'lat': 55.7840196, 'lon': 37.6783088},\n",
       "  {'type': 'node', 'id': 450158916, 'lat': 55.1421745, 'lon': 37.0456319},\n",
       "  {'type': 'node', 'id': 450182336, 'lat': 55.4389602, 'lon': 37.1500939},\n",
       "  {'type': 'node', 'id': 450182424, 'lat': 55.4395122, 'lon': 37.1084991},\n",
       "  {'type': 'node', 'id': 450182928, 'lat': 55.1862534, 'lon': 36.9797655},\n",
       "  {'type': 'node', 'id': 450182932, 'lat': 55.186091, 'lon': 36.9806303},\n",
       "  {'type': 'node', 'id': 450182935, 'lat': 55.186116, 'lon': 36.9810681},\n",
       "  {'type': 'node', 'id': 450182938, 'lat': 55.1854098, 'lon': 36.9810243},\n",
       "  {'type': 'node', 'id': 450182942, 'lat': 55.1847286, 'lon': 36.9809915},\n",
       "  {'type': 'node', 'id': 450182949, 'lat': 55.1832037, 'lon': 36.9814403},\n",
       "  {'type': 'node', 'id': 450182952, 'lat': 55.1822849, 'lon': 36.9815935},\n",
       "  {'type': 'node', 'id': 450182956, 'lat': 55.1804662, 'lon': 36.9826115},\n",
       "  {'type': 'node', 'id': 450182959, 'lat': 55.1810474, 'lon': 36.9838266},\n",
       "  {'type': 'node', 'id': 450182963, 'lat': 55.1808974, 'lon': 36.9852605},\n",
       "  {'type': 'node', 'id': 450182971, 'lat': 55.1816912, 'lon': 36.990263},\n",
       "  {'type': 'node', 'id': 450182979, 'lat': 55.1826724, 'lon': 36.9912153},\n",
       "  {'type': 'node', 'id': 450182987, 'lat': 55.1822287, 'lon': 36.995134},\n",
       "  {'type': 'node', 'id': 450182994, 'lat': 55.1804912, 'lon': 36.99636},\n",
       "  {'type': 'node', 'id': 450183003, 'lat': 55.1814224, 'lon': 37.0033218},\n",
       "  {'type': 'node', 'id': 450183007, 'lat': 55.180652, 'lon': 36.9983819},\n",
       "  {'type': 'node', 'id': 450183011, 'lat': 55.1807162, 'lon': 37.0069012},\n",
       "  {'type': 'node', 'id': 450183017, 'lat': 55.1815099, 'lon': 37.0075252},\n",
       "  {'type': 'node', 'id': 450183042, 'lat': 55.1833315, 'lon': 37.0103878},\n",
       "  {'type': 'node', 'id': 450183049, 'lat': 55.1828315, 'lon': 37.0082314},\n",
       "  {'type': 'node', 'id': 450183056, 'lat': 55.1829503, 'lon': 37.0197139},\n",
       "  {'type': 'node', 'id': 450183065, 'lat': 55.1772688, 'lon': 37.0180939},\n",
       "  {'type': 'node', 'id': 450183069, 'lat': 55.1765937, 'lon': 37.0146568},\n",
       "  {'type': 'node', 'id': 450183081, 'lat': 55.2166115, 'lon': 36.9572593},\n",
       "  {'type': 'node', 'id': 450183085, 'lat': 55.2134141, 'lon': 36.9623803},\n",
       "  {'type': 'node', 'id': 450183088, 'lat': 55.2123669, 'lon': 36.9621688},\n",
       "  {'type': 'node', 'id': 450183092, 'lat': 55.2149835, 'lon': 36.9600924},\n",
       "  {'type': 'node', 'id': 450183097, 'lat': 55.2141413, 'lon': 36.9622748},\n",
       "  {'type': 'node', 'id': 450183099, 'lat': 55.2109361, 'lon': 36.9640409},\n",
       "  {'type': 'node', 'id': 450183103, 'lat': 55.2099642, 'lon': 36.9629503},\n",
       "  {'type': 'node', 'id': 450183105, 'lat': 55.2122551, 'lon': 36.9630311},\n",
       "  {'type': 'node', 'id': 450183108, 'lat': 55.2119494, 'lon': 36.9646003},\n",
       "  {'type': 'node', 'id': 450183114, 'lat': 55.2096038, 'lon': 36.9627733},\n",
       "  {'type': 'node', 'id': 450183117, 'lat': 55.2089772, 'lon': 36.9616364},\n",
       "  {'type': 'node', 'id': 450183119, 'lat': 55.200997, 'lon': 36.9666855},\n",
       "  {'type': 'node', 'id': 450183122, 'lat': 55.2025022, 'lon': 36.9663012},\n",
       "  {'type': 'node', 'id': 450183126, 'lat': 55.203586, 'lon': 36.9662318},\n",
       "  {'type': 'node', 'id': 450183129, 'lat': 55.2053499, 'lon': 36.9663044},\n",
       "  {'type': 'node', 'id': 450183135, 'lat': 55.19847, 'lon': 36.9690566},\n",
       "  {'type': 'node', 'id': 450183139, 'lat': 55.1997366, 'lon': 36.9670967},\n",
       "  {'type': 'node', 'id': 450183143, 'lat': 55.1910523, 'lon': 36.9750289},\n",
       "  {'type': 'node', 'id': 450183146, 'lat': 55.1920271, 'lon': 36.9738279},\n",
       "  {'type': 'node', 'id': 450183153, 'lat': 55.1954763, 'lon': 36.971173},\n",
       "  {'type': 'node', 'id': 450183157, 'lat': 55.1886165, 'lon': 36.9767334},\n",
       "  {'type': 'node', 'id': 450183165, 'lat': 55.1895425, 'lon': 36.9757102},\n",
       "  {'type': 'node', 'id': 450183168, 'lat': 55.1903448, 'lon': 36.9752051},\n",
       "  {'type': 'node', 'id': 450183253, 'lat': 55.1611199, 'lon': 37.0198904},\n",
       "  {'type': 'node', 'id': 450183257, 'lat': 55.1601772, 'lon': 37.0185474},\n",
       "  {'type': 'node', 'id': 450183259, 'lat': 55.167195, 'lon': 37.0198202},\n",
       "  {'type': 'node', 'id': 450183263, 'lat': 55.1714944, 'lon': 37.0194652},\n",
       "  {'type': 'node', 'id': 450183266, 'lat': 55.1689537, 'lon': 37.0192303},\n",
       "  {'type': 'node', 'id': 450183269, 'lat': 55.1742308, 'lon': 37.0182362},\n",
       "  {'type': 'node', 'id': 450183271, 'lat': 55.1729636, 'lon': 37.0192618},\n",
       "  {'type': 'node', 'id': 450183274, 'lat': 55.1501468, 'lon': 37.0279371},\n",
       "  {'type': 'node', 'id': 450183277, 'lat': 55.148647, 'lon': 37.0309138},\n",
       "  {'type': 'node', 'id': 450183281, 'lat': 55.1555999, 'lon': 37.0232266},\n",
       "  {'type': 'node', 'id': 450183284, 'lat': 55.1526132, 'lon': 37.0274341},\n",
       "  {'type': 'node', 'id': 450183290, 'lat': 55.1560649, 'lon': 37.0208478},\n",
       "  {'type': 'node', 'id': 450183293, 'lat': 55.1599986, 'lon': 37.0152269},\n",
       "  {'type': 'node', 'id': 450183296, 'lat': 55.1575885, 'lon': 37.0181058},\n",
       "  {'type': 'node', 'id': 450183302, 'lat': 55.1428498, 'lon': 37.041524},\n",
       "  {'type': 'node', 'id': 450183305, 'lat': 55.1425215, 'lon': 37.0392054},\n",
       "  {'type': 'node', 'id': 450183310, 'lat': 55.1460157, 'lon': 37.0378396},\n",
       "  {'type': 'node', 'id': 450183313, 'lat': 55.147703, 'lon': 37.0325737},\n",
       "  {'type': 'node', 'id': 450183317, 'lat': 55.1481244, 'lon': 37.0322169},\n",
       "  {'type': 'node', 'id': 450183519, 'lat': 55.2246956, 'lon': 36.9496407},\n",
       "  {'type': 'node', 'id': 450183524, 'lat': 55.2235781, 'lon': 36.9475583},\n",
       "  {'type': 'node', 'id': 450183528, 'lat': 55.2239704, 'lon': 36.9481228},\n",
       "  {'type': 'node', 'id': 450183530, 'lat': 55.2267812, 'lon': 36.9480559},\n",
       "  {'type': 'node', 'id': 450183533, 'lat': 55.2278003, 'lon': 36.9471149},\n",
       "  {'type': 'node', 'id': 450183536, 'lat': 55.2248671, 'lon': 36.9495966},\n",
       "  {'type': 'node', 'id': 450183539, 'lat': 55.2259452, 'lon': 36.9486662},\n",
       "  {'type': 'node', 'id': 450183549, 'lat': 55.2307229, 'lon': 36.9458295},\n",
       "  {'type': 'node', 'id': 450183555, 'lat': 55.4837651, 'lon': 37.5777803},\n",
       "  {'type': 'node', 'id': 450183557, 'lat': 55.2287351, 'lon': 36.9467311},\n",
       "  {'type': 'node', 'id': 450183566, 'lat': 55.2294515, 'lon': 36.9463168},\n",
       "  {'type': 'node', 'id': 450183574, 'lat': 55.2321353, 'lon': 36.9470101},\n",
       "  {'type': 'node', 'id': 450183581, 'lat': 55.2328744, 'lon': 36.9477926},\n",
       "  {'type': 'node', 'id': 450183590, 'lat': 55.231378, 'lon': 36.9459449},\n",
       "  {'type': 'node', 'id': 450183627, 'lat': 55.2221053, 'lon': 36.9469775},\n",
       "  {'type': 'node', 'id': 450183635, 'lat': 55.2203112, 'lon': 36.9484587},\n",
       "  {'type': 'node', 'id': 450183650, 'lat': 55.2228045, 'lon': 36.9458962},\n",
       "  {'type': 'node', 'id': 450183658, 'lat': 55.2224439, 'lon': 36.946344},\n",
       "  {'type': 'node', 'id': 450183666, 'lat': 55.2413907, 'lon': 36.9372397},\n",
       "  {'type': 'node', 'id': 450183771, 'lat': 55.2343118, 'lon': 36.9488563},\n",
       "  {'type': 'node', 'id': 450183775, 'lat': 55.2333192, 'lon': 36.9480327},\n",
       "  {'type': 'node', 'id': 450183779, 'lat': 55.2356424, 'lon': 36.9489336},\n",
       "  {'type': 'node', 'id': 450183783, 'lat': 55.2351167, 'lon': 36.949031},\n",
       "  {'type': 'node', 'id': 450183787, 'lat': 55.2382617, 'lon': 36.9501322},\n",
       "  {'type': 'node', 'id': 450183790, 'lat': 55.236975, 'lon': 36.9494871},\n",
       "  {'type': 'node', 'id': 450183792, 'lat': 55.2402372, 'lon': 36.9494394},\n",
       "  {'type': 'node', 'id': 450183795, 'lat': 55.2387804, 'lon': 36.949803},\n",
       "  {'type': 'node', 'id': 450183797, 'lat': 55.2413959, 'lon': 36.9467799},\n",
       "  {'type': 'node', 'id': 450183802, 'lat': 55.2414142, 'lon': 36.9449046},\n",
       "  {'type': 'node', 'id': 450183805, 'lat': 55.2416936, 'lon': 36.9414029},\n",
       "  {'type': 'node', 'id': 450183811, 'lat': 55.2415049, 'lon': 36.9398902},\n",
       "  {'type': 'node', 'id': 450183992, 'lat': 55.487418, 'lon': 37.5654849},\n",
       "  {'type': 'node', 'id': 450190090, 'lat': 55.7879188, 'lon': 37.3706192},\n",
       "  {'type': 'node', 'id': 450190091, 'lat': 55.7884336, 'lon': 37.3704513},\n",
       "  {'type': 'node', 'id': 450267400, 'lat': 55.647437, 'lon': 37.2523226},\n",
       "  {'type': 'node', 'id': 450267415, 'lat': 55.5473838, 'lon': 37.3518053},\n",
       "  {'type': 'node', 'id': 450268559, 'lat': 55.509733, 'lon': 37.3180584},\n",
       "  {'type': 'node', 'id': 450268808, 'lat': 55.5863538, 'lon': 37.2656566},\n",
       "  {'type': 'node',\n",
       "   'id': 452206799,\n",
       "   'lat': 55.7208385,\n",
       "   'lon': 37.9456503,\n",
       "   'tags': {'note': 'стык с участком новой границы Москвы (вокруг Некрасовки и Люберецких полей)'}},\n",
       "  {'type': 'node', 'id': 452313250, 'lat': 55.7792395, 'lon': 37.8431377},\n",
       "  {'type': 'node', 'id': 458206890, 'lat': 55.7280648, 'lon': 37.6805216},\n",
       "  {'type': 'node', 'id': 469288072, 'lat': 55.6041719, 'lon': 37.1564946},\n",
       "  {'type': 'node', 'id': 472383744, 'lat': 55.7285142, 'lon': 37.64996},\n",
       "  {'type': 'node', 'id': 474883710, 'lat': 55.8236553, 'lon': 37.8724735},\n",
       "  {'type': 'node', 'id': 474883739, 'lat': 55.8290255, 'lon': 37.6715749},\n",
       "  {'type': 'node', 'id': 474883977, 'lat': 55.8203831, 'lon': 37.6685894},\n",
       "  {'type': 'node', 'id': 474891996, 'lat': 55.8529241, 'lon': 37.7216393},\n",
       "  {'type': 'node', 'id': 474891998, 'lat': 55.8514226, 'lon': 37.719405},\n",
       "  {'type': 'node', 'id': 474891999, 'lat': 55.8475046, 'lon': 37.7104244},\n",
       "  {'type': 'node', 'id': 474896445, 'lat': 55.8701542, 'lon': 37.7158133},\n",
       "  {'type': 'node', 'id': 476913288, 'lat': 55.7312948, 'lon': 37.6636607},\n",
       "  {'type': 'node', 'id': 480477706, 'lat': 55.7492638, 'lon': 37.4369216},\n",
       "  {'type': 'node', 'id': 480479316, 'lat': 55.7525846, 'lon': 37.5185027},\n",
       "  {'type': 'node', 'id': 480972817, 'lat': 55.7292622, 'lon': 37.3771112},\n",
       "  {'type': 'node', 'id': 480982647, 'lat': 55.7730269, 'lon': 37.3702616},\n",
       "  {'type': 'node', 'id': 480989525, 'lat': 55.775665, 'lon': 37.4100321},\n",
       "  {'type': 'node', 'id': 481008739, 'lat': 55.7102802, 'lon': 37.5592321},\n",
       "  {'type': 'node', 'id': 481012876, 'lat': 55.7086148, 'lon': 37.5570247},\n",
       "  {'type': 'node', 'id': 481012883, 'lat': 55.7065306, 'lon': 37.5541494},\n",
       "  {'type': 'node', 'id': 481012889, 'lat': 55.7007463, 'lon': 37.546313},\n",
       "  {'type': 'node', 'id': 481012891, 'lat': 55.6935632, 'lon': 37.5365712},\n",
       "  {'type': 'node', 'id': 481012892, 'lat': 55.6930988, 'lon': 37.5357473},\n",
       "  {'type': 'node', 'id': 481012897, 'lat': 55.6797306, 'lon': 37.5116624},\n",
       "  {'type': 'node', 'id': 481021632, 'lat': 55.6556312, 'lon': 37.4956144},\n",
       "  {'type': 'node', 'id': 481021668, 'lat': 55.6708846, 'lon': 37.5200937},\n",
       "  {'type': 'node', 'id': 481021867, 'lat': 55.6633808, 'lon': 37.5089576},\n",
       "  {'type': 'node', 'id': 481021869, 'lat': 55.6585246, 'lon': 37.5016534},\n",
       "  {'type': 'node', 'id': 481021873, 'lat': 55.649537, 'lon': 37.4826333},\n",
       "  {'type': 'node',\n",
       "   'id': 481260726,\n",
       "   'lat': 55.6370488,\n",
       "   'lon': 37.4557187,\n",
       "   'tags': {'note': 'Точка отсутствует в описании границ соответствующих муниципальных образований Московской области и добавлена исключительно для разграничения муниципальных образований города Москвы'}},\n",
       "  {'type': 'node', 'id': 481262238, 'lat': 55.6475145, 'lon': 37.4782007},\n",
       "  {'type': 'node', 'id': 481262257, 'lat': 55.6407043, 'lon': 37.4637211},\n",
       "  {'type': 'node', 'id': 494748408, 'lat': 55.7101071, 'lon': 37.0229192},\n",
       "  {'type': 'node', 'id': 494748419, 'lat': 55.7069193, 'lon': 37.0206459},\n",
       "  {'type': 'node', 'id': 494748420, 'lat': 55.7084159, 'lon': 37.0207248},\n",
       "  {'type': 'node', 'id': 494748421, 'lat': 55.7090155, 'lon': 37.0234357},\n",
       "  {'type': 'node', 'id': 494748422, 'lat': 55.7095857, 'lon': 37.0242523},\n",
       "  {'type': 'node', 'id': 495617682, 'lat': 55.7520988, 'lon': 37.4455712},\n",
       "  {'type': 'node', 'id': 506434821, 'lat': 55.6737182, 'lon': 37.5240014},\n",
       "  {'type': 'node', 'id': 506521506, 'lat': 55.7233176, 'lon': 37.6379143},\n",
       "  {'type': 'node', 'id': 527143896, 'lat': 55.9057959, 'lon': 37.5270259},\n",
       "  {'type': 'node', 'id': 528926601, 'lat': 55.8652653, 'lon': 37.7078357},\n",
       "  {'type': 'node', 'id': 528926644, 'lat': 55.8698022, 'lon': 37.7152321},\n",
       "  {'type': 'node', 'id': 528926691, 'lat': 55.8732215, 'lon': 37.7210818},\n",
       "  {'type': 'node', 'id': 528965899, 'lat': 55.7956631, 'lon': 37.638266},\n",
       "  {'type': 'node', 'id': 530674650, 'lat': 55.6788002, 'lon': 37.7072419},\n",
       "  {'type': 'node', 'id': 534428901, 'lat': 55.781899, 'lon': 37.6882667},\n",
       "  {'type': 'node', 'id': 534428904, 'lat': 55.781899, 'lon': 37.6925588},\n",
       "  {'type': 'node', 'id': 537587230, 'lat': 55.7875239, 'lon': 37.6600296},\n",
       "  {'type': 'node', 'id': 537587233, 'lat': 55.7873338, 'lon': 37.6610588},\n",
       "  {'type': 'node', 'id': 537587341, 'lat': 55.7893694, 'lon': 37.6515215},\n",
       "  {'type': 'node', 'id': 537587357, 'lat': 55.7928653, 'lon': 37.6501964},\n",
       "  {'type': 'node', 'id': 537587360, 'lat': 55.7938594, 'lon': 37.6504231},\n",
       "  {'type': 'node', 'id': 537587361, 'lat': 55.7932355, 'lon': 37.6502965},\n",
       "  {'type': 'node', 'id': 537587384, 'lat': 55.7942122, 'lon': 37.6504648},\n",
       "  {'type': 'node', 'id': 537983463, 'lat': 55.7212583, 'lon': 37.6119208},\n",
       "  {'type': 'node', 'id': 540345993, 'lat': 55.7540014, 'lon': 37.672941},\n",
       "  {'type': 'node', 'id': 540345996, 'lat': 55.7550845, 'lon': 37.6722576},\n",
       "  {'type': 'node', 'id': 540346105, 'lat': 55.7583782, 'lon': 37.6707731},\n",
       "  {'type': 'node', 'id': 540346170, 'lat': 55.7593289, 'lon': 37.6730154},\n",
       "  {'type': 'node', 'id': 540346176, 'lat': 55.75929, 'lon': 37.6751216},\n",
       "  {'type': 'node', 'id': 540346361, 'lat': 55.7590725, 'lon': 37.6802155},\n",
       "  {'type': 'node', 'id': 540346363, 'lat': 55.7593123, 'lon': 37.6818025},\n",
       "  {'type': 'node', 'id': 544523105, 'lat': 55.7835245, 'lon': 37.6093395},\n",
       "  {'type': 'node',\n",
       "   'id': 544523121,\n",
       "   'lat': 55.7561162,\n",
       "   'lon': 37.6716849,\n",
       "   'tags': {'seamark:type': 'gate', 'waterway': 'lock_gate'}},\n",
       "  {'type': 'node',\n",
       "   'id': 544523122,\n",
       "   'lat': 55.7566258,\n",
       "   'lon': 37.6713575,\n",
       "   'tags': {'maxheight': '6',\n",
       "    'seamark:type': 'gate',\n",
       "    'waterway': 'lock_gate'}},\n",
       "  {'type': 'node', 'id': 560857949, 'lat': 55.8647584, 'lon': 37.7072119},\n",
       "  {'type': 'node', 'id': 560857950, 'lat': 55.8644903, 'lon': 37.7068126},\n",
       "  {'type': 'node', 'id': 560857952, 'lat': 55.8653369, 'lon': 37.7079241},\n",
       "  {'type': 'node', 'id': 560857956, 'lat': 55.8655185, 'lon': 37.7076994},\n",
       "  {'type': 'node', 'id': 582741378, 'lat': 55.7925924, 'lon': 37.5881085},\n",
       "  {'type': 'node', 'id': 582966767, 'lat': 55.815122, 'lon': 37.8913971},\n",
       "  {'type': 'node', 'id': 582966851, 'lat': 55.8207548, 'lon': 37.8879567},\n",
       "  {'type': 'node', 'id': 582966852, 'lat': 55.8144776, 'lon': 37.8927549},\n",
       "  {'type': 'node', 'id': 582966853, 'lat': 55.8143136, 'lon': 37.8932133},\n",
       "  {'type': 'node', 'id': 582966855, 'lat': 55.8145736, 'lon': 37.8923994},\n",
       "  {'type': 'node', 'id': 582966856, 'lat': 55.814851, 'lon': 37.8918957},\n",
       "  {'type': 'node', 'id': 582966857, 'lat': 55.8139535, 'lon': 37.896431},\n",
       "  {'type': 'node', 'id': 582966859, 'lat': 55.8139771, 'lon': 37.8967299},\n",
       "  {'type': 'node', 'id': 582966950, 'lat': 55.8141923, 'lon': 37.8976594},\n",
       "  ...]}"
      ]
     },
     "execution_count": 189,
     "metadata": {},
     "output_type": "execute_result"
    }
   ],
   "source": [
    "overpass_url = \"http://overpass-api.de/api/interpreter\"\n",
    "response = requests.get(overpass_url, params={'data': overpass_query})\n",
    "response.json()"
   ]
  },
  {
   "cell_type": "code",
   "execution_count": 93,
   "id": "fe73287c",
   "metadata": {
    "ExecuteTime": {
     "end_time": "2021-09-17T08:45:01.722780Z",
     "start_time": "2021-09-17T08:45:01.687703Z"
    }
   },
   "outputs": [
    {
     "data": {
      "text/plain": [
       "{'node', 'relation', 'way'}"
      ]
     },
     "execution_count": 93,
     "metadata": {},
     "output_type": "execute_result"
    }
   ],
   "source": [
    "set([i['type'] for i in response.json()['elements']])"
   ]
  },
  {
   "cell_type": "code",
   "execution_count": 327,
   "id": "86629465",
   "metadata": {
    "ExecuteTime": {
     "end_time": "2021-09-20T13:23:38.467867Z",
     "start_time": "2021-09-20T13:23:38.416488Z"
    }
   },
   "outputs": [],
   "source": [
    "dict_response = response.json()"
   ]
  },
  {
   "cell_type": "code",
   "execution_count": 346,
   "id": "a518fb94",
   "metadata": {
    "ExecuteTime": {
     "end_time": "2021-09-20T13:35:07.811140Z",
     "start_time": "2021-09-20T13:35:07.806463Z"
    }
   },
   "outputs": [
    {
     "data": {
      "text/plain": [
       "{'type': 'way',\n",
       " 'id': 23680719,\n",
       " 'bounds': {'minlat': 55.7668408,\n",
       "  'minlon': 37.6975025,\n",
       "  'maxlat': 55.7671332,\n",
       "  'maxlon': 37.6979331},\n",
       " 'nodes': [256417132, 249684220],\n",
       " 'geometry': [{'lat': 55.7668408, 'lon': 37.6975025},\n",
       "  {'lat': 55.7671332, 'lon': 37.6979331}],\n",
       " 'tags': {'highway': 'secondary',\n",
       "  'lanes': '2',\n",
       "  'lit': 'yes',\n",
       "  'name': 'Госпитальная площадь',\n",
       "  'oneway': 'no',\n",
       "  'surface': 'asphalt'}}"
      ]
     },
     "execution_count": 346,
     "metadata": {},
     "output_type": "execute_result"
    }
   ],
   "source": [
    "dict_response['elements'][13717]"
   ]
  },
  {
   "cell_type": "code",
   "execution_count": 349,
   "id": "4a7c0696",
   "metadata": {
    "ExecuteTime": {
     "end_time": "2021-09-20T13:36:53.017172Z",
     "start_time": "2021-09-20T13:36:52.821973Z"
    },
    "scrolled": true
   },
   "outputs": [],
   "source": [
    "for way in dict_response['elements']:\n",
    "    \n",
    "    if way['type']=='way':\n",
    "        line = LineString([(node['lon'],node['lat']) for node in way['geometry']]) # \n",
    "        lss.append(line) # сохраняем координаты в линию  -linestring\n",
    "\n",
    "\n",
    "merged = linemerge([*lss]) # соединяем все линии\n",
    "borders = unary_union(merged)#объединяет linestrings в multistring\n",
    "\n",
    "polygons = list(polygonize(borders))"
   ]
  },
  {
   "cell_type": "code",
   "execution_count": 359,
   "id": "8d36072c",
   "metadata": {
    "ExecuteTime": {
     "end_time": "2021-09-20T13:44:39.699788Z",
     "start_time": "2021-09-20T13:44:39.696340Z"
    }
   },
   "outputs": [],
   "source": [
    "gdf_zones_url= pd.Series(polygons, index=range(len(polygons))).to_frame()\n",
    "gdf_zones_url.columns=['geometry']"
   ]
  },
  {
   "cell_type": "code",
   "execution_count": 361,
   "id": "8066c7bc",
   "metadata": {
    "ExecuteTime": {
     "end_time": "2021-09-20T13:45:16.691176Z",
     "start_time": "2021-09-20T13:45:16.666375Z"
    }
   },
   "outputs": [],
   "source": [
    "gdf_zones_url =gpd.GeoDataFrame(gdf_zones_url, crs='epsg:4326', geometry='geometry')"
   ]
  },
  {
   "cell_type": "code",
   "execution_count": 362,
   "id": "97050ff0",
   "metadata": {
    "ExecuteTime": {
     "end_time": "2021-09-20T13:45:23.759185Z",
     "start_time": "2021-09-20T13:45:23.627815Z"
    }
   },
   "outputs": [
    {
     "data": {
      "text/plain": [
       "<AxesSubplot:>"
      ]
     },
     "execution_count": 362,
     "metadata": {},
     "output_type": "execute_result"
    },
    {
     "data": {
      "image/png": "[encoded data removed]",
      "text/plain": [
       "<Figure size 432x288 with 1 Axes>"
      ]
     },
     "metadata": {
      "needs_background": "light"
     },
     "output_type": "display_data"
    }
   ],
   "source": [
    "gdf_zones_url.plot()"
   ]
  },
  {
   "cell_type": "markdown",
   "id": "af66bee6",
   "metadata": {},
   "source": [
    "#### Загрузка файла geojson из overpass turbo c помощью библиотеки geopandas"
   ]
  },
  {
   "cell_type": "code",
   "execution_count": 101,
   "id": "6d09bbd7",
   "metadata": {
    "ExecuteTime": {
     "end_time": "2021-09-17T08:55:01.959338Z",
     "start_time": "2021-09-17T08:55:01.528818Z"
    }
   },
   "outputs": [],
   "source": [
    "# ссылка на overpass turbo - https://overpass-turbo.eu/\n",
    "#\n",
    "# Скрипт на выгрузку: \n",
    "# [out:json];\n",
    "# area[\"name:ru\"=\"Москва\"];\n",
    "# (\n",
    "# rel[\"boundary\"=\"administrative\"][\"admin_level\"=\"5\"]\n",
    "# (area);\n",
    "# );\n",
    "#  /*added by auto repair*/\n",
    "#  (._;>;);\n",
    "#  /*end of auto repair*/\n",
    "#  out;"
   ]
  },
  {
   "cell_type": "code",
   "execution_count": null,
   "id": "1a4c0bb2",
   "metadata": {},
   "outputs": [],
   "source": [
    "df_moscow_borders = gpd.read_file('moscow_borders.geojson')"
   ]
  },
  {
   "cell_type": "code",
   "execution_count": 102,
   "id": "ac23caf4",
   "metadata": {
    "ExecuteTime": {
     "end_time": "2021-09-17T08:55:14.763879Z",
     "start_time": "2021-09-17T08:55:14.646004Z"
    },
    "scrolled": true
   },
   "outputs": [
    {
     "data": {
      "text/html": [
       "<div>\n",
       "<style scoped>\n",
       "    .dataframe tbody tr th:only-of-type {\n",
       "        vertical-align: middle;\n",
       "    }\n",
       "\n",
       "    .dataframe tbody tr th {\n",
       "        vertical-align: top;\n",
       "    }\n",
       "\n",
       "    .dataframe thead th {\n",
       "        text-align: right;\n",
       "    }\n",
       "</style>\n",
       "<table border=\"1\" class=\"dataframe\">\n",
       "  <thead>\n",
       "    <tr style=\"text-align: right;\">\n",
       "      <th></th>\n",
       "      <th>id</th>\n",
       "      <th>@id</th>\n",
       "      <th>addr:country</th>\n",
       "      <th>addr:region</th>\n",
       "      <th>admin_level</th>\n",
       "      <th>boundary</th>\n",
       "      <th>name</th>\n",
       "      <th>name:be</th>\n",
       "      <th>name:de</th>\n",
       "      <th>name:en</th>\n",
       "      <th>...</th>\n",
       "      <th>public_transport</th>\n",
       "      <th>material</th>\n",
       "      <th>wheelchair</th>\n",
       "      <th>train</th>\n",
       "      <th>transport</th>\n",
       "      <th>network</th>\n",
       "      <th>traffic_signals:direction</th>\n",
       "      <th>amenity</th>\n",
       "      <th>motor_vehicle</th>\n",
       "      <th>geometry</th>\n",
       "    </tr>\n",
       "  </thead>\n",
       "  <tbody>\n",
       "    <tr>\n",
       "      <th>0</th>\n",
       "      <td>relation/162903</td>\n",
       "      <td>relation/162903</td>\n",
       "      <td>RU</td>\n",
       "      <td>Москва</td>\n",
       "      <td>5</td>\n",
       "      <td>administrative</td>\n",
       "      <td>Северный административный округ</td>\n",
       "      <td>Паўночная адміністрацыйная акруга</td>\n",
       "      <td>Nördlicher Verwaltungsbezirk</td>\n",
       "      <td>Northern Administrative Okrug</td>\n",
       "      <td>...</td>\n",
       "      <td>None</td>\n",
       "      <td>None</td>\n",
       "      <td>None</td>\n",
       "      <td>None</td>\n",
       "      <td>None</td>\n",
       "      <td>None</td>\n",
       "      <td>None</td>\n",
       "      <td>None</td>\n",
       "      <td>None</td>\n",
       "      <td>MULTIPOLYGON (((37.39002 55.91284, 37.39426 55...</td>\n",
       "    </tr>\n",
       "    <tr>\n",
       "      <th>1</th>\n",
       "      <td>relation/226149</td>\n",
       "      <td>relation/226149</td>\n",
       "      <td>RU</td>\n",
       "      <td>Москва</td>\n",
       "      <td>5</td>\n",
       "      <td>administrative</td>\n",
       "      <td>Западный административный округ</td>\n",
       "      <td>Заходняя адміністрацыйная акруга</td>\n",
       "      <td>Westlicher Verwaltungsbezirk</td>\n",
       "      <td>Western Administrative Okrug</td>\n",
       "      <td>...</td>\n",
       "      <td>None</td>\n",
       "      <td>None</td>\n",
       "      <td>None</td>\n",
       "      <td>None</td>\n",
       "      <td>None</td>\n",
       "      <td>None</td>\n",
       "      <td>None</td>\n",
       "      <td>None</td>\n",
       "      <td>None</td>\n",
       "      <td>MULTIPOLYGON (((36.91270 55.74751, 36.90939 55...</td>\n",
       "    </tr>\n",
       "    <tr>\n",
       "      <th>2</th>\n",
       "      <td>relation/446092</td>\n",
       "      <td>relation/446092</td>\n",
       "      <td>RU</td>\n",
       "      <td>Москва</td>\n",
       "      <td>5</td>\n",
       "      <td>administrative</td>\n",
       "      <td>Северо-Западный административный округ</td>\n",
       "      <td>Паўночна-заходняя адміністрацыйная акруга</td>\n",
       "      <td>Nordwestlicher Verwaltungsbezirk</td>\n",
       "      <td>North-Western Administrative Okrug</td>\n",
       "      <td>...</td>\n",
       "      <td>None</td>\n",
       "      <td>None</td>\n",
       "      <td>None</td>\n",
       "      <td>None</td>\n",
       "      <td>None</td>\n",
       "      <td>None</td>\n",
       "      <td>None</td>\n",
       "      <td>None</td>\n",
       "      <td>None</td>\n",
       "      <td>POLYGON ((37.38505 55.80931, 37.38496 55.80906...</td>\n",
       "    </tr>\n",
       "    <tr>\n",
       "      <th>3</th>\n",
       "      <td>relation/1252558</td>\n",
       "      <td>relation/1252558</td>\n",
       "      <td>RU</td>\n",
       "      <td>Москва</td>\n",
       "      <td>5</td>\n",
       "      <td>administrative</td>\n",
       "      <td>Северо-Восточный административный округ</td>\n",
       "      <td>Паўночна-усходняя адміністрацыйная акруга</td>\n",
       "      <td>Nordöstlicher Verwaltungsbezirk</td>\n",
       "      <td>North-Eastern Administrative Okrug</td>\n",
       "      <td>...</td>\n",
       "      <td>None</td>\n",
       "      <td>None</td>\n",
       "      <td>None</td>\n",
       "      <td>None</td>\n",
       "      <td>None</td>\n",
       "      <td>None</td>\n",
       "      <td>None</td>\n",
       "      <td>None</td>\n",
       "      <td>None</td>\n",
       "      <td>POLYGON ((37.58811 55.79259, 37.58822 55.79257...</td>\n",
       "    </tr>\n",
       "    <tr>\n",
       "      <th>4</th>\n",
       "      <td>relation/1278703</td>\n",
       "      <td>relation/1278703</td>\n",
       "      <td>RU</td>\n",
       "      <td>Москва</td>\n",
       "      <td>5</td>\n",
       "      <td>administrative</td>\n",
       "      <td>Юго-Восточный административный округ</td>\n",
       "      <td>Паўднёва-усходняя адміністрацыйная акруга</td>\n",
       "      <td>Südöstlicher Verwaltungsbezirk</td>\n",
       "      <td>South-Eastern Administrative Okrug</td>\n",
       "      <td>...</td>\n",
       "      <td>None</td>\n",
       "      <td>None</td>\n",
       "      <td>None</td>\n",
       "      <td>None</td>\n",
       "      <td>None</td>\n",
       "      <td>None</td>\n",
       "      <td>None</td>\n",
       "      <td>None</td>\n",
       "      <td>None</td>\n",
       "      <td>MULTIPOLYGON (((37.96522 55.70970, 37.96597 55...</td>\n",
       "    </tr>\n",
       "  </tbody>\n",
       "</table>\n",
       "<p>5 rows × 113 columns</p>\n",
       "</div>"
      ],
      "text/plain": [
       "                 id               @id addr:country addr:region admin_level  \\\n",
       "0   relation/162903   relation/162903           RU      Москва           5   \n",
       "1   relation/226149   relation/226149           RU      Москва           5   \n",
       "2   relation/446092   relation/446092           RU      Москва           5   \n",
       "3  relation/1252558  relation/1252558           RU      Москва           5   \n",
       "4  relation/1278703  relation/1278703           RU      Москва           5   \n",
       "\n",
       "         boundary                                     name  \\\n",
       "0  administrative          Северный административный округ   \n",
       "1  administrative          Западный административный округ   \n",
       "2  administrative   Северо-Западный административный округ   \n",
       "3  administrative  Северо-Восточный административный округ   \n",
       "4  administrative     Юго-Восточный административный округ   \n",
       "\n",
       "                                     name:be  \\\n",
       "0          Паўночная адміністрацыйная акруга   \n",
       "1           Заходняя адміністрацыйная акруга   \n",
       "2  Паўночна-заходняя адміністрацыйная акруга   \n",
       "3  Паўночна-усходняя адміністрацыйная акруга   \n",
       "4  Паўднёва-усходняя адміністрацыйная акруга   \n",
       "\n",
       "                            name:de                             name:en  ...  \\\n",
       "0      Nördlicher Verwaltungsbezirk       Northern Administrative Okrug  ...   \n",
       "1      Westlicher Verwaltungsbezirk        Western Administrative Okrug  ...   \n",
       "2  Nordwestlicher Verwaltungsbezirk  North-Western Administrative Okrug  ...   \n",
       "3   Nordöstlicher Verwaltungsbezirk  North-Eastern Administrative Okrug  ...   \n",
       "4    Südöstlicher Verwaltungsbezirk  South-Eastern Administrative Okrug  ...   \n",
       "\n",
       "  public_transport material wheelchair train transport network  \\\n",
       "0             None     None       None  None      None    None   \n",
       "1             None     None       None  None      None    None   \n",
       "2             None     None       None  None      None    None   \n",
       "3             None     None       None  None      None    None   \n",
       "4             None     None       None  None      None    None   \n",
       "\n",
       "  traffic_signals:direction amenity motor_vehicle  \\\n",
       "0                      None    None          None   \n",
       "1                      None    None          None   \n",
       "2                      None    None          None   \n",
       "3                      None    None          None   \n",
       "4                      None    None          None   \n",
       "\n",
       "                                            geometry  \n",
       "0  MULTIPOLYGON (((37.39002 55.91284, 37.39426 55...  \n",
       "1  MULTIPOLYGON (((36.91270 55.74751, 36.90939 55...  \n",
       "2  POLYGON ((37.38505 55.80931, 37.38496 55.80906...  \n",
       "3  POLYGON ((37.58811 55.79259, 37.58822 55.79257...  \n",
       "4  MULTIPOLYGON (((37.96522 55.70970, 37.96597 55...  \n",
       "\n",
       "[5 rows x 113 columns]"
      ]
     },
     "execution_count": 102,
     "metadata": {},
     "output_type": "execute_result"
    }
   ],
   "source": [
    "df_moscow_borders.head()"
   ]
  },
  {
   "cell_type": "code",
   "execution_count": 106,
   "id": "160f4139",
   "metadata": {
    "ExecuteTime": {
     "end_time": "2021-09-17T08:56:01.470119Z",
     "start_time": "2021-09-17T08:56:01.466081Z"
    }
   },
   "outputs": [
    {
     "data": {
      "text/plain": [
       "geopandas.geodataframe.GeoDataFrame"
      ]
     },
     "execution_count": 106,
     "metadata": {},
     "output_type": "execute_result"
    }
   ],
   "source": [
    "type(df_moscow_borders)"
   ]
  },
  {
   "cell_type": "code",
   "execution_count": 109,
   "id": "29675aab",
   "metadata": {
    "ExecuteTime": {
     "end_time": "2021-09-17T08:59:21.664483Z",
     "start_time": "2021-09-17T08:59:21.648103Z"
    }
   },
   "outputs": [
    {
     "data": {
      "text/plain": [
       "<Geographic 2D CRS: EPSG:4326>\n",
       "Name: WGS 84\n",
       "Axis Info [ellipsoidal]:\n",
       "- Lat[north]: Geodetic latitude (degree)\n",
       "- Lon[east]: Geodetic longitude (degree)\n",
       "Area of Use:\n",
       "- name: World.\n",
       "- bounds: (-180.0, -90.0, 180.0, 90.0)\n",
       "Datum: World Geodetic System 1984 ensemble\n",
       "- Ellipsoid: WGS 84\n",
       "- Prime Meridian: Greenwich"
      ]
     },
     "execution_count": 109,
     "metadata": {},
     "output_type": "execute_result"
    }
   ],
   "source": [
    "df_moscow_borders.crs"
   ]
  },
  {
   "cell_type": "code",
   "execution_count": 113,
   "id": "25ef36b6",
   "metadata": {
    "ExecuteTime": {
     "end_time": "2021-09-17T08:59:57.110520Z",
     "start_time": "2021-09-17T08:59:56.867074Z"
    }
   },
   "outputs": [
    {
     "data": {
      "text/plain": [
       "<AxesSubplot:>"
      ]
     },
     "execution_count": 113,
     "metadata": {},
     "output_type": "execute_result"
    },
    {
     "data": {
      "image/png": "[encoded data removed]",
      "text/plain": [
       "<Figure size 504x720 with 1 Axes>"
      ]
     },
     "metadata": {
      "needs_background": "light"
     },
     "output_type": "display_data"
    }
   ],
   "source": [
    "df_moscow_borders.plot(figsize=(7,10))"
   ]
  },
  {
   "cell_type": "code",
   "execution_count": 114,
   "id": "39545563",
   "metadata": {
    "ExecuteTime": {
     "end_time": "2021-09-17T09:00:30.850563Z",
     "start_time": "2021-09-17T09:00:30.822755Z"
    }
   },
   "outputs": [
    {
     "data": {
      "text/plain": [
       "0      MULTIPOLYGON (((37.39002 55.91284, 37.39426 55...\n",
       "1      MULTIPOLYGON (((36.91270 55.74751, 36.90939 55...\n",
       "2      POLYGON ((37.38505 55.80931, 37.38496 55.80906...\n",
       "3      POLYGON ((37.58811 55.79259, 37.58822 55.79257...\n",
       "4      MULTIPOLYGON (((37.96522 55.70970, 37.96597 55...\n",
       "                             ...                        \n",
       "657                            POINT (37.71879 55.85899)\n",
       "658                            POINT (37.71763 55.86062)\n",
       "659                            POINT (37.66404 55.78674)\n",
       "660                            POINT (37.69700 55.73365)\n",
       "661                            POINT (37.61162 55.72129)\n",
       "Name: geometry, Length: 662, dtype: geometry"
      ]
     },
     "execution_count": 114,
     "metadata": {},
     "output_type": "execute_result"
    }
   ],
   "source": [
    "df_moscow_borders.geometry"
   ]
  },
  {
   "cell_type": "markdown",
   "id": "eafcc525",
   "metadata": {},
   "source": [
    "#### Вычисляем площадь округов"
   ]
  },
  {
   "cell_type": "code",
   "execution_count": 115,
   "id": "ca0cfc7e",
   "metadata": {
    "ExecuteTime": {
     "end_time": "2021-09-17T09:00:54.102050Z",
     "start_time": "2021-09-17T09:00:54.077929Z"
    }
   },
   "outputs": [
    {
     "name": "stderr",
     "output_type": "stream",
     "text": [
      "/usr/local/lib/python3.7/dist-packages/ipykernel_launcher.py:1: UserWarning: Geometry is in a geographic CRS. Results from 'area' are likely incorrect. Use 'GeoSeries.to_crs()' to re-project geometries to a projected CRS before this operation.\n",
      "\n",
      "  \"\"\"Entry point for launching an IPython kernel.\n"
     ]
    },
    {
     "data": {
      "text/plain": [
       "0      0.014678\n",
       "1      0.027710\n",
       "2      0.013363\n",
       "3      0.014593\n",
       "4      0.017554\n",
       "         ...   \n",
       "657    0.000000\n",
       "658    0.000000\n",
       "659    0.000000\n",
       "660    0.000000\n",
       "661    0.000000\n",
       "Length: 662, dtype: float64"
      ]
     },
     "execution_count": 115,
     "metadata": {},
     "output_type": "execute_result"
    }
   ],
   "source": [
    "df_moscow_borders.area"
   ]
  },
  {
   "cell_type": "code",
   "execution_count": 116,
   "id": "2fdb4401",
   "metadata": {
    "ExecuteTime": {
     "end_time": "2021-09-17T09:01:27.273825Z",
     "start_time": "2021-09-17T09:01:27.112627Z"
    }
   },
   "outputs": [],
   "source": [
    "df_moscow_borders_mercator  = df_moscow_borders.to_crs('epsg:32637')# меняем проекцию для корректного расчета расстояний"
   ]
  },
  {
   "cell_type": "code",
   "execution_count": 126,
   "id": "ad7c70b7",
   "metadata": {
    "ExecuteTime": {
     "end_time": "2021-09-17T09:05:00.794876Z",
     "start_time": "2021-09-17T09:05:00.760038Z"
    }
   },
   "outputs": [
    {
     "data": {
      "text/plain": [
       "0      MULTIPOLYGON (((399367.992 6197550.523, 399637...\n",
       "1      MULTIPOLYGON (((368982.988 6179951.805, 368777...\n",
       "2      POLYGON ((398788.735 6186036.314, 398782.094 6...\n",
       "3      POLYGON ((411475.701 6183898.179, 411482.512 6...\n",
       "4      MULTIPOLYGON (((434981.373 6174256.121, 435029...\n",
       "                             ...                        \n",
       "657                       POINT (419805.216 6191128.184)\n",
       "658                       POINT (419736.228 6191310.795)\n",
       "659                       POINT (416223.489 6183152.288)\n",
       "660                       POINT (418179.348 6177204.668)\n",
       "661                       POINT (412790.987 6175933.282)\n",
       "Name: geometry, Length: 662, dtype: geometry"
      ]
     },
     "execution_count": 126,
     "metadata": {},
     "output_type": "execute_result"
    }
   ],
   "source": [
    "df_moscow_borders_mercator.geometry"
   ]
  },
  {
   "cell_type": "code",
   "execution_count": 118,
   "id": "15295fa5",
   "metadata": {
    "ExecuteTime": {
     "end_time": "2021-09-17T09:01:50.051153Z",
     "start_time": "2021-09-17T09:01:50.047451Z"
    }
   },
   "outputs": [],
   "source": [
    "df_moscow_borders['area']=df_moscow_borders_mercator.area"
   ]
  },
  {
   "cell_type": "code",
   "execution_count": 125,
   "id": "6407dafa",
   "metadata": {
    "ExecuteTime": {
     "end_time": "2021-09-17T09:04:27.475230Z",
     "start_time": "2021-09-17T09:04:27.468524Z"
    }
   },
   "outputs": [
    {
     "data": {
      "text/plain": [
       "0.000000e+00    651\n",
       "1.022907e+08      1\n",
       "1.938412e+08      1\n",
       "9.320501e+07      1\n",
       "1.016699e+08      1\n",
       "1.228264e+08      1\n",
       "1.315037e+08      1\n",
       "1.112913e+08      1\n",
       "1.547547e+08      1\n",
       "6.616221e+07      1\n",
       "3.595210e+08      1\n",
       "1.087381e+09      1\n",
       "Name: area, dtype: int64"
      ]
     },
     "execution_count": 125,
     "metadata": {},
     "output_type": "execute_result"
    }
   ],
   "source": [
    "df_moscow_borders['area'].value_counts() # в геометрии есть точки, вершины границ округов, которые нужно убрать"
   ]
  },
  {
   "cell_type": "code",
   "execution_count": 127,
   "id": "c437b37f",
   "metadata": {
    "ExecuteTime": {
     "end_time": "2021-09-17T09:05:28.345393Z",
     "start_time": "2021-09-17T09:05:28.327036Z"
    }
   },
   "outputs": [],
   "source": [
    "df_moscow_borders = df_moscow_borders[df_moscow_borders['area']>0]"
   ]
  },
  {
   "cell_type": "code",
   "execution_count": 363,
   "id": "0daeba65",
   "metadata": {
    "ExecuteTime": {
     "end_time": "2021-09-20T13:49:19.077531Z",
     "start_time": "2021-09-20T13:49:18.896035Z"
    }
   },
   "outputs": [
    {
     "data": {
      "text/plain": [
       "<AxesSubplot:>"
      ]
     },
     "execution_count": 363,
     "metadata": {},
     "output_type": "execute_result"
    },
    {
     "data": {
      "image/png": "[encoded data removed]",
      "text/plain": [
       "<Figure size 504x720 with 1 Axes>"
      ]
     },
     "metadata": {
      "needs_background": "light"
     },
     "output_type": "display_data"
    }
   ],
   "source": [
    "df_moscow_borders.plot(figsize=(7,10),column='area', cmap='Reds')# визуализируем, раскрашивая по размеру площади"
   ]
  },
  {
   "cell_type": "markdown",
   "id": "6afae3a2",
   "metadata": {},
   "source": [
    "#### Загружаем супермаркеты"
   ]
  },
  {
   "cell_type": "code",
   "execution_count": 367,
   "id": "cb211f0f",
   "metadata": {
    "ExecuteTime": {
     "end_time": "2021-09-20T13:52:08.184794Z",
     "start_time": "2021-09-20T13:52:02.524100Z"
    },
    "scrolled": true
   },
   "outputs": [],
   "source": [
    "query_sups=\"\"\"area[\"name\"='Москва'];\n",
    "        (\n",
    "            node['shop'='supermarket'](area);\n",
    "        );\n",
    "        out;\n",
    "        \"\"\"\n",
    "result1 = api.query(query_sups)"
   ]
  },
  {
   "cell_type": "code",
   "execution_count": 368,
   "id": "fa0c3ef4",
   "metadata": {
    "ExecuteTime": {
     "end_time": "2021-09-20T13:52:10.538492Z",
     "start_time": "2021-09-20T13:52:10.464870Z"
    }
   },
   "outputs": [],
   "source": [
    "gdf_stores = gpd.GeoDataFrame([ Point(x.lon, x.lat) for x in result1.nodes])\n",
    "gdf_stores.columns=['geometry']"
   ]
  },
  {
   "cell_type": "code",
   "execution_count": 369,
   "id": "e8f2c85b",
   "metadata": {
    "ExecuteTime": {
     "end_time": "2021-09-20T13:52:18.588849Z",
     "start_time": "2021-09-20T13:52:18.579955Z"
    }
   },
   "outputs": [
    {
     "data": {
      "text/html": [
       "<div>\n",
       "<style scoped>\n",
       "    .dataframe tbody tr th:only-of-type {\n",
       "        vertical-align: middle;\n",
       "    }\n",
       "\n",
       "    .dataframe tbody tr th {\n",
       "        vertical-align: top;\n",
       "    }\n",
       "\n",
       "    .dataframe thead th {\n",
       "        text-align: right;\n",
       "    }\n",
       "</style>\n",
       "<table border=\"1\" class=\"dataframe\">\n",
       "  <thead>\n",
       "    <tr style=\"text-align: right;\">\n",
       "      <th></th>\n",
       "      <th>geometry</th>\n",
       "    </tr>\n",
       "  </thead>\n",
       "  <tbody>\n",
       "    <tr>\n",
       "      <th>0</th>\n",
       "      <td>POINT (37.20753 55.99511)</td>\n",
       "    </tr>\n",
       "    <tr>\n",
       "      <th>1</th>\n",
       "      <td>POINT (37.83734 55.81149)</td>\n",
       "    </tr>\n",
       "    <tr>\n",
       "      <th>2</th>\n",
       "      <td>POINT (37.75046 55.67314)</td>\n",
       "    </tr>\n",
       "    <tr>\n",
       "      <th>3</th>\n",
       "      <td>POINT (37.45849 55.71639)</td>\n",
       "    </tr>\n",
       "    <tr>\n",
       "      <th>4</th>\n",
       "      <td>POINT (37.46136 55.71902)</td>\n",
       "    </tr>\n",
       "  </tbody>\n",
       "</table>\n",
       "</div>"
      ],
      "text/plain": [
       "                    geometry\n",
       "0  POINT (37.20753 55.99511)\n",
       "1  POINT (37.83734 55.81149)\n",
       "2  POINT (37.75046 55.67314)\n",
       "3  POINT (37.45849 55.71639)\n",
       "4  POINT (37.46136 55.71902)"
      ]
     },
     "execution_count": 369,
     "metadata": {},
     "output_type": "execute_result"
    }
   ],
   "source": [
    "gdf_stores.head()"
   ]
  },
  {
   "cell_type": "markdown",
   "id": "d38f2612",
   "metadata": {},
   "source": [
    "Задаем систему координат"
   ]
  },
  {
   "cell_type": "code",
   "execution_count": 168,
   "id": "abfd86d8",
   "metadata": {
    "ExecuteTime": {
     "end_time": "2021-09-17T09:31:09.337955Z",
     "start_time": "2021-09-17T09:31:09.335379Z"
    }
   },
   "outputs": [],
   "source": [
    "gdf_stores.crs"
   ]
  },
  {
   "cell_type": "code",
   "execution_count": 370,
   "id": "b69abc7b",
   "metadata": {
    "ExecuteTime": {
     "end_time": "2021-09-20T13:52:27.643933Z",
     "start_time": "2021-09-20T13:52:27.535784Z"
    }
   },
   "outputs": [],
   "source": [
    "gdf_stores = gdf_stores.set_crs('epsg:4326')"
   ]
  },
  {
   "cell_type": "code",
   "execution_count": 371,
   "id": "80826b0e",
   "metadata": {
    "ExecuteTime": {
     "end_time": "2021-09-20T13:52:28.252095Z",
     "start_time": "2021-09-20T13:52:28.235477Z"
    }
   },
   "outputs": [
    {
     "data": {
      "text/plain": [
       "<Geographic 2D CRS: EPSG:4326>\n",
       "Name: WGS 84\n",
       "Axis Info [ellipsoidal]:\n",
       "- Lat[north]: Geodetic latitude (degree)\n",
       "- Lon[east]: Geodetic longitude (degree)\n",
       "Area of Use:\n",
       "- name: World.\n",
       "- bounds: (-180.0, -90.0, 180.0, 90.0)\n",
       "Datum: World Geodetic System 1984 ensemble\n",
       "- Ellipsoid: WGS 84\n",
       "- Prime Meridian: Greenwich"
      ]
     },
     "execution_count": 371,
     "metadata": {},
     "output_type": "execute_result"
    }
   ],
   "source": [
    "gdf_stores.crs"
   ]
  },
  {
   "cell_type": "markdown",
   "id": "f8f1b005",
   "metadata": {},
   "source": [
    "Сцепляем округа и магазины"
   ]
  },
  {
   "cell_type": "code",
   "execution_count": 372,
   "id": "84af9d51",
   "metadata": {
    "ExecuteTime": {
     "end_time": "2021-09-20T13:52:35.881610Z",
     "start_time": "2021-09-20T13:52:35.716152Z"
    }
   },
   "outputs": [],
   "source": [
    "gdf_msc_regions_shops = gpd.sjoin(df_moscow_borders, gdf_stores, op='contains', how='left')"
   ]
  },
  {
   "cell_type": "code",
   "execution_count": 373,
   "id": "5792c4e4",
   "metadata": {
    "ExecuteTime": {
     "end_time": "2021-09-20T13:52:45.005230Z",
     "start_time": "2021-09-20T13:52:44.889928Z"
    }
   },
   "outputs": [
    {
     "data": {
      "text/html": [
       "<div>\n",
       "<style scoped>\n",
       "    .dataframe tbody tr th:only-of-type {\n",
       "        vertical-align: middle;\n",
       "    }\n",
       "\n",
       "    .dataframe tbody tr th {\n",
       "        vertical-align: top;\n",
       "    }\n",
       "\n",
       "    .dataframe thead th {\n",
       "        text-align: right;\n",
       "    }\n",
       "</style>\n",
       "<table border=\"1\" class=\"dataframe\">\n",
       "  <thead>\n",
       "    <tr style=\"text-align: right;\">\n",
       "      <th></th>\n",
       "      <th>id</th>\n",
       "      <th>@id</th>\n",
       "      <th>addr:country</th>\n",
       "      <th>addr:region</th>\n",
       "      <th>admin_level</th>\n",
       "      <th>boundary</th>\n",
       "      <th>name</th>\n",
       "      <th>name:be</th>\n",
       "      <th>name:de</th>\n",
       "      <th>name:en</th>\n",
       "      <th>...</th>\n",
       "      <th>wheelchair</th>\n",
       "      <th>train</th>\n",
       "      <th>transport</th>\n",
       "      <th>network</th>\n",
       "      <th>traffic_signals:direction</th>\n",
       "      <th>amenity</th>\n",
       "      <th>motor_vehicle</th>\n",
       "      <th>geometry</th>\n",
       "      <th>area</th>\n",
       "      <th>index_right</th>\n",
       "    </tr>\n",
       "  </thead>\n",
       "  <tbody>\n",
       "    <tr>\n",
       "      <th>0</th>\n",
       "      <td>relation/162903</td>\n",
       "      <td>relation/162903</td>\n",
       "      <td>RU</td>\n",
       "      <td>Москва</td>\n",
       "      <td>5</td>\n",
       "      <td>administrative</td>\n",
       "      <td>Северный административный округ</td>\n",
       "      <td>Паўночная адміністрацыйная акруга</td>\n",
       "      <td>Nördlicher Verwaltungsbezirk</td>\n",
       "      <td>Northern Administrative Okrug</td>\n",
       "      <td>...</td>\n",
       "      <td>None</td>\n",
       "      <td>None</td>\n",
       "      <td>None</td>\n",
       "      <td>None</td>\n",
       "      <td>None</td>\n",
       "      <td>None</td>\n",
       "      <td>None</td>\n",
       "      <td>MULTIPOLYGON (((37.39002 55.91284, 37.39426 55...</td>\n",
       "      <td>1.022907e+08</td>\n",
       "      <td>1949</td>\n",
       "    </tr>\n",
       "    <tr>\n",
       "      <th>0</th>\n",
       "      <td>relation/162903</td>\n",
       "      <td>relation/162903</td>\n",
       "      <td>RU</td>\n",
       "      <td>Москва</td>\n",
       "      <td>5</td>\n",
       "      <td>administrative</td>\n",
       "      <td>Северный административный округ</td>\n",
       "      <td>Паўночная адміністрацыйная акруга</td>\n",
       "      <td>Nördlicher Verwaltungsbezirk</td>\n",
       "      <td>Northern Administrative Okrug</td>\n",
       "      <td>...</td>\n",
       "      <td>None</td>\n",
       "      <td>None</td>\n",
       "      <td>None</td>\n",
       "      <td>None</td>\n",
       "      <td>None</td>\n",
       "      <td>None</td>\n",
       "      <td>None</td>\n",
       "      <td>MULTIPOLYGON (((37.39002 55.91284, 37.39426 55...</td>\n",
       "      <td>1.022907e+08</td>\n",
       "      <td>777</td>\n",
       "    </tr>\n",
       "    <tr>\n",
       "      <th>0</th>\n",
       "      <td>relation/162903</td>\n",
       "      <td>relation/162903</td>\n",
       "      <td>RU</td>\n",
       "      <td>Москва</td>\n",
       "      <td>5</td>\n",
       "      <td>administrative</td>\n",
       "      <td>Северный административный округ</td>\n",
       "      <td>Паўночная адміністрацыйная акруга</td>\n",
       "      <td>Nördlicher Verwaltungsbezirk</td>\n",
       "      <td>Northern Administrative Okrug</td>\n",
       "      <td>...</td>\n",
       "      <td>None</td>\n",
       "      <td>None</td>\n",
       "      <td>None</td>\n",
       "      <td>None</td>\n",
       "      <td>None</td>\n",
       "      <td>None</td>\n",
       "      <td>None</td>\n",
       "      <td>MULTIPOLYGON (((37.39002 55.91284, 37.39426 55...</td>\n",
       "      <td>1.022907e+08</td>\n",
       "      <td>704</td>\n",
       "    </tr>\n",
       "    <tr>\n",
       "      <th>0</th>\n",
       "      <td>relation/162903</td>\n",
       "      <td>relation/162903</td>\n",
       "      <td>RU</td>\n",
       "      <td>Москва</td>\n",
       "      <td>5</td>\n",
       "      <td>administrative</td>\n",
       "      <td>Северный административный округ</td>\n",
       "      <td>Паўночная адміністрацыйная акруга</td>\n",
       "      <td>Nördlicher Verwaltungsbezirk</td>\n",
       "      <td>Northern Administrative Okrug</td>\n",
       "      <td>...</td>\n",
       "      <td>None</td>\n",
       "      <td>None</td>\n",
       "      <td>None</td>\n",
       "      <td>None</td>\n",
       "      <td>None</td>\n",
       "      <td>None</td>\n",
       "      <td>None</td>\n",
       "      <td>MULTIPOLYGON (((37.39002 55.91284, 37.39426 55...</td>\n",
       "      <td>1.022907e+08</td>\n",
       "      <td>2318</td>\n",
       "    </tr>\n",
       "    <tr>\n",
       "      <th>0</th>\n",
       "      <td>relation/162903</td>\n",
       "      <td>relation/162903</td>\n",
       "      <td>RU</td>\n",
       "      <td>Москва</td>\n",
       "      <td>5</td>\n",
       "      <td>administrative</td>\n",
       "      <td>Северный административный округ</td>\n",
       "      <td>Паўночная адміністрацыйная акруга</td>\n",
       "      <td>Nördlicher Verwaltungsbezirk</td>\n",
       "      <td>Northern Administrative Okrug</td>\n",
       "      <td>...</td>\n",
       "      <td>None</td>\n",
       "      <td>None</td>\n",
       "      <td>None</td>\n",
       "      <td>None</td>\n",
       "      <td>None</td>\n",
       "      <td>None</td>\n",
       "      <td>None</td>\n",
       "      <td>MULTIPOLYGON (((37.39002 55.91284, 37.39426 55...</td>\n",
       "      <td>1.022907e+08</td>\n",
       "      <td>1814</td>\n",
       "    </tr>\n",
       "  </tbody>\n",
       "</table>\n",
       "<p>5 rows × 115 columns</p>\n",
       "</div>"
      ],
      "text/plain": [
       "                id              @id addr:country addr:region admin_level  \\\n",
       "0  relation/162903  relation/162903           RU      Москва           5   \n",
       "0  relation/162903  relation/162903           RU      Москва           5   \n",
       "0  relation/162903  relation/162903           RU      Москва           5   \n",
       "0  relation/162903  relation/162903           RU      Москва           5   \n",
       "0  relation/162903  relation/162903           RU      Москва           5   \n",
       "\n",
       "         boundary                             name  \\\n",
       "0  administrative  Северный административный округ   \n",
       "0  administrative  Северный административный округ   \n",
       "0  administrative  Северный административный округ   \n",
       "0  administrative  Северный административный округ   \n",
       "0  administrative  Северный административный округ   \n",
       "\n",
       "                             name:be                       name:de  \\\n",
       "0  Паўночная адміністрацыйная акруга  Nördlicher Verwaltungsbezirk   \n",
       "0  Паўночная адміністрацыйная акруга  Nördlicher Verwaltungsbezirk   \n",
       "0  Паўночная адміністрацыйная акруга  Nördlicher Verwaltungsbezirk   \n",
       "0  Паўночная адміністрацыйная акруга  Nördlicher Verwaltungsbezirk   \n",
       "0  Паўночная адміністрацыйная акруга  Nördlicher Verwaltungsbezirk   \n",
       "\n",
       "                         name:en  ... wheelchair train transport network  \\\n",
       "0  Northern Administrative Okrug  ...       None  None      None    None   \n",
       "0  Northern Administrative Okrug  ...       None  None      None    None   \n",
       "0  Northern Administrative Okrug  ...       None  None      None    None   \n",
       "0  Northern Administrative Okrug  ...       None  None      None    None   \n",
       "0  Northern Administrative Okrug  ...       None  None      None    None   \n",
       "\n",
       "  traffic_signals:direction amenity motor_vehicle  \\\n",
       "0                      None    None          None   \n",
       "0                      None    None          None   \n",
       "0                      None    None          None   \n",
       "0                      None    None          None   \n",
       "0                      None    None          None   \n",
       "\n",
       "                                            geometry          area index_right  \n",
       "0  MULTIPOLYGON (((37.39002 55.91284, 37.39426 55...  1.022907e+08        1949  \n",
       "0  MULTIPOLYGON (((37.39002 55.91284, 37.39426 55...  1.022907e+08         777  \n",
       "0  MULTIPOLYGON (((37.39002 55.91284, 37.39426 55...  1.022907e+08         704  \n",
       "0  MULTIPOLYGON (((37.39002 55.91284, 37.39426 55...  1.022907e+08        2318  \n",
       "0  MULTIPOLYGON (((37.39002 55.91284, 37.39426 55...  1.022907e+08        1814  \n",
       "\n",
       "[5 rows x 115 columns]"
      ]
     },
     "execution_count": 373,
     "metadata": {},
     "output_type": "execute_result"
    }
   ],
   "source": [
    "gdf_msc_regions_shops.head()"
   ]
  },
  {
   "cell_type": "code",
   "execution_count": 375,
   "id": "3df8e73c",
   "metadata": {
    "ExecuteTime": {
     "end_time": "2021-09-20T13:55:36.779256Z",
     "start_time": "2021-09-20T13:53:11.300488Z"
    }
   },
   "outputs": [],
   "source": [
    "gdf_msc_regions = gdf_msc_regions_shops[['name','area','id','geometry']].dissolve(by=['name','area'], aggfunc='count') # группируем по зонам для расчета числа магазинов"
   ]
  },
  {
   "cell_type": "code",
   "execution_count": 376,
   "id": "6235c8b6",
   "metadata": {
    "ExecuteTime": {
     "end_time": "2021-09-20T13:55:36.858652Z",
     "start_time": "2021-09-20T13:55:36.781155Z"
    }
   },
   "outputs": [
    {
     "data": {
      "text/html": [
       "<div>\n",
       "<style scoped>\n",
       "    .dataframe tbody tr th:only-of-type {\n",
       "        vertical-align: middle;\n",
       "    }\n",
       "\n",
       "    .dataframe tbody tr th {\n",
       "        vertical-align: top;\n",
       "    }\n",
       "\n",
       "    .dataframe thead th {\n",
       "        text-align: right;\n",
       "    }\n",
       "</style>\n",
       "<table border=\"1\" class=\"dataframe\">\n",
       "  <thead>\n",
       "    <tr style=\"text-align: right;\">\n",
       "      <th></th>\n",
       "      <th></th>\n",
       "      <th>geometry</th>\n",
       "      <th>id</th>\n",
       "    </tr>\n",
       "    <tr>\n",
       "      <th>name</th>\n",
       "      <th>area</th>\n",
       "      <th></th>\n",
       "      <th></th>\n",
       "    </tr>\n",
       "  </thead>\n",
       "  <tbody>\n",
       "    <tr>\n",
       "      <th>Восточный административный округ</th>\n",
       "      <th>1.547547e+08</th>\n",
       "      <td>MULTIPOLYGON (((37.84021 55.80614, 37.84041 55...</td>\n",
       "      <td>382</td>\n",
       "    </tr>\n",
       "    <tr>\n",
       "      <th>Западный административный округ</th>\n",
       "      <th>1.938412e+08</th>\n",
       "      <td>MULTIPOLYGON (((37.30716 55.61659, 37.30719 55...</td>\n",
       "      <td>272</td>\n",
       "    </tr>\n",
       "    <tr>\n",
       "      <th>Новомосковский административный округ</th>\n",
       "      <th>3.595210e+08</th>\n",
       "      <td>POLYGON ((37.20712 55.61779, 37.20516 55.61714...</td>\n",
       "      <td>108</td>\n",
       "    </tr>\n",
       "    <tr>\n",
       "      <th>Северный административный округ</th>\n",
       "      <th>1.022907e+08</th>\n",
       "      <td>MULTIPOLYGON (((37.50623 55.78031, 37.50570 55...</td>\n",
       "      <td>276</td>\n",
       "    </tr>\n",
       "    <tr>\n",
       "      <th>Северо-Восточный административный округ</th>\n",
       "      <th>1.016699e+08</th>\n",
       "      <td>POLYGON ((37.58467 55.79464, 37.58460 55.79472...</td>\n",
       "      <td>299</td>\n",
       "    </tr>\n",
       "  </tbody>\n",
       "</table>\n",
       "</div>"
      ],
      "text/plain": [
       "                                                                                               geometry  \\\n",
       "name                                    area                                                              \n",
       "Восточный административный округ        1.547547e+08  MULTIPOLYGON (((37.84021 55.80614, 37.84041 55...   \n",
       "Западный административный округ         1.938412e+08  MULTIPOLYGON (((37.30716 55.61659, 37.30719 55...   \n",
       "Новомосковский административный округ   3.595210e+08  POLYGON ((37.20712 55.61779, 37.20516 55.61714...   \n",
       "Северный административный округ         1.022907e+08  MULTIPOLYGON (((37.50623 55.78031, 37.50570 55...   \n",
       "Северо-Восточный административный округ 1.016699e+08  POLYGON ((37.58467 55.79464, 37.58460 55.79472...   \n",
       "\n",
       "                                                       id  \n",
       "name                                    area               \n",
       "Восточный административный округ        1.547547e+08  382  \n",
       "Западный административный округ         1.938412e+08  272  \n",
       "Новомосковский административный округ   3.595210e+08  108  \n",
       "Северный административный округ         1.022907e+08  276  \n",
       "Северо-Восточный административный округ 1.016699e+08  299  "
      ]
     },
     "execution_count": 376,
     "metadata": {},
     "output_type": "execute_result"
    }
   ],
   "source": [
    "gdf_msc_regions.head()"
   ]
  },
  {
   "cell_type": "code",
   "execution_count": 379,
   "id": "a749b85e",
   "metadata": {
    "ExecuteTime": {
     "end_time": "2021-09-20T14:06:42.546689Z",
     "start_time": "2021-09-20T14:06:42.542742Z"
    }
   },
   "outputs": [],
   "source": [
    "gdf_msc_regions.reset_index(inplace=True)"
   ]
  },
  {
   "cell_type": "code",
   "execution_count": 382,
   "id": "8cfde4f5",
   "metadata": {
    "ExecuteTime": {
     "end_time": "2021-09-20T14:07:46.303308Z",
     "start_time": "2021-09-20T14:07:46.298613Z"
    }
   },
   "outputs": [],
   "source": [
    "# плотность на 1 кв км\n",
    "gdf_msc_regions['density']=gdf_msc_regions['id']/gdf_msc_regions['area']/(10**(-6))"
   ]
  },
  {
   "cell_type": "code",
   "execution_count": 383,
   "id": "de0e1835",
   "metadata": {
    "ExecuteTime": {
     "end_time": "2021-09-20T14:07:49.609950Z",
     "start_time": "2021-09-20T14:07:49.347509Z"
    }
   },
   "outputs": [
    {
     "data": {
      "image/png": "[encoded data removed]",
      "text/plain": [
       "<Figure size 720x1080 with 2 Axes>"
      ]
     },
     "metadata": {
      "needs_background": "light"
     },
     "output_type": "display_data"
    }
   ],
   "source": [
    "gdf_msc_regions.plot(column='density', figsize=(10,15),legend=True);"
   ]
  },
  {
   "cell_type": "code",
   "execution_count": 182,
   "id": "33a7a45c",
   "metadata": {
    "ExecuteTime": {
     "end_time": "2021-09-17T16:30:46.471475Z",
     "start_time": "2021-09-17T16:30:46.225677Z"
    }
   },
   "outputs": [],
   "source": [
    "gdf_msc_regions.to_file('gdf_msc_regions.geojson', driver='GeoJSON')"
   ]
  },
  {
   "cell_type": "code",
   "execution_count": null,
   "id": "48dec64d",
   "metadata": {},
   "outputs": [],
   "source": []
  }
 ],
 "metadata": {
  "kernelspec": {
   "display_name": "Python 3",
   "language": "python",
   "name": "python3"
  },
  "language_info": {
   "codemirror_mode": {
    "name": "ipython",
    "version": 3
   },
   "file_extension": ".py",
   "mimetype": "text/x-python",
   "name": "python",
   "nbconvert_exporter": "python",
   "pygments_lexer": "ipython3",
   "version": "3.7.5"
  }
 },
 "nbformat": 4,
 "nbformat_minor": 5
}
